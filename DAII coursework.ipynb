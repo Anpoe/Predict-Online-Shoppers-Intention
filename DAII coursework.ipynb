{
 "cells": [
  {
   "cell_type": "markdown",
   "metadata": {
    "slideshow": {
     "slide_type": "slide"
    }
   },
   "source": [
    " # Online Shoppers Intention Data Study"
   ]
  },
  {
   "cell_type": "code",
   "execution_count": 1,
   "metadata": {
    "vscode": {
     "languageId": "r"
    }
   },
   "outputs": [
    {
     "name": "stderr",
     "output_type": "stream",
     "text": [
      "Warning message:\n",
      "\"package 'dplyr' was built under R version 3.6.3\"\n",
      "Attaching package: 'dplyr'\n",
      "\n",
      "The following objects are masked from 'package:plyr':\n",
      "\n",
      "    arrange, count, desc, failwith, id, mutate, rename, summarise,\n",
      "    summarize\n",
      "\n",
      "The following objects are masked from 'package:stats':\n",
      "\n",
      "    filter, lag\n",
      "\n",
      "The following objects are masked from 'package:base':\n",
      "\n",
      "    intersect, setdiff, setequal, union\n",
      "\n",
      "Warning message:\n",
      "\"package 'ellipse' was built under R version 3.6.3\"\n",
      "Attaching package: 'ellipse'\n",
      "\n",
      "The following object is masked from 'package:graphics':\n",
      "\n",
      "    pairs\n",
      "\n",
      "Warning message:\n",
      "\"package 'xgboost' was built under R version 3.6.3\"\n",
      "Attaching package: 'xgboost'\n",
      "\n",
      "The following object is masked from 'package:dplyr':\n",
      "\n",
      "    slice\n",
      "\n",
      "randomForest 4.6-14\n",
      "Type rfNews() to see new features/changes/bug fixes.\n",
      "\n",
      "Attaching package: 'randomForest'\n",
      "\n",
      "The following object is masked from 'package:ggplot2':\n",
      "\n",
      "    margin\n",
      "\n",
      "The following object is masked from 'package:dplyr':\n",
      "\n",
      "    combine\n",
      "\n",
      "Warning message:\n",
      "\"package 'lubridate' was built under R version 3.6.3\"\n",
      "Attaching package: 'lubridate'\n",
      "\n",
      "The following objects are masked from 'package:base':\n",
      "\n",
      "    date, intersect, setdiff, union\n",
      "\n",
      "Loading required package: foreach\n",
      "Loading required package: iterators\n",
      "Loading required package: snow\n",
      "\n",
      "Attaching package: 'parallel'\n",
      "\n",
      "The following objects are masked from 'package:snow':\n",
      "\n",
      "    clusterApply, clusterApplyLB, clusterCall, clusterEvalQ,\n",
      "    clusterExport, clusterMap, clusterSplit, makeCluster, parApply,\n",
      "    parCapply, parLapply, parRapply, parSapply, splitIndices,\n",
      "    stopCluster\n",
      "\n"
     ]
    }
   ],
   "source": [
    "# loading library by its rank\n",
    "library(plyr)\n",
    "library(dplyr)\n",
    "library(ggplot2)\n",
    "\n",
    "library(ellipse)\n",
    "library(RColorBrewer)\n",
    "\n",
    "library(xgboost)\n",
    "library(randomForest)\n",
    "library(lubridate)\n",
    "library(doSNOW)\n",
    "library(foreach)\n",
    "library(parallel)\n",
    "library(rpart)"
   ]
  },
  {
   "cell_type": "markdown",
   "metadata": {
    "slideshow": {
     "slide_type": "slide"
    }
   },
   "source": [
    "### **Step 1: Load the data in csv format**"
   ]
  },
  {
   "cell_type": "code",
   "execution_count": 2,
   "metadata": {
    "slideshow": {
     "slide_type": "slide"
    },
    "vscode": {
     "languageId": "r"
    }
   },
   "outputs": [],
   "source": [
    "# Load the online shoppers intention data.\n",
    "\n",
    "osi.df <- read.csv(\"online_shoppers_intention.csv\", header=TRUE)"
   ]
  },
  {
   "cell_type": "markdown",
   "metadata": {},
   "source": [
    "### **Step 2: Understanding the Data**"
   ]
  },
  {
   "cell_type": "code",
   "execution_count": 3,
   "metadata": {
    "slideshow": {
     "slide_type": "slide"
    },
    "vscode": {
     "languageId": "r"
    }
   },
   "outputs": [
    {
     "data": {
      "text/html": [
       "12330"
      ],
      "text/latex": [
       "12330"
      ],
      "text/markdown": [
       "12330"
      ],
      "text/plain": [
       "[1] 12330"
      ]
     },
     "metadata": {},
     "output_type": "display_data"
    }
   ],
   "source": [
    "# Check the number of rows in the online shoppers intention data.\n",
    "nrow(osi.df)"
   ]
  },
  {
   "cell_type": "code",
   "execution_count": 4,
   "metadata": {
    "vscode": {
     "languageId": "r"
    }
   },
   "outputs": [
    {
     "data": {
      "text/html": [
       "<table>\n",
       "<thead><tr><th scope=col>Administrative</th><th scope=col>Administrative_Duration</th><th scope=col>Informational</th><th scope=col>Informational_Duration</th><th scope=col>ProductRelated</th><th scope=col>ProductRelated_Duration</th><th scope=col>BounceRates</th><th scope=col>ExitRates</th><th scope=col>PageValues</th><th scope=col>SpecialDay</th><th scope=col>OperatingSystems</th><th scope=col>Browser</th><th scope=col>Region</th><th scope=col>TrafficType</th><th scope=col>VisitorType</th><th scope=col>Weekend</th><th scope=col>Month</th><th scope=col>Revenue</th></tr></thead>\n",
       "<tbody>\n",
       "\t<tr><td>0                </td><td>0                </td><td>0                </td><td>0                </td><td> 1               </td><td>  0.000000       </td><td>0.20000000       </td><td>0.2000000        </td><td>0                </td><td>0                </td><td>1                </td><td>1                </td><td>1                </td><td>1                </td><td>Returning_Visitor</td><td>FALSE            </td><td>Feb              </td><td>FALSE            </td></tr>\n",
       "\t<tr><td>0                </td><td>0                </td><td>0                </td><td>0                </td><td> 2               </td><td> 64.000000       </td><td>0.00000000       </td><td>0.1000000        </td><td>0                </td><td>0                </td><td>2                </td><td>2                </td><td>1                </td><td>2                </td><td>Returning_Visitor</td><td>FALSE            </td><td>Feb              </td><td>FALSE            </td></tr>\n",
       "\t<tr><td>0                </td><td>0                </td><td>0                </td><td>0                </td><td> 1               </td><td>  0.000000       </td><td>0.20000000       </td><td>0.2000000        </td><td>0                </td><td>0                </td><td>4                </td><td>1                </td><td>9                </td><td>3                </td><td>Returning_Visitor</td><td>FALSE            </td><td>Feb              </td><td>FALSE            </td></tr>\n",
       "\t<tr><td>0                </td><td>0                </td><td>0                </td><td>0                </td><td> 2               </td><td>  2.666667       </td><td>0.05000000       </td><td>0.1400000        </td><td>0                </td><td>0                </td><td>3                </td><td>2                </td><td>2                </td><td>4                </td><td>Returning_Visitor</td><td>FALSE            </td><td>Feb              </td><td>FALSE            </td></tr>\n",
       "\t<tr><td>0                </td><td>0                </td><td>0                </td><td>0                </td><td>10               </td><td>627.500000       </td><td>0.02000000       </td><td>0.0500000        </td><td>0                </td><td>0                </td><td>3                </td><td>3                </td><td>1                </td><td>4                </td><td>Returning_Visitor</td><td> TRUE            </td><td>Feb              </td><td>FALSE            </td></tr>\n",
       "\t<tr><td>0                </td><td>0                </td><td>0                </td><td>0                </td><td>19               </td><td>154.216667       </td><td>0.01578947       </td><td>0.0245614        </td><td>0                </td><td>0                </td><td>2                </td><td>2                </td><td>1                </td><td>3                </td><td>Returning_Visitor</td><td>FALSE            </td><td>Feb              </td><td>FALSE            </td></tr>\n",
       "</tbody>\n",
       "</table>\n"
      ],
      "text/latex": [
       "\\begin{tabular}{r|llllllllllllllllll}\n",
       " Administrative & Administrative\\_Duration & Informational & Informational\\_Duration & ProductRelated & ProductRelated\\_Duration & BounceRates & ExitRates & PageValues & SpecialDay & OperatingSystems & Browser & Region & TrafficType & VisitorType & Weekend & Month & Revenue\\\\\n",
       "\\hline\n",
       "\t 0                   & 0                   & 0                   & 0                   &  1                  &   0.000000          & 0.20000000          & 0.2000000           & 0                   & 0                   & 1                   & 1                   & 1                   & 1                   & Returning\\_Visitor & FALSE               & Feb                 & FALSE              \\\\\n",
       "\t 0                   & 0                   & 0                   & 0                   &  2                  &  64.000000          & 0.00000000          & 0.1000000           & 0                   & 0                   & 2                   & 2                   & 1                   & 2                   & Returning\\_Visitor & FALSE               & Feb                 & FALSE              \\\\\n",
       "\t 0                   & 0                   & 0                   & 0                   &  1                  &   0.000000          & 0.20000000          & 0.2000000           & 0                   & 0                   & 4                   & 1                   & 9                   & 3                   & Returning\\_Visitor & FALSE               & Feb                 & FALSE              \\\\\n",
       "\t 0                   & 0                   & 0                   & 0                   &  2                  &   2.666667          & 0.05000000          & 0.1400000           & 0                   & 0                   & 3                   & 2                   & 2                   & 4                   & Returning\\_Visitor & FALSE               & Feb                 & FALSE              \\\\\n",
       "\t 0                   & 0                   & 0                   & 0                   & 10                  & 627.500000          & 0.02000000          & 0.0500000           & 0                   & 0                   & 3                   & 3                   & 1                   & 4                   & Returning\\_Visitor &  TRUE               & Feb                 & FALSE              \\\\\n",
       "\t 0                   & 0                   & 0                   & 0                   & 19                  & 154.216667          & 0.01578947          & 0.0245614           & 0                   & 0                   & 2                   & 2                   & 1                   & 3                   & Returning\\_Visitor & FALSE               & Feb                 & FALSE              \\\\\n",
       "\\end{tabular}\n"
      ],
      "text/markdown": [
       "\n",
       "| Administrative | Administrative_Duration | Informational | Informational_Duration | ProductRelated | ProductRelated_Duration | BounceRates | ExitRates | PageValues | SpecialDay | OperatingSystems | Browser | Region | TrafficType | VisitorType | Weekend | Month | Revenue |\n",
       "|---|---|---|---|---|---|---|---|---|---|---|---|---|---|---|---|---|---|\n",
       "| 0                 | 0                 | 0                 | 0                 |  1                |   0.000000        | 0.20000000        | 0.2000000         | 0                 | 0                 | 1                 | 1                 | 1                 | 1                 | Returning_Visitor | FALSE             | Feb               | FALSE             |\n",
       "| 0                 | 0                 | 0                 | 0                 |  2                |  64.000000        | 0.00000000        | 0.1000000         | 0                 | 0                 | 2                 | 2                 | 1                 | 2                 | Returning_Visitor | FALSE             | Feb               | FALSE             |\n",
       "| 0                 | 0                 | 0                 | 0                 |  1                |   0.000000        | 0.20000000        | 0.2000000         | 0                 | 0                 | 4                 | 1                 | 9                 | 3                 | Returning_Visitor | FALSE             | Feb               | FALSE             |\n",
       "| 0                 | 0                 | 0                 | 0                 |  2                |   2.666667        | 0.05000000        | 0.1400000         | 0                 | 0                 | 3                 | 2                 | 2                 | 4                 | Returning_Visitor | FALSE             | Feb               | FALSE             |\n",
       "| 0                 | 0                 | 0                 | 0                 | 10                | 627.500000        | 0.02000000        | 0.0500000         | 0                 | 0                 | 3                 | 3                 | 1                 | 4                 | Returning_Visitor |  TRUE             | Feb               | FALSE             |\n",
       "| 0                 | 0                 | 0                 | 0                 | 19                | 154.216667        | 0.01578947        | 0.0245614         | 0                 | 0                 | 2                 | 2                 | 1                 | 3                 | Returning_Visitor | FALSE             | Feb               | FALSE             |\n",
       "\n"
      ],
      "text/plain": [
       "  Administrative Administrative_Duration Informational Informational_Duration\n",
       "1 0              0                       0             0                     \n",
       "2 0              0                       0             0                     \n",
       "3 0              0                       0             0                     \n",
       "4 0              0                       0             0                     \n",
       "5 0              0                       0             0                     \n",
       "6 0              0                       0             0                     \n",
       "  ProductRelated ProductRelated_Duration BounceRates ExitRates PageValues\n",
       "1  1               0.000000              0.20000000  0.2000000 0         \n",
       "2  2              64.000000              0.00000000  0.1000000 0         \n",
       "3  1               0.000000              0.20000000  0.2000000 0         \n",
       "4  2               2.666667              0.05000000  0.1400000 0         \n",
       "5 10             627.500000              0.02000000  0.0500000 0         \n",
       "6 19             154.216667              0.01578947  0.0245614 0         \n",
       "  SpecialDay OperatingSystems Browser Region TrafficType VisitorType      \n",
       "1 0          1                1       1      1           Returning_Visitor\n",
       "2 0          2                2       1      2           Returning_Visitor\n",
       "3 0          4                1       9      3           Returning_Visitor\n",
       "4 0          3                2       2      4           Returning_Visitor\n",
       "5 0          3                3       1      4           Returning_Visitor\n",
       "6 0          2                2       1      3           Returning_Visitor\n",
       "  Weekend Month Revenue\n",
       "1 FALSE   Feb   FALSE  \n",
       "2 FALSE   Feb   FALSE  \n",
       "3 FALSE   Feb   FALSE  \n",
       "4 FALSE   Feb   FALSE  \n",
       "5  TRUE   Feb   FALSE  \n",
       "6 FALSE   Feb   FALSE  "
      ]
     },
     "metadata": {},
     "output_type": "display_data"
    }
   ],
   "source": [
    "# show head\n",
    "head(osi.df)"
   ]
  },
  {
   "cell_type": "code",
   "execution_count": 5,
   "metadata": {
    "vscode": {
     "languageId": "r"
    }
   },
   "outputs": [
    {
     "data": {
      "text/html": [
       "<ol class=list-inline>\n",
       "\t<li>12330</li>\n",
       "\t<li>18</li>\n",
       "</ol>\n"
      ],
      "text/latex": [
       "\\begin{enumerate*}\n",
       "\\item 12330\n",
       "\\item 18\n",
       "\\end{enumerate*}\n"
      ],
      "text/markdown": [
       "1. 12330\n",
       "2. 18\n",
       "\n",
       "\n"
      ],
      "text/plain": [
       "[1] 12330    18"
      ]
     },
     "metadata": {},
     "output_type": "display_data"
    }
   ],
   "source": [
    "dim(osi.df)"
   ]
  },
  {
   "cell_type": "code",
   "execution_count": 6,
   "metadata": {
    "vscode": {
     "languageId": "r"
    }
   },
   "outputs": [
    {
     "data": {
      "text/html": [
       "<ol class=list-inline>\n",
       "\t<li>'Administrative'</li>\n",
       "\t<li>'Administrative_Duration'</li>\n",
       "\t<li>'Informational'</li>\n",
       "\t<li>'Informational_Duration'</li>\n",
       "\t<li>'ProductRelated'</li>\n",
       "\t<li>'ProductRelated_Duration'</li>\n",
       "\t<li>'BounceRates'</li>\n",
       "\t<li>'ExitRates'</li>\n",
       "\t<li>'PageValues'</li>\n",
       "\t<li>'SpecialDay'</li>\n",
       "\t<li>'OperatingSystems'</li>\n",
       "\t<li>'Browser'</li>\n",
       "\t<li>'Region'</li>\n",
       "\t<li>'TrafficType'</li>\n",
       "\t<li>'VisitorType'</li>\n",
       "\t<li>'Weekend'</li>\n",
       "\t<li>'Month'</li>\n",
       "\t<li>'Revenue'</li>\n",
       "</ol>\n"
      ],
      "text/latex": [
       "\\begin{enumerate*}\n",
       "\\item 'Administrative'\n",
       "\\item 'Administrative\\_Duration'\n",
       "\\item 'Informational'\n",
       "\\item 'Informational\\_Duration'\n",
       "\\item 'ProductRelated'\n",
       "\\item 'ProductRelated\\_Duration'\n",
       "\\item 'BounceRates'\n",
       "\\item 'ExitRates'\n",
       "\\item 'PageValues'\n",
       "\\item 'SpecialDay'\n",
       "\\item 'OperatingSystems'\n",
       "\\item 'Browser'\n",
       "\\item 'Region'\n",
       "\\item 'TrafficType'\n",
       "\\item 'VisitorType'\n",
       "\\item 'Weekend'\n",
       "\\item 'Month'\n",
       "\\item 'Revenue'\n",
       "\\end{enumerate*}\n"
      ],
      "text/markdown": [
       "1. 'Administrative'\n",
       "2. 'Administrative_Duration'\n",
       "3. 'Informational'\n",
       "4. 'Informational_Duration'\n",
       "5. 'ProductRelated'\n",
       "6. 'ProductRelated_Duration'\n",
       "7. 'BounceRates'\n",
       "8. 'ExitRates'\n",
       "9. 'PageValues'\n",
       "10. 'SpecialDay'\n",
       "11. 'OperatingSystems'\n",
       "12. 'Browser'\n",
       "13. 'Region'\n",
       "14. 'TrafficType'\n",
       "15. 'VisitorType'\n",
       "16. 'Weekend'\n",
       "17. 'Month'\n",
       "18. 'Revenue'\n",
       "\n",
       "\n"
      ],
      "text/plain": [
       " [1] \"Administrative\"          \"Administrative_Duration\"\n",
       " [3] \"Informational\"           \"Informational_Duration\" \n",
       " [5] \"ProductRelated\"          \"ProductRelated_Duration\"\n",
       " [7] \"BounceRates\"             \"ExitRates\"              \n",
       " [9] \"PageValues\"              \"SpecialDay\"             \n",
       "[11] \"OperatingSystems\"        \"Browser\"                \n",
       "[13] \"Region\"                  \"TrafficType\"            \n",
       "[15] \"VisitorType\"             \"Weekend\"                \n",
       "[17] \"Month\"                   \"Revenue\"                "
      ]
     },
     "metadata": {},
     "output_type": "display_data"
    }
   ],
   "source": [
    "names(osi.df)"
   ]
  },
  {
   "cell_type": "code",
   "execution_count": 7,
   "metadata": {
    "vscode": {
     "languageId": "r"
    }
   },
   "outputs": [
    {
     "data": {
      "text/plain": [
       " Administrative   Administrative_Duration Informational    \n",
       " Min.   : 0.000   Min.   :   0.00         Min.   : 0.0000  \n",
       " 1st Qu.: 0.000   1st Qu.:   0.00         1st Qu.: 0.0000  \n",
       " Median : 1.000   Median :   7.50         Median : 0.0000  \n",
       " Mean   : 2.315   Mean   :  80.82         Mean   : 0.5036  \n",
       " 3rd Qu.: 4.000   3rd Qu.:  93.26         3rd Qu.: 0.0000  \n",
       " Max.   :27.000   Max.   :3398.75         Max.   :24.0000  \n",
       " Informational_Duration ProductRelated   ProductRelated_Duration\n",
       " Min.   :   0.00        Min.   :  0.00   Min.   :    0.0        \n",
       " 1st Qu.:   0.00        1st Qu.:  7.00   1st Qu.:  184.1        \n",
       " Median :   0.00        Median : 18.00   Median :  598.9        \n",
       " Mean   :  34.47        Mean   : 31.73   Mean   : 1194.8        \n",
       " 3rd Qu.:   0.00        3rd Qu.: 38.00   3rd Qu.: 1464.2        \n",
       " Max.   :2549.38        Max.   :705.00   Max.   :63973.5        \n",
       "  BounceRates         ExitRates         PageValues        SpecialDay     \n",
       " Min.   :0.000000   Min.   :0.00000   Min.   :  0.000   Min.   :0.00000  \n",
       " 1st Qu.:0.000000   1st Qu.:0.01429   1st Qu.:  0.000   1st Qu.:0.00000  \n",
       " Median :0.003112   Median :0.02516   Median :  0.000   Median :0.00000  \n",
       " Mean   :0.022191   Mean   :0.04307   Mean   :  5.889   Mean   :0.06143  \n",
       " 3rd Qu.:0.016813   3rd Qu.:0.05000   3rd Qu.:  0.000   3rd Qu.:0.00000  \n",
       " Max.   :0.200000   Max.   :0.20000   Max.   :361.764   Max.   :1.00000  "
      ]
     },
     "metadata": {},
     "output_type": "display_data"
    },
    {
     "data": {
      "text/plain": [
       " OperatingSystems    Browser           Region       TrafficType   \n",
       " Min.   :1.000    Min.   : 1.000   Min.   :1.000   Min.   : 1.00  \n",
       " 1st Qu.:2.000    1st Qu.: 2.000   1st Qu.:1.000   1st Qu.: 2.00  \n",
       " Median :2.000    Median : 2.000   Median :3.000   Median : 2.00  \n",
       " Mean   :2.124    Mean   : 2.357   Mean   :3.147   Mean   : 4.07  \n",
       " 3rd Qu.:3.000    3rd Qu.: 2.000   3rd Qu.:4.000   3rd Qu.: 4.00  \n",
       " Max.   :8.000    Max.   :13.000   Max.   :9.000   Max.   :20.00  \n",
       "                                                                  \n",
       "            VisitorType     Weekend            Month       Revenue       \n",
       " New_Visitor      : 1694   Mode :logical   May    :3364   Mode :logical  \n",
       " Other            :   85   FALSE:9462      Nov    :2998   FALSE:10422    \n",
       " Returning_Visitor:10551   TRUE :2868      Mar    :1907   TRUE :1908     \n",
       "                                           Dec    :1727                  \n",
       "                                           Oct    : 549                  \n",
       "                                           Sep    : 448                  \n",
       "                                           (Other):1337                  "
      ]
     },
     "metadata": {},
     "output_type": "display_data"
    }
   ],
   "source": [
    "#summary stats \n",
    "summary(osi.df[,1:10]) \n",
    "summary(osi.df[,11:18]) "
   ]
  },
  {
   "cell_type": "markdown",
   "metadata": {},
   "source": [
    "### **Step 3: Data Visualization**"
   ]
  },
  {
   "cell_type": "code",
   "execution_count": 8,
   "metadata": {
    "vscode": {
     "languageId": "r"
    }
   },
   "outputs": [
    {
     "data": {
      "text/html": [
       "<table>\n",
       "<thead><tr><th></th><th scope=col>Administrative</th><th scope=col>Administrative_Duration</th><th scope=col>Informational</th><th scope=col>Informational_Duration</th><th scope=col>ProductRelated</th><th scope=col>ProductRelated_Duration</th><th scope=col>BounceRates</th><th scope=col>ExitRates</th><th scope=col>PageValues</th><th scope=col>SpecialDay</th><th scope=col>OperatingSystems</th><th scope=col>Browser</th><th scope=col>Region</th><th scope=col>TrafficType</th></tr></thead>\n",
       "<tbody>\n",
       "\t<tr><th scope=row>Administrative</th><td> 1.000000000</td><td> 0.601583342</td><td> 0.376850429</td><td> 0.255848140</td><td> 0.431119340</td><td> 0.37393901 </td><td>-0.223562630</td><td>-0.316482998</td><td> 0.09898959 </td><td>-0.094777598</td><td>-0.006347063</td><td>-0.025034572</td><td>-0.005486805</td><td>-0.03356071 </td></tr>\n",
       "\t<tr><th scope=row>Administrative_Duration</th><td> 0.601583342</td><td> 1.000000000</td><td> 0.302709709</td><td> 0.238030789</td><td> 0.289086621</td><td> 0.35542195 </td><td>-0.144170410</td><td>-0.205797757</td><td> 0.06760848 </td><td>-0.073303725</td><td>-0.007343418</td><td>-0.015391527</td><td>-0.005560563</td><td>-0.01437643 </td></tr>\n",
       "\t<tr><th scope=row>Informational</th><td> 0.376850429</td><td> 0.302709709</td><td> 1.000000000</td><td> 0.618954862</td><td> 0.374164291</td><td> 0.38750531 </td><td>-0.116113616</td><td>-0.163666061</td><td> 0.04863169 </td><td>-0.048219254</td><td>-0.009526668</td><td>-0.038234678</td><td>-0.029168638</td><td>-0.03449075 </td></tr>\n",
       "\t<tr><th scope=row>Informational_Duration</th><td> 0.255848140</td><td> 0.238030789</td><td> 0.618954862</td><td> 1.000000000</td><td> 0.280046268</td><td> 0.34736358 </td><td>-0.074066610</td><td>-0.105275683</td><td> 0.03086087 </td><td>-0.030576549</td><td>-0.009578676</td><td>-0.019284981</td><td>-0.027144112</td><td>-0.02467491 </td></tr>\n",
       "\t<tr><th scope=row>ProductRelated</th><td> 0.431119340</td><td> 0.289086621</td><td> 0.374164291</td><td> 0.280046268</td><td> 1.000000000</td><td> 0.86092684 </td><td>-0.204577633</td><td>-0.292526283</td><td> 0.05628179 </td><td>-0.023958175</td><td> 0.004289621</td><td>-0.013145721</td><td>-0.038121842</td><td>-0.04306430 </td></tr>\n",
       "\t<tr><th scope=row>ProductRelated_Duration</th><td> 0.373939013</td><td> 0.355421954</td><td> 0.387505306</td><td> 0.347363577</td><td> 0.860926836</td><td> 1.00000000 </td><td>-0.184541115</td><td>-0.251984097</td><td> 0.05282306 </td><td>-0.036379845</td><td> 0.002975790</td><td>-0.007380440</td><td>-0.033090520</td><td>-0.03637717 </td></tr>\n",
       "\t<tr><th scope=row>BounceRates</th><td>-0.223562630</td><td>-0.144170410</td><td>-0.116113616</td><td>-0.074066610</td><td>-0.204577633</td><td>-0.18454112 </td><td> 1.000000000</td><td> 0.913004396</td><td>-0.11938603 </td><td> 0.072702253</td><td> 0.023823182</td><td>-0.015772209</td><td>-0.006485347</td><td> 0.07828554 </td></tr>\n",
       "\t<tr><th scope=row>ExitRates</th><td>-0.316482998</td><td>-0.205797757</td><td>-0.163666061</td><td>-0.105275683</td><td>-0.292526283</td><td>-0.25198410 </td><td> 0.913004396</td><td> 1.000000000</td><td>-0.17449831 </td><td> 0.102241802</td><td> 0.014566735</td><td>-0.004442355</td><td>-0.008907006</td><td> 0.07861633 </td></tr>\n",
       "\t<tr><th scope=row>PageValues</th><td> 0.098989585</td><td> 0.067608481</td><td> 0.048631692</td><td> 0.030860874</td><td> 0.056281794</td><td> 0.05282306 </td><td>-0.119386026</td><td>-0.174498310</td><td> 1.00000000 </td><td>-0.063541272</td><td> 0.018507947</td><td> 0.045591919</td><td> 0.011315299</td><td> 0.01253169 </td></tr>\n",
       "\t<tr><th scope=row>SpecialDay</th><td>-0.094777598</td><td>-0.073303725</td><td>-0.048219254</td><td>-0.030576549</td><td>-0.023958175</td><td>-0.03637985 </td><td> 0.072702253</td><td> 0.102241802</td><td>-0.06354127 </td><td> 1.000000000</td><td> 0.012652235</td><td> 0.003498747</td><td>-0.016097975</td><td> 0.05230144 </td></tr>\n",
       "\t<tr><th scope=row>OperatingSystems</th><td>-0.006347063</td><td>-0.007343418</td><td>-0.009526668</td><td>-0.009578676</td><td> 0.004289621</td><td> 0.00297579 </td><td> 0.023823182</td><td> 0.014566735</td><td> 0.01850795 </td><td> 0.012652235</td><td> 1.000000000</td><td> 0.223012888</td><td> 0.076775486</td><td> 0.18915361 </td></tr>\n",
       "\t<tr><th scope=row>Browser</th><td>-0.025034572</td><td>-0.015391527</td><td>-0.038234678</td><td>-0.019284981</td><td>-0.013145721</td><td>-0.00738044 </td><td>-0.015772209</td><td>-0.004442355</td><td> 0.04559192 </td><td> 0.003498747</td><td> 0.223012888</td><td> 1.000000000</td><td> 0.097392849</td><td> 0.11193822 </td></tr>\n",
       "\t<tr><th scope=row>Region</th><td>-0.005486805</td><td>-0.005560563</td><td>-0.029168638</td><td>-0.027144112</td><td>-0.038121842</td><td>-0.03309052 </td><td>-0.006485347</td><td>-0.008907006</td><td> 0.01131530 </td><td>-0.016097975</td><td> 0.076775486</td><td> 0.097392849</td><td> 1.000000000</td><td> 0.04752023 </td></tr>\n",
       "\t<tr><th scope=row>TrafficType</th><td>-0.033560713</td><td>-0.014376431</td><td>-0.034490754</td><td>-0.024674908</td><td>-0.043064304</td><td>-0.03637717 </td><td> 0.078285541</td><td> 0.078616331</td><td> 0.01253169 </td><td> 0.052301443</td><td> 0.189153612</td><td> 0.111938224</td><td> 0.047520231</td><td> 1.00000000 </td></tr>\n",
       "</tbody>\n",
       "</table>\n"
      ],
      "text/latex": [
       "\\begin{tabular}{r|llllllllllllll}\n",
       "  & Administrative & Administrative\\_Duration & Informational & Informational\\_Duration & ProductRelated & ProductRelated\\_Duration & BounceRates & ExitRates & PageValues & SpecialDay & OperatingSystems & Browser & Region & TrafficType\\\\\n",
       "\\hline\n",
       "\tAdministrative &  1.000000000 &  0.601583342 &  0.376850429 &  0.255848140 &  0.431119340 &  0.37393901  & -0.223562630 & -0.316482998 &  0.09898959  & -0.094777598 & -0.006347063 & -0.025034572 & -0.005486805 & -0.03356071 \\\\\n",
       "\tAdministrative\\_Duration &  0.601583342 &  1.000000000 &  0.302709709 &  0.238030789 &  0.289086621 &  0.35542195  & -0.144170410 & -0.205797757 &  0.06760848  & -0.073303725 & -0.007343418 & -0.015391527 & -0.005560563 & -0.01437643 \\\\\n",
       "\tInformational &  0.376850429 &  0.302709709 &  1.000000000 &  0.618954862 &  0.374164291 &  0.38750531  & -0.116113616 & -0.163666061 &  0.04863169  & -0.048219254 & -0.009526668 & -0.038234678 & -0.029168638 & -0.03449075 \\\\\n",
       "\tInformational\\_Duration &  0.255848140 &  0.238030789 &  0.618954862 &  1.000000000 &  0.280046268 &  0.34736358  & -0.074066610 & -0.105275683 &  0.03086087  & -0.030576549 & -0.009578676 & -0.019284981 & -0.027144112 & -0.02467491 \\\\\n",
       "\tProductRelated &  0.431119340 &  0.289086621 &  0.374164291 &  0.280046268 &  1.000000000 &  0.86092684  & -0.204577633 & -0.292526283 &  0.05628179  & -0.023958175 &  0.004289621 & -0.013145721 & -0.038121842 & -0.04306430 \\\\\n",
       "\tProductRelated\\_Duration &  0.373939013 &  0.355421954 &  0.387505306 &  0.347363577 &  0.860926836 &  1.00000000  & -0.184541115 & -0.251984097 &  0.05282306  & -0.036379845 &  0.002975790 & -0.007380440 & -0.033090520 & -0.03637717 \\\\\n",
       "\tBounceRates & -0.223562630 & -0.144170410 & -0.116113616 & -0.074066610 & -0.204577633 & -0.18454112  &  1.000000000 &  0.913004396 & -0.11938603  &  0.072702253 &  0.023823182 & -0.015772209 & -0.006485347 &  0.07828554 \\\\\n",
       "\tExitRates & -0.316482998 & -0.205797757 & -0.163666061 & -0.105275683 & -0.292526283 & -0.25198410  &  0.913004396 &  1.000000000 & -0.17449831  &  0.102241802 &  0.014566735 & -0.004442355 & -0.008907006 &  0.07861633 \\\\\n",
       "\tPageValues &  0.098989585 &  0.067608481 &  0.048631692 &  0.030860874 &  0.056281794 &  0.05282306  & -0.119386026 & -0.174498310 &  1.00000000  & -0.063541272 &  0.018507947 &  0.045591919 &  0.011315299 &  0.01253169 \\\\\n",
       "\tSpecialDay & -0.094777598 & -0.073303725 & -0.048219254 & -0.030576549 & -0.023958175 & -0.03637985  &  0.072702253 &  0.102241802 & -0.06354127  &  1.000000000 &  0.012652235 &  0.003498747 & -0.016097975 &  0.05230144 \\\\\n",
       "\tOperatingSystems & -0.006347063 & -0.007343418 & -0.009526668 & -0.009578676 &  0.004289621 &  0.00297579  &  0.023823182 &  0.014566735 &  0.01850795  &  0.012652235 &  1.000000000 &  0.223012888 &  0.076775486 &  0.18915361 \\\\\n",
       "\tBrowser & -0.025034572 & -0.015391527 & -0.038234678 & -0.019284981 & -0.013145721 & -0.00738044  & -0.015772209 & -0.004442355 &  0.04559192  &  0.003498747 &  0.223012888 &  1.000000000 &  0.097392849 &  0.11193822 \\\\\n",
       "\tRegion & -0.005486805 & -0.005560563 & -0.029168638 & -0.027144112 & -0.038121842 & -0.03309052  & -0.006485347 & -0.008907006 &  0.01131530  & -0.016097975 &  0.076775486 &  0.097392849 &  1.000000000 &  0.04752023 \\\\\n",
       "\tTrafficType & -0.033560713 & -0.014376431 & -0.034490754 & -0.024674908 & -0.043064304 & -0.03637717  &  0.078285541 &  0.078616331 &  0.01253169  &  0.052301443 &  0.189153612 &  0.111938224 &  0.047520231 &  1.00000000 \\\\\n",
       "\\end{tabular}\n"
      ],
      "text/markdown": [
       "\n",
       "| <!--/--> | Administrative | Administrative_Duration | Informational | Informational_Duration | ProductRelated | ProductRelated_Duration | BounceRates | ExitRates | PageValues | SpecialDay | OperatingSystems | Browser | Region | TrafficType |\n",
       "|---|---|---|---|---|---|---|---|---|---|---|---|---|---|---|\n",
       "| Administrative |  1.000000000 |  0.601583342 |  0.376850429 |  0.255848140 |  0.431119340 |  0.37393901  | -0.223562630 | -0.316482998 |  0.09898959  | -0.094777598 | -0.006347063 | -0.025034572 | -0.005486805 | -0.03356071  |\n",
       "| Administrative_Duration |  0.601583342 |  1.000000000 |  0.302709709 |  0.238030789 |  0.289086621 |  0.35542195  | -0.144170410 | -0.205797757 |  0.06760848  | -0.073303725 | -0.007343418 | -0.015391527 | -0.005560563 | -0.01437643  |\n",
       "| Informational |  0.376850429 |  0.302709709 |  1.000000000 |  0.618954862 |  0.374164291 |  0.38750531  | -0.116113616 | -0.163666061 |  0.04863169  | -0.048219254 | -0.009526668 | -0.038234678 | -0.029168638 | -0.03449075  |\n",
       "| Informational_Duration |  0.255848140 |  0.238030789 |  0.618954862 |  1.000000000 |  0.280046268 |  0.34736358  | -0.074066610 | -0.105275683 |  0.03086087  | -0.030576549 | -0.009578676 | -0.019284981 | -0.027144112 | -0.02467491  |\n",
       "| ProductRelated |  0.431119340 |  0.289086621 |  0.374164291 |  0.280046268 |  1.000000000 |  0.86092684  | -0.204577633 | -0.292526283 |  0.05628179  | -0.023958175 |  0.004289621 | -0.013145721 | -0.038121842 | -0.04306430  |\n",
       "| ProductRelated_Duration |  0.373939013 |  0.355421954 |  0.387505306 |  0.347363577 |  0.860926836 |  1.00000000  | -0.184541115 | -0.251984097 |  0.05282306  | -0.036379845 |  0.002975790 | -0.007380440 | -0.033090520 | -0.03637717  |\n",
       "| BounceRates | -0.223562630 | -0.144170410 | -0.116113616 | -0.074066610 | -0.204577633 | -0.18454112  |  1.000000000 |  0.913004396 | -0.11938603  |  0.072702253 |  0.023823182 | -0.015772209 | -0.006485347 |  0.07828554  |\n",
       "| ExitRates | -0.316482998 | -0.205797757 | -0.163666061 | -0.105275683 | -0.292526283 | -0.25198410  |  0.913004396 |  1.000000000 | -0.17449831  |  0.102241802 |  0.014566735 | -0.004442355 | -0.008907006 |  0.07861633  |\n",
       "| PageValues |  0.098989585 |  0.067608481 |  0.048631692 |  0.030860874 |  0.056281794 |  0.05282306  | -0.119386026 | -0.174498310 |  1.00000000  | -0.063541272 |  0.018507947 |  0.045591919 |  0.011315299 |  0.01253169  |\n",
       "| SpecialDay | -0.094777598 | -0.073303725 | -0.048219254 | -0.030576549 | -0.023958175 | -0.03637985  |  0.072702253 |  0.102241802 | -0.06354127  |  1.000000000 |  0.012652235 |  0.003498747 | -0.016097975 |  0.05230144  |\n",
       "| OperatingSystems | -0.006347063 | -0.007343418 | -0.009526668 | -0.009578676 |  0.004289621 |  0.00297579  |  0.023823182 |  0.014566735 |  0.01850795  |  0.012652235 |  1.000000000 |  0.223012888 |  0.076775486 |  0.18915361  |\n",
       "| Browser | -0.025034572 | -0.015391527 | -0.038234678 | -0.019284981 | -0.013145721 | -0.00738044  | -0.015772209 | -0.004442355 |  0.04559192  |  0.003498747 |  0.223012888 |  1.000000000 |  0.097392849 |  0.11193822  |\n",
       "| Region | -0.005486805 | -0.005560563 | -0.029168638 | -0.027144112 | -0.038121842 | -0.03309052  | -0.006485347 | -0.008907006 |  0.01131530  | -0.016097975 |  0.076775486 |  0.097392849 |  1.000000000 |  0.04752023  |\n",
       "| TrafficType | -0.033560713 | -0.014376431 | -0.034490754 | -0.024674908 | -0.043064304 | -0.03637717  |  0.078285541 |  0.078616331 |  0.01253169  |  0.052301443 |  0.189153612 |  0.111938224 |  0.047520231 |  1.00000000  |\n",
       "\n"
      ],
      "text/plain": [
       "                        Administrative Administrative_Duration Informational\n",
       "Administrative           1.000000000    0.601583342             0.376850429 \n",
       "Administrative_Duration  0.601583342    1.000000000             0.302709709 \n",
       "Informational            0.376850429    0.302709709             1.000000000 \n",
       "Informational_Duration   0.255848140    0.238030789             0.618954862 \n",
       "ProductRelated           0.431119340    0.289086621             0.374164291 \n",
       "ProductRelated_Duration  0.373939013    0.355421954             0.387505306 \n",
       "BounceRates             -0.223562630   -0.144170410            -0.116113616 \n",
       "ExitRates               -0.316482998   -0.205797757            -0.163666061 \n",
       "PageValues               0.098989585    0.067608481             0.048631692 \n",
       "SpecialDay              -0.094777598   -0.073303725            -0.048219254 \n",
       "OperatingSystems        -0.006347063   -0.007343418            -0.009526668 \n",
       "Browser                 -0.025034572   -0.015391527            -0.038234678 \n",
       "Region                  -0.005486805   -0.005560563            -0.029168638 \n",
       "TrafficType             -0.033560713   -0.014376431            -0.034490754 \n",
       "                        Informational_Duration ProductRelated\n",
       "Administrative           0.255848140            0.431119340  \n",
       "Administrative_Duration  0.238030789            0.289086621  \n",
       "Informational            0.618954862            0.374164291  \n",
       "Informational_Duration   1.000000000            0.280046268  \n",
       "ProductRelated           0.280046268            1.000000000  \n",
       "ProductRelated_Duration  0.347363577            0.860926836  \n",
       "BounceRates             -0.074066610           -0.204577633  \n",
       "ExitRates               -0.105275683           -0.292526283  \n",
       "PageValues               0.030860874            0.056281794  \n",
       "SpecialDay              -0.030576549           -0.023958175  \n",
       "OperatingSystems        -0.009578676            0.004289621  \n",
       "Browser                 -0.019284981           -0.013145721  \n",
       "Region                  -0.027144112           -0.038121842  \n",
       "TrafficType             -0.024674908           -0.043064304  \n",
       "                        ProductRelated_Duration BounceRates  ExitRates   \n",
       "Administrative           0.37393901             -0.223562630 -0.316482998\n",
       "Administrative_Duration  0.35542195             -0.144170410 -0.205797757\n",
       "Informational            0.38750531             -0.116113616 -0.163666061\n",
       "Informational_Duration   0.34736358             -0.074066610 -0.105275683\n",
       "ProductRelated           0.86092684             -0.204577633 -0.292526283\n",
       "ProductRelated_Duration  1.00000000             -0.184541115 -0.251984097\n",
       "BounceRates             -0.18454112              1.000000000  0.913004396\n",
       "ExitRates               -0.25198410              0.913004396  1.000000000\n",
       "PageValues               0.05282306             -0.119386026 -0.174498310\n",
       "SpecialDay              -0.03637985              0.072702253  0.102241802\n",
       "OperatingSystems         0.00297579              0.023823182  0.014566735\n",
       "Browser                 -0.00738044             -0.015772209 -0.004442355\n",
       "Region                  -0.03309052             -0.006485347 -0.008907006\n",
       "TrafficType             -0.03637717              0.078285541  0.078616331\n",
       "                        PageValues  SpecialDay   OperatingSystems Browser     \n",
       "Administrative           0.09898959 -0.094777598 -0.006347063     -0.025034572\n",
       "Administrative_Duration  0.06760848 -0.073303725 -0.007343418     -0.015391527\n",
       "Informational            0.04863169 -0.048219254 -0.009526668     -0.038234678\n",
       "Informational_Duration   0.03086087 -0.030576549 -0.009578676     -0.019284981\n",
       "ProductRelated           0.05628179 -0.023958175  0.004289621     -0.013145721\n",
       "ProductRelated_Duration  0.05282306 -0.036379845  0.002975790     -0.007380440\n",
       "BounceRates             -0.11938603  0.072702253  0.023823182     -0.015772209\n",
       "ExitRates               -0.17449831  0.102241802  0.014566735     -0.004442355\n",
       "PageValues               1.00000000 -0.063541272  0.018507947      0.045591919\n",
       "SpecialDay              -0.06354127  1.000000000  0.012652235      0.003498747\n",
       "OperatingSystems         0.01850795  0.012652235  1.000000000      0.223012888\n",
       "Browser                  0.04559192  0.003498747  0.223012888      1.000000000\n",
       "Region                   0.01131530 -0.016097975  0.076775486      0.097392849\n",
       "TrafficType              0.01253169  0.052301443  0.189153612      0.111938224\n",
       "                        Region       TrafficType\n",
       "Administrative          -0.005486805 -0.03356071\n",
       "Administrative_Duration -0.005560563 -0.01437643\n",
       "Informational           -0.029168638 -0.03449075\n",
       "Informational_Duration  -0.027144112 -0.02467491\n",
       "ProductRelated          -0.038121842 -0.04306430\n",
       "ProductRelated_Duration -0.033090520 -0.03637717\n",
       "BounceRates             -0.006485347  0.07828554\n",
       "ExitRates               -0.008907006  0.07861633\n",
       "PageValues               0.011315299  0.01253169\n",
       "SpecialDay              -0.016097975  0.05230144\n",
       "OperatingSystems         0.076775486  0.18915361\n",
       "Browser                  0.097392849  0.11193822\n",
       "Region                   1.000000000  0.04752023\n",
       "TrafficType              0.047520231  1.00000000"
      ]
     },
     "metadata": {},
     "output_type": "display_data"
    }
   ],
   "source": [
    "# finds all correlation values for all pairs of attributes between 1 - 14\n",
    "\n",
    "cor(osi.df[,c(1:14)],use=\"complete.obs\")"
   ]
  },
  {
   "cell_type": "code",
   "execution_count": 9,
   "metadata": {
    "vscode": {
     "languageId": "r"
    }
   },
   "outputs": [
    {
     "data": {
      "image/png": "[encoded data removed]",
      "text/plain": [
       "plot without title"
      ]
     },
     "metadata": {},
     "output_type": "display_data"
    }
   ],
   "source": [
    "# generate correlation graph\n",
    "options(repr.plot.height=10); my_colors=colorRampPalette(brewer.pal(5, \"Spectral\"))(100)\n",
    "options(repr.plot.width=10, repr.plot.height=7)\n",
    "\n",
    "data=cor(osi.df[,c(1:14)],use=\"complete.obs\")\n",
    " \n",
    "plotcorr(data , col=my_colors[data*50+50], mar = c(0,0,0,0), cex.lab=0.7, type = \"upper\" , diag=FALSE)"
   ]
  },
  {
   "cell_type": "code",
   "execution_count": 10,
   "metadata": {
    "vscode": {
     "languageId": "r"
    }
   },
   "outputs": [
    {
     "data": {
      "text/html": [
       "<table>\n",
       "<thead><tr><th scope=col>Revenue</th><th scope=col>mean_InfoDuration</th></tr></thead>\n",
       "<tbody>\n",
       "\t<tr><td>FALSE   </td><td>30.23624</td></tr>\n",
       "\t<tr><td> TRUE   </td><td>57.61143</td></tr>\n",
       "</tbody>\n",
       "</table>\n"
      ],
      "text/latex": [
       "\\begin{tabular}{r|ll}\n",
       " Revenue & mean\\_InfoDuration\\\\\n",
       "\\hline\n",
       "\t FALSE    & 30.23624\\\\\n",
       "\t  TRUE    & 57.61143\\\\\n",
       "\\end{tabular}\n"
      ],
      "text/markdown": [
       "\n",
       "| Revenue | mean_InfoDuration |\n",
       "|---|---|\n",
       "| FALSE    | 30.23624 |\n",
       "|  TRUE    | 57.61143 |\n",
       "\n"
      ],
      "text/plain": [
       "  Revenue mean_InfoDuration\n",
       "1 FALSE   30.23624         \n",
       "2  TRUE   57.61143         "
      ]
     },
     "metadata": {},
     "output_type": "display_data"
    }
   ],
   "source": [
    "# create a new dataframe id_means\n",
    "id_means <- osi.df %>% \n",
    "  group_by(Revenue) %>% \n",
    "  summarize(mean_InfoDuration = mean(Informational_Duration)) \n",
    "\n",
    "id_means\n"
   ]
  },
  {
   "cell_type": "code",
   "execution_count": 11,
   "metadata": {
    "vscode": {
     "languageId": "r"
    }
   },
   "outputs": [
    {
     "data": {
      "text/html": [
       "<table>\n",
       "<thead><tr><th scope=col>Revenue</th><th scope=col>mean_Info</th></tr></thead>\n",
       "<tbody>\n",
       "\t<tr><td>FALSE    </td><td>0.4518327</td></tr>\n",
       "\t<tr><td> TRUE    </td><td>0.7861635</td></tr>\n",
       "</tbody>\n",
       "</table>\n"
      ],
      "text/latex": [
       "\\begin{tabular}{r|ll}\n",
       " Revenue & mean\\_Info\\\\\n",
       "\\hline\n",
       "\t FALSE     & 0.4518327\\\\\n",
       "\t  TRUE     & 0.7861635\\\\\n",
       "\\end{tabular}\n"
      ],
      "text/markdown": [
       "\n",
       "| Revenue | mean_Info |\n",
       "|---|---|\n",
       "| FALSE     | 0.4518327 |\n",
       "|  TRUE     | 0.7861635 |\n",
       "\n"
      ],
      "text/plain": [
       "  Revenue mean_Info\n",
       "1 FALSE   0.4518327\n",
       "2  TRUE   0.7861635"
      ]
     },
     "metadata": {},
     "output_type": "display_data"
    }
   ],
   "source": [
    "# create a new dataframe i_means\n",
    "i_means <- osi.df %>% \n",
    "  group_by(Revenue) %>% \n",
    "  summarize(mean_Info = mean(Informational)) \n",
    "\n",
    "i_means"
   ]
  },
  {
   "cell_type": "code",
   "execution_count": 12,
   "metadata": {
    "vscode": {
     "languageId": "r"
    }
   },
   "outputs": [
    {
     "data": {
      "text/html": [
       "<table>\n",
       "<thead><tr><th scope=col>Revenue</th><th scope=col>mean_Admin</th></tr></thead>\n",
       "<tbody>\n",
       "\t<tr><td>FALSE   </td><td>2.117732</td></tr>\n",
       "\t<tr><td> TRUE   </td><td>3.393606</td></tr>\n",
       "</tbody>\n",
       "</table>\n"
      ],
      "text/latex": [
       "\\begin{tabular}{r|ll}\n",
       " Revenue & mean\\_Admin\\\\\n",
       "\\hline\n",
       "\t FALSE    & 2.117732\\\\\n",
       "\t  TRUE    & 3.393606\\\\\n",
       "\\end{tabular}\n"
      ],
      "text/markdown": [
       "\n",
       "| Revenue | mean_Admin |\n",
       "|---|---|\n",
       "| FALSE    | 2.117732 |\n",
       "|  TRUE    | 3.393606 |\n",
       "\n"
      ],
      "text/plain": [
       "  Revenue mean_Admin\n",
       "1 FALSE   2.117732  \n",
       "2  TRUE   3.393606  "
      ]
     },
     "metadata": {},
     "output_type": "display_data"
    }
   ],
   "source": [
    "# create a new dataframe a_means\n",
    "a_means <- osi.df %>% \n",
    "  group_by(Revenue) %>% \n",
    "  summarize(mean_Admin = mean(Administrative)) \n",
    "\n",
    "a_means"
   ]
  },
  {
   "cell_type": "code",
   "execution_count": 13,
   "metadata": {
    "vscode": {
     "languageId": "r"
    }
   },
   "outputs": [
    {
     "data": {
      "text/html": [
       "<table>\n",
       "<thead><tr><th scope=col>Revenue</th><th scope=col>mean_AdminDuration</th></tr></thead>\n",
       "<tbody>\n",
       "\t<tr><td>FALSE    </td><td> 73.74011</td></tr>\n",
       "\t<tr><td> TRUE    </td><td>119.48324</td></tr>\n",
       "</tbody>\n",
       "</table>\n"
      ],
      "text/latex": [
       "\\begin{tabular}{r|ll}\n",
       " Revenue & mean\\_AdminDuration\\\\\n",
       "\\hline\n",
       "\t FALSE     &  73.74011\\\\\n",
       "\t  TRUE     & 119.48324\\\\\n",
       "\\end{tabular}\n"
      ],
      "text/markdown": [
       "\n",
       "| Revenue | mean_AdminDuration |\n",
       "|---|---|\n",
       "| FALSE     |  73.74011 |\n",
       "|  TRUE     | 119.48324 |\n",
       "\n"
      ],
      "text/plain": [
       "  Revenue mean_AdminDuration\n",
       "1 FALSE    73.74011         \n",
       "2  TRUE   119.48324         "
      ]
     },
     "metadata": {},
     "output_type": "display_data"
    }
   ],
   "source": [
    "# create a new dataframe ad_means\n",
    "ad_means <- osi.df %>% \n",
    "  group_by(Revenue) %>% \n",
    "  summarize(mean_AdminDuration = mean(Administrative_Duration)) \n",
    "\n",
    "ad_means"
   ]
  },
  {
   "cell_type": "code",
   "execution_count": 14,
   "metadata": {
    "vscode": {
     "languageId": "r"
    }
   },
   "outputs": [
    {
     "data": {
      "image/png": "[encoded data removed]",
      "text/plain": [
       "plot without title"
      ]
     },
     "metadata": {},
     "output_type": "display_data"
    }
   ],
   "source": [
    "# Creating box plots \n",
    "options(repr.plot.width=12, repr.plot.height=5)\n",
    "ggplot(osi.df, aes(x=Month, y=Informational_Duration)) +\n",
    "geom_boxplot() "
   ]
  },
  {
   "cell_type": "code",
   "execution_count": 15,
   "metadata": {
    "vscode": {
     "languageId": "r"
    }
   },
   "outputs": [
    {
     "data": {
      "image/png": "[encoded data removed]",
      "text/plain": [
       "plot without title"
      ]
     },
     "metadata": {},
     "output_type": "display_data"
    }
   ],
   "source": [
    "# creating bar plots\n",
    "V_R_data <- with(osi.df, table(VisitorType, Revenue))\n",
    "options(repr.plot.width=12, repr.plot.height=6)\n",
    "ggplot(as.data.frame(V_R_data) , aes(VisitorType, Freq, fill=Revenue)) + \n",
    "geom_col(position = 'dodge')"
   ]
  },
  {
   "cell_type": "markdown",
   "metadata": {
    "slideshow": {
     "slide_type": "slide"
    }
   },
   "source": [
    "### **Step 4: Preparing the data**"
   ]
  },
  {
   "cell_type": "code",
   "execution_count": 3,
   "metadata": {
    "vscode": {
     "languageId": "r"
    }
   },
   "outputs": [
    {
     "name": "stdout",
     "output_type": "stream",
     "text": [
      "'data.frame':\t12330 obs. of  18 variables:\n",
      " $ Administrative         : int  0 0 0 0 0 0 0 1 0 0 ...\n",
      " $ Administrative_Duration: num  0 0 0 0 0 0 0 0 0 0 ...\n",
      " $ Informational          : int  0 0 0 0 0 0 0 0 0 0 ...\n",
      " $ Informational_Duration : num  0 0 0 0 0 0 0 0 0 0 ...\n",
      " $ ProductRelated         : int  1 2 1 2 10 19 1 0 2 3 ...\n",
      " $ ProductRelated_Duration: num  0 64 0 2.67 627.5 ...\n",
      " $ BounceRates            : num  0.2 0 0.2 0.05 0.02 ...\n",
      " $ ExitRates              : num  0.2 0.1 0.2 0.14 0.05 ...\n",
      " $ PageValues             : num  0 0 0 0 0 0 0 0 0 0 ...\n",
      " $ SpecialDay             : num  0 0 0 0 0 0 0.4 0 0.8 0.4 ...\n",
      " $ OperatingSystems       : int  1 2 4 3 3 2 2 1 2 2 ...\n",
      " $ Browser                : int  1 2 1 2 3 2 4 2 2 4 ...\n",
      " $ Region                 : int  1 1 9 2 1 1 3 1 2 1 ...\n",
      " $ TrafficType            : int  1 2 3 4 4 3 3 5 3 2 ...\n",
      " $ VisitorType            : Factor w/ 3 levels \"New_Visitor\",..: 3 3 3 3 3 3 3 3 3 3 ...\n",
      " $ Weekend                : logi  FALSE FALSE FALSE FALSE TRUE FALSE ...\n",
      " $ Month                  : Factor w/ 10 levels \"Aug\",\"Dec\",\"Feb\",..: 3 3 3 3 3 3 3 3 3 3 ...\n",
      " $ Revenue                : logi  FALSE FALSE FALSE FALSE FALSE FALSE ...\n"
     ]
    },
    {
     "data": {
      "text/html": [
       "<ol class=list-inline>\n",
       "\t<li>Feb</li>\n",
       "\t<li>Mar</li>\n",
       "\t<li>May</li>\n",
       "\t<li>Oct</li>\n",
       "\t<li>June</li>\n",
       "\t<li>Jul</li>\n",
       "\t<li>Aug</li>\n",
       "\t<li>Nov</li>\n",
       "\t<li>Sep</li>\n",
       "\t<li>Dec</li>\n",
       "</ol>\n",
       "\n",
       "<details>\n",
       "\t<summary style=display:list-item;cursor:pointer>\n",
       "\t\t<strong>Levels</strong>:\n",
       "\t</summary>\n",
       "\t<ol class=list-inline>\n",
       "\t\t<li>'Aug'</li>\n",
       "\t\t<li>'Dec'</li>\n",
       "\t\t<li>'Feb'</li>\n",
       "\t\t<li>'Jul'</li>\n",
       "\t\t<li>'June'</li>\n",
       "\t\t<li>'Mar'</li>\n",
       "\t\t<li>'May'</li>\n",
       "\t\t<li>'Nov'</li>\n",
       "\t\t<li>'Oct'</li>\n",
       "\t\t<li>'Sep'</li>\n",
       "\t</ol>\n",
       "</details>"
      ],
      "text/latex": [
       "\\begin{enumerate*}\n",
       "\\item Feb\n",
       "\\item Mar\n",
       "\\item May\n",
       "\\item Oct\n",
       "\\item June\n",
       "\\item Jul\n",
       "\\item Aug\n",
       "\\item Nov\n",
       "\\item Sep\n",
       "\\item Dec\n",
       "\\end{enumerate*}\n",
       "\n",
       "\\emph{Levels}: \\begin{enumerate*}\n",
       "\\item 'Aug'\n",
       "\\item 'Dec'\n",
       "\\item 'Feb'\n",
       "\\item 'Jul'\n",
       "\\item 'June'\n",
       "\\item 'Mar'\n",
       "\\item 'May'\n",
       "\\item 'Nov'\n",
       "\\item 'Oct'\n",
       "\\item 'Sep'\n",
       "\\end{enumerate*}\n"
      ],
      "text/markdown": [
       "1. Feb\n",
       "2. Mar\n",
       "3. May\n",
       "4. Oct\n",
       "5. June\n",
       "6. Jul\n",
       "7. Aug\n",
       "8. Nov\n",
       "9. Sep\n",
       "10. Dec\n",
       "\n",
       "\n",
       "\n",
       "**Levels**: 1. 'Aug'\n",
       "2. 'Dec'\n",
       "3. 'Feb'\n",
       "4. 'Jul'\n",
       "5. 'June'\n",
       "6. 'Mar'\n",
       "7. 'May'\n",
       "8. 'Nov'\n",
       "9. 'Oct'\n",
       "10. 'Sep'\n",
       "\n",
       "\n"
      ],
      "text/plain": [
       " [1] Feb  Mar  May  Oct  June Jul  Aug  Nov  Sep  Dec \n",
       "Levels: Aug Dec Feb Jul June Mar May Nov Oct Sep"
      ]
     },
     "metadata": {},
     "output_type": "display_data"
    },
    {
     "data": {
      "text/html": [
       "<ol class=list-inline>\n",
       "\t<li>FALSE</li>\n",
       "\t<li>TRUE</li>\n",
       "</ol>\n"
      ],
      "text/latex": [
       "\\begin{enumerate*}\n",
       "\\item FALSE\n",
       "\\item TRUE\n",
       "\\end{enumerate*}\n"
      ],
      "text/markdown": [
       "1. FALSE\n",
       "2. TRUE\n",
       "\n",
       "\n"
      ],
      "text/plain": [
       "[1] FALSE  TRUE"
      ]
     },
     "metadata": {},
     "output_type": "display_data"
    }
   ],
   "source": [
    "# show data details\n",
    "str(osi.df)\n",
    "unique(osi.df$Month)\n",
    "unique(osi.df$Revenue)"
   ]
  },
  {
   "cell_type": "code",
   "execution_count": 4,
   "metadata": {
    "vscode": {
     "languageId": "r"
    }
   },
   "outputs": [
    {
     "name": "stdout",
     "output_type": "stream",
     "text": [
      "'data.frame':\t12330 obs. of  18 variables:\n",
      " $ Administrative         : int  0 0 0 0 0 0 0 1 0 0 ...\n",
      " $ Administrative_Duration: num  0 0 0 0 0 0 0 0 0 0 ...\n",
      " $ Informational          : int  0 0 0 0 0 0 0 0 0 0 ...\n",
      " $ Informational_Duration : num  0 0 0 0 0 0 0 0 0 0 ...\n",
      " $ ProductRelated         : int  1 2 1 2 10 19 1 0 2 3 ...\n",
      " $ ProductRelated_Duration: num  0 64 0 2.67 627.5 ...\n",
      " $ BounceRates            : num  0.2 0 0.2 0.05 0.02 ...\n",
      " $ ExitRates              : num  0.2 0.1 0.2 0.14 0.05 ...\n",
      " $ PageValues             : num  0 0 0 0 0 0 0 0 0 0 ...\n",
      " $ SpecialDay             : num  0 0 0 0 0 0 0.4 0 0.8 0.4 ...\n",
      " $ OperatingSystems       : int  1 2 4 3 3 2 2 1 2 2 ...\n",
      " $ Browser                : int  1 2 1 2 3 2 4 2 2 4 ...\n",
      " $ Region                 : int  1 1 9 2 1 1 3 1 2 1 ...\n",
      " $ TrafficType            : int  1 2 3 4 4 3 3 5 3 2 ...\n",
      " $ VisitorType            : Factor w/ 3 levels \"New_Visitor\",..: 3 3 3 3 3 3 3 3 3 3 ...\n",
      " $ Weekend                : num  0 0 0 0 1 0 0 1 0 0 ...\n",
      " $ Month                  : num  1 1 1 1 1 1 1 1 1 1 ...\n",
      " $ Revenue                : num  0 0 0 0 0 0 0 0 0 0 ...\n"
     ]
    },
    {
     "data": {
      "text/html": [
       "<ol class=list-inline>\n",
       "\t<li>1</li>\n",
       "\t<li>2</li>\n",
       "\t<li>3</li>\n",
       "\t<li>8</li>\n",
       "\t<li>4</li>\n",
       "\t<li>5</li>\n",
       "\t<li>6</li>\n",
       "\t<li>9</li>\n",
       "\t<li>7</li>\n",
       "\t<li>10</li>\n",
       "</ol>\n"
      ],
      "text/latex": [
       "\\begin{enumerate*}\n",
       "\\item 1\n",
       "\\item 2\n",
       "\\item 3\n",
       "\\item 8\n",
       "\\item 4\n",
       "\\item 5\n",
       "\\item 6\n",
       "\\item 9\n",
       "\\item 7\n",
       "\\item 10\n",
       "\\end{enumerate*}\n"
      ],
      "text/markdown": [
       "1. 1\n",
       "2. 2\n",
       "3. 3\n",
       "4. 8\n",
       "5. 4\n",
       "6. 5\n",
       "7. 6\n",
       "8. 9\n",
       "9. 7\n",
       "10. 10\n",
       "\n",
       "\n"
      ],
      "text/plain": [
       " [1]  1  2  3  8  4  5  6  9  7 10"
      ]
     },
     "metadata": {},
     "output_type": "display_data"
    }
   ],
   "source": [
    "# processing data and transform some attributes to numerical form\n",
    "# assigning values to attribute Revenue and Weekend\n",
    "# FALSE as 0, TRUE as 1\n",
    "osi.df <- read.csv(\"online_shoppers_intention.csv\", header=TRUE)\n",
    "osi.df$Month <- factor(osi.df$Month, levels = c(\"Feb\", \"Mar\", \"May\", \"June\", \"Jul\", \"Aug\", \"Sep\", \"Oct\", \"Nov\", \"Dec\"), ordered = TRUE)\n",
    "osi.df$Month <- mapvalues(osi.df$Month, from = c('Feb', 'Mar', 'May', 'June','Jul', 'Aug', 'Sep','Oct', 'Nov','Dec'), to = c(1,2,3,4,5,6,7,8,9,10))\n",
    "osi.df$Revenue <- ifelse(osi.df$Revenue == TRUE, 1, 0)\n",
    "osi.df$Weekend <- ifelse(osi.df$Weekend == TRUE, 1, 0)\n",
    "osi.df$Month <- as.numeric(levels(osi.df$Month)[osi.df$Month])   \n",
    "str(osi.df)\n",
    "unique(osi.df$Month)"
   ]
  },
  {
   "cell_type": "code",
   "execution_count": 5,
   "metadata": {
    "slideshow": {
     "slide_type": "slide"
    },
    "vscode": {
     "languageId": "r"
    }
   },
   "outputs": [
    {
     "data": {
      "text/html": [
       "<dl class=dl-horizontal>\n",
       "\t<dt>Administrative</dt>\n",
       "\t\t<dd>0</dd>\n",
       "\t<dt>Administrative_Duration</dt>\n",
       "\t\t<dd>0</dd>\n",
       "\t<dt>Informational</dt>\n",
       "\t\t<dd>0</dd>\n",
       "\t<dt>Informational_Duration</dt>\n",
       "\t\t<dd>0</dd>\n",
       "\t<dt>ProductRelated</dt>\n",
       "\t\t<dd>0</dd>\n",
       "\t<dt>ProductRelated_Duration</dt>\n",
       "\t\t<dd>0</dd>\n",
       "\t<dt>BounceRates</dt>\n",
       "\t\t<dd>0</dd>\n",
       "\t<dt>ExitRates</dt>\n",
       "\t\t<dd>0</dd>\n",
       "\t<dt>PageValues</dt>\n",
       "\t\t<dd>0</dd>\n",
       "\t<dt>SpecialDay</dt>\n",
       "\t\t<dd>0</dd>\n",
       "\t<dt>OperatingSystems</dt>\n",
       "\t\t<dd>0</dd>\n",
       "\t<dt>Browser</dt>\n",
       "\t\t<dd>0</dd>\n",
       "\t<dt>Region</dt>\n",
       "\t\t<dd>0</dd>\n",
       "\t<dt>TrafficType</dt>\n",
       "\t\t<dd>0</dd>\n",
       "\t<dt>VisitorType</dt>\n",
       "\t\t<dd>0</dd>\n",
       "\t<dt>Weekend</dt>\n",
       "\t\t<dd>0</dd>\n",
       "\t<dt>Month</dt>\n",
       "\t\t<dd>0</dd>\n",
       "\t<dt>Revenue</dt>\n",
       "\t\t<dd>0</dd>\n",
       "</dl>\n"
      ],
      "text/latex": [
       "\\begin{description*}\n",
       "\\item[Administrative] 0\n",
       "\\item[Administrative\\textbackslash{}\\_Duration] 0\n",
       "\\item[Informational] 0\n",
       "\\item[Informational\\textbackslash{}\\_Duration] 0\n",
       "\\item[ProductRelated] 0\n",
       "\\item[ProductRelated\\textbackslash{}\\_Duration] 0\n",
       "\\item[BounceRates] 0\n",
       "\\item[ExitRates] 0\n",
       "\\item[PageValues] 0\n",
       "\\item[SpecialDay] 0\n",
       "\\item[OperatingSystems] 0\n",
       "\\item[Browser] 0\n",
       "\\item[Region] 0\n",
       "\\item[TrafficType] 0\n",
       "\\item[VisitorType] 0\n",
       "\\item[Weekend] 0\n",
       "\\item[Month] 0\n",
       "\\item[Revenue] 0\n",
       "\\end{description*}\n"
      ],
      "text/markdown": [
       "Administrative\n",
       ":   0Administrative_Duration\n",
       ":   0Informational\n",
       ":   0Informational_Duration\n",
       ":   0ProductRelated\n",
       ":   0ProductRelated_Duration\n",
       ":   0BounceRates\n",
       ":   0ExitRates\n",
       ":   0PageValues\n",
       ":   0SpecialDay\n",
       ":   0OperatingSystems\n",
       ":   0Browser\n",
       ":   0Region\n",
       ":   0TrafficType\n",
       ":   0VisitorType\n",
       ":   0Weekend\n",
       ":   0Month\n",
       ":   0Revenue\n",
       ":   0\n",
       "\n"
      ],
      "text/plain": [
       "         Administrative Administrative_Duration           Informational \n",
       "                      0                       0                       0 \n",
       " Informational_Duration          ProductRelated ProductRelated_Duration \n",
       "                      0                       0                       0 \n",
       "            BounceRates               ExitRates              PageValues \n",
       "                      0                       0                       0 \n",
       "             SpecialDay        OperatingSystems                 Browser \n",
       "                      0                       0                       0 \n",
       "                 Region             TrafficType             VisitorType \n",
       "                      0                       0                       0 \n",
       "                Weekend                   Month                 Revenue \n",
       "                      0                       0                       0 "
      ]
     },
     "metadata": {},
     "output_type": "display_data"
    }
   ],
   "source": [
    "# analysis missing values\n",
    "countNAs <- function (v) sum(is.na(v))\n",
    "\n",
    "osi.countNAs <- sapply(osi.df, countNAs)\n",
    "osi.countNAs"
   ]
  },
  {
   "cell_type": "markdown",
   "metadata": {
    "slideshow": {
     "slide_type": "slide"
    }
   },
   "source": [
    "### **Step 5:  Train dataset, Validation dataset and Test dataset**"
   ]
  },
  {
   "cell_type": "code",
   "execution_count": 6,
   "metadata": {
    "slideshow": {
     "slide_type": "slide"
    },
    "vscode": {
     "languageId": "r"
    }
   },
   "outputs": [],
   "source": [
    "# Get the total numer of rows in the data set.\n",
    "ntotal <- nrow(osi.df)\n",
    "\n",
    "# Use 90% of the data to train the model (training set).\n",
    "ntrain <- round(ntotal * 0.90)\n",
    "\n",
    "# The remaining 10% of the data is the testing set\n",
    "ntest <- ntotal - ntrain\n",
    "\n",
    "# randomly split the data.\n",
    "set.seed(567)\n",
    "\n",
    "# generate row index of the training set.\n",
    "row.index <- sample(1:ntotal, ntrain)\n",
    "\n",
    "# set up the total_training and testing set.\n",
    "total_train.df <- osi.df[row.index,]\n",
    "test.df <- osi.df[-row.index,]"
   ]
  },
  {
   "cell_type": "code",
   "execution_count": 7,
   "metadata": {
    "vscode": {
     "languageId": "r"
    }
   },
   "outputs": [
    {
     "data": {
      "text/html": [
       "11097"
      ],
      "text/latex": [
       "11097"
      ],
      "text/markdown": [
       "11097"
      ],
      "text/plain": [
       "[1] 11097"
      ]
     },
     "metadata": {},
     "output_type": "display_data"
    },
    {
     "data": {
      "text/html": [
       "7213"
      ],
      "text/latex": [
       "7213"
      ],
      "text/markdown": [
       "7213"
      ],
      "text/plain": [
       "[1] 7213"
      ]
     },
     "metadata": {},
     "output_type": "display_data"
    },
    {
     "data": {
      "text/html": [
       "5117"
      ],
      "text/latex": [
       "5117"
      ],
      "text/markdown": [
       "5117"
      ],
      "text/plain": [
       "[1] 5117"
      ]
     },
     "metadata": {},
     "output_type": "display_data"
    },
    {
     "data": {
      "text/html": [
       "1233"
      ],
      "text/latex": [
       "1233"
      ],
      "text/markdown": [
       "1233"
      ],
      "text/plain": [
       "[1] 1233"
      ]
     },
     "metadata": {},
     "output_type": "display_data"
    }
   ],
   "source": [
    "# Get the total number of rows in the data set.\n",
    "nrowTrain <- nrow(total_train.df)\n",
    "\n",
    "# Use 65% of the data to train the model (training set).\n",
    "nrowSmallTrain <- round(0.65*nrowTrain)\n",
    "\n",
    "# The remaining 35% of the data is the validation set\n",
    "nrowvalid <- nrowTrain - nrowSmallTrain\n",
    "\n",
    "#randomly split the data.\n",
    "set.seed(567)\n",
    "\n",
    "# generate row numbers of the training set.\n",
    "rowIndicesSmallTrain <- sample(1:nrowTrain, size = nrowSmallTrain, replace = FALSE) \n",
    "\n",
    "# set up training and validation set.\n",
    "train.df <- osi.df[rowIndicesSmallTrain, ]\n",
    "valid.df <- osi.df[-rowIndicesSmallTrain, ]\n",
    "\n",
    "# show the total rows of the sliced datasets\n",
    "nrow(total_train.df)\n",
    "nrow(train.df)\n",
    "nrow(valid.df)\n",
    "nrow(test.df)"
   ]
  },
  {
   "cell_type": "code",
   "execution_count": 8,
   "metadata": {
    "vscode": {
     "languageId": "r"
    }
   },
   "outputs": [
    {
     "data": {
      "text/html": [
       "<table>\n",
       "<thead><tr><th></th><th scope=col>Administrative</th><th scope=col>Administrative_Duration</th><th scope=col>Informational</th><th scope=col>Informational_Duration</th><th scope=col>ProductRelated</th><th scope=col>ProductRelated_Duration</th><th scope=col>BounceRates</th><th scope=col>ExitRates</th><th scope=col>PageValues</th><th scope=col>Month</th><th scope=col>Revenue</th></tr></thead>\n",
       "<tbody>\n",
       "\t<tr><th scope=row>8220</th><td>1          </td><td> 33.5      </td><td>0          </td><td>0          </td><td>34         </td><td>1181.8512  </td><td>0.0        </td><td>0.035156250</td><td>0          </td><td>9          </td><td>1          </td></tr>\n",
       "\t<tr><th scope=row>8701</th><td>0          </td><td>  0.0      </td><td>0          </td><td>0          </td><td> 1         </td><td>   0.0000  </td><td>0.2        </td><td>0.200000000</td><td>0          </td><td>9          </td><td>0          </td></tr>\n",
       "\t<tr><th scope=row>711</th><td>1          </td><td> 43.0      </td><td>0          </td><td>0          </td><td>43         </td><td>1223.3472  </td><td>0.0        </td><td>0.004545455</td><td>0          </td><td>2          </td><td>0          </td></tr>\n",
       "\t<tr><th scope=row>4910</th><td>0          </td><td>  0.0      </td><td>0          </td><td>0          </td><td> 4         </td><td>  29.0000  </td><td>0.1        </td><td>0.125000000</td><td>0          </td><td>3          </td><td>0          </td></tr>\n",
       "\t<tr><th scope=row>874</th><td>8          </td><td>274.5      </td><td>0          </td><td>0          </td><td>24         </td><td> 515.5758  </td><td>0.0        </td><td>0.003703704</td><td>0          </td><td>2          </td><td>0          </td></tr>\n",
       "\t<tr><th scope=row>5727</th><td>0          </td><td>  0.0      </td><td>0          </td><td>0          </td><td> 3         </td><td>  50.2000  </td><td>0.0        </td><td>0.066666667</td><td>0          </td><td>7          </td><td>0          </td></tr>\n",
       "</tbody>\n",
       "</table>\n"
      ],
      "text/latex": [
       "\\begin{tabular}{r|lllllllllll}\n",
       "  & Administrative & Administrative\\_Duration & Informational & Informational\\_Duration & ProductRelated & ProductRelated\\_Duration & BounceRates & ExitRates & PageValues & Month & Revenue\\\\\n",
       "\\hline\n",
       "\t8220 & 1           &  33.5       & 0           & 0           & 34          & 1181.8512   & 0.0         & 0.035156250 & 0           & 9           & 1          \\\\\n",
       "\t8701 & 0           &   0.0       & 0           & 0           &  1          &    0.0000   & 0.2         & 0.200000000 & 0           & 9           & 0          \\\\\n",
       "\t711 & 1           &  43.0       & 0           & 0           & 43          & 1223.3472   & 0.0         & 0.004545455 & 0           & 2           & 0          \\\\\n",
       "\t4910 & 0           &   0.0       & 0           & 0           &  4          &   29.0000   & 0.1         & 0.125000000 & 0           & 3           & 0          \\\\\n",
       "\t874 & 8           & 274.5       & 0           & 0           & 24          &  515.5758   & 0.0         & 0.003703704 & 0           & 2           & 0          \\\\\n",
       "\t5727 & 0           &   0.0       & 0           & 0           &  3          &   50.2000   & 0.0         & 0.066666667 & 0           & 7           & 0          \\\\\n",
       "\\end{tabular}\n"
      ],
      "text/markdown": [
       "\n",
       "| <!--/--> | Administrative | Administrative_Duration | Informational | Informational_Duration | ProductRelated | ProductRelated_Duration | BounceRates | ExitRates | PageValues | Month | Revenue |\n",
       "|---|---|---|---|---|---|---|---|---|---|---|---|\n",
       "| 8220 | 1           |  33.5       | 0           | 0           | 34          | 1181.8512   | 0.0         | 0.035156250 | 0           | 9           | 1           |\n",
       "| 8701 | 0           |   0.0       | 0           | 0           |  1          |    0.0000   | 0.2         | 0.200000000 | 0           | 9           | 0           |\n",
       "| 711 | 1           |  43.0       | 0           | 0           | 43          | 1223.3472   | 0.0         | 0.004545455 | 0           | 2           | 0           |\n",
       "| 4910 | 0           |   0.0       | 0           | 0           |  4          |   29.0000   | 0.1         | 0.125000000 | 0           | 3           | 0           |\n",
       "| 874 | 8           | 274.5       | 0           | 0           | 24          |  515.5758   | 0.0         | 0.003703704 | 0           | 2           | 0           |\n",
       "| 5727 | 0           |   0.0       | 0           | 0           |  3          |   50.2000   | 0.0         | 0.066666667 | 0           | 7           | 0           |\n",
       "\n"
      ],
      "text/plain": [
       "     Administrative Administrative_Duration Informational\n",
       "8220 1               33.5                   0            \n",
       "8701 0                0.0                   0            \n",
       "711  1               43.0                   0            \n",
       "4910 0                0.0                   0            \n",
       "874  8              274.5                   0            \n",
       "5727 0                0.0                   0            \n",
       "     Informational_Duration ProductRelated ProductRelated_Duration BounceRates\n",
       "8220 0                      34             1181.8512               0.0        \n",
       "8701 0                       1                0.0000               0.2        \n",
       "711  0                      43             1223.3472               0.0        \n",
       "4910 0                       4               29.0000               0.1        \n",
       "874  0                      24              515.5758               0.0        \n",
       "5727 0                       3               50.2000               0.0        \n",
       "     ExitRates   PageValues Month Revenue\n",
       "8220 0.035156250 0          9     1      \n",
       "8701 0.200000000 0          9     0      \n",
       "711  0.004545455 0          2     0      \n",
       "4910 0.125000000 0          3     0      \n",
       "874  0.003703704 0          2     0      \n",
       "5727 0.066666667 0          7     0      "
      ]
     },
     "metadata": {},
     "output_type": "display_data"
    }
   ],
   "source": [
    "# select target attributes from the total_train dataset\n",
    "total_train_selected <- total_train.df[,c(1, 2, 3, 4, 5, 6, 7, 8, 9, 17, 18)]\n",
    "head(total_train_selected)"
   ]
  },
  {
   "cell_type": "code",
   "execution_count": 9,
   "metadata": {
    "vscode": {
     "languageId": "r"
    }
   },
   "outputs": [
    {
     "data": {
      "text/html": [
       "<table>\n",
       "<thead><tr><th></th><th scope=col>Administrative</th><th scope=col>Administrative_Duration</th><th scope=col>Informational</th><th scope=col>Informational_Duration</th><th scope=col>ProductRelated</th><th scope=col>ProductRelated_Duration</th><th scope=col>BounceRates</th><th scope=col>ExitRates</th><th scope=col>PageValues</th><th scope=col>Month</th><th scope=col>Revenue</th></tr></thead>\n",
       "<tbody>\n",
       "\t<tr><th scope=row>8220</th><td>1          </td><td> 33.5      </td><td>0          </td><td>0          </td><td>34         </td><td>1181.8512  </td><td>0.0        </td><td>0.035156250</td><td>0          </td><td>9          </td><td>1          </td></tr>\n",
       "\t<tr><th scope=row>8701</th><td>0          </td><td>  0.0      </td><td>0          </td><td>0          </td><td> 1         </td><td>   0.0000  </td><td>0.2        </td><td>0.200000000</td><td>0          </td><td>9          </td><td>0          </td></tr>\n",
       "\t<tr><th scope=row>711</th><td>1          </td><td> 43.0      </td><td>0          </td><td>0          </td><td>43         </td><td>1223.3472  </td><td>0.0        </td><td>0.004545455</td><td>0          </td><td>2          </td><td>0          </td></tr>\n",
       "\t<tr><th scope=row>4910</th><td>0          </td><td>  0.0      </td><td>0          </td><td>0          </td><td> 4         </td><td>  29.0000  </td><td>0.1        </td><td>0.125000000</td><td>0          </td><td>3          </td><td>0          </td></tr>\n",
       "\t<tr><th scope=row>874</th><td>8          </td><td>274.5      </td><td>0          </td><td>0          </td><td>24         </td><td> 515.5758  </td><td>0.0        </td><td>0.003703704</td><td>0          </td><td>2          </td><td>0          </td></tr>\n",
       "\t<tr><th scope=row>5727</th><td>0          </td><td>  0.0      </td><td>0          </td><td>0          </td><td> 3         </td><td>  50.2000  </td><td>0.0        </td><td>0.066666667</td><td>0          </td><td>7          </td><td>0          </td></tr>\n",
       "</tbody>\n",
       "</table>\n"
      ],
      "text/latex": [
       "\\begin{tabular}{r|lllllllllll}\n",
       "  & Administrative & Administrative\\_Duration & Informational & Informational\\_Duration & ProductRelated & ProductRelated\\_Duration & BounceRates & ExitRates & PageValues & Month & Revenue\\\\\n",
       "\\hline\n",
       "\t8220 & 1           &  33.5       & 0           & 0           & 34          & 1181.8512   & 0.0         & 0.035156250 & 0           & 9           & 1          \\\\\n",
       "\t8701 & 0           &   0.0       & 0           & 0           &  1          &    0.0000   & 0.2         & 0.200000000 & 0           & 9           & 0          \\\\\n",
       "\t711 & 1           &  43.0       & 0           & 0           & 43          & 1223.3472   & 0.0         & 0.004545455 & 0           & 2           & 0          \\\\\n",
       "\t4910 & 0           &   0.0       & 0           & 0           &  4          &   29.0000   & 0.1         & 0.125000000 & 0           & 3           & 0          \\\\\n",
       "\t874 & 8           & 274.5       & 0           & 0           & 24          &  515.5758   & 0.0         & 0.003703704 & 0           & 2           & 0          \\\\\n",
       "\t5727 & 0           &   0.0       & 0           & 0           &  3          &   50.2000   & 0.0         & 0.066666667 & 0           & 7           & 0          \\\\\n",
       "\\end{tabular}\n"
      ],
      "text/markdown": [
       "\n",
       "| <!--/--> | Administrative | Administrative_Duration | Informational | Informational_Duration | ProductRelated | ProductRelated_Duration | BounceRates | ExitRates | PageValues | Month | Revenue |\n",
       "|---|---|---|---|---|---|---|---|---|---|---|---|\n",
       "| 8220 | 1           |  33.5       | 0           | 0           | 34          | 1181.8512   | 0.0         | 0.035156250 | 0           | 9           | 1           |\n",
       "| 8701 | 0           |   0.0       | 0           | 0           |  1          |    0.0000   | 0.2         | 0.200000000 | 0           | 9           | 0           |\n",
       "| 711 | 1           |  43.0       | 0           | 0           | 43          | 1223.3472   | 0.0         | 0.004545455 | 0           | 2           | 0           |\n",
       "| 4910 | 0           |   0.0       | 0           | 0           |  4          |   29.0000   | 0.1         | 0.125000000 | 0           | 3           | 0           |\n",
       "| 874 | 8           | 274.5       | 0           | 0           | 24          |  515.5758   | 0.0         | 0.003703704 | 0           | 2           | 0           |\n",
       "| 5727 | 0           |   0.0       | 0           | 0           |  3          |   50.2000   | 0.0         | 0.066666667 | 0           | 7           | 0           |\n",
       "\n"
      ],
      "text/plain": [
       "     Administrative Administrative_Duration Informational\n",
       "8220 1               33.5                   0            \n",
       "8701 0                0.0                   0            \n",
       "711  1               43.0                   0            \n",
       "4910 0                0.0                   0            \n",
       "874  8              274.5                   0            \n",
       "5727 0                0.0                   0            \n",
       "     Informational_Duration ProductRelated ProductRelated_Duration BounceRates\n",
       "8220 0                      34             1181.8512               0.0        \n",
       "8701 0                       1                0.0000               0.2        \n",
       "711  0                      43             1223.3472               0.0        \n",
       "4910 0                       4               29.0000               0.1        \n",
       "874  0                      24              515.5758               0.0        \n",
       "5727 0                       3               50.2000               0.0        \n",
       "     ExitRates   PageValues Month Revenue\n",
       "8220 0.035156250 0          9     1      \n",
       "8701 0.200000000 0          9     0      \n",
       "711  0.004545455 0          2     0      \n",
       "4910 0.125000000 0          3     0      \n",
       "874  0.003703704 0          2     0      \n",
       "5727 0.066666667 0          7     0      "
      ]
     },
     "metadata": {},
     "output_type": "display_data"
    }
   ],
   "source": [
    "# select target attributes from the train dataset\n",
    "train_df_selected <- train.df[,c(1, 2, 3, 4, 5, 6, 7, 8, 9, 17, 18)]\n",
    "head(train_df_selected)"
   ]
  },
  {
   "cell_type": "code",
   "execution_count": 10,
   "metadata": {
    "vscode": {
     "languageId": "r"
    }
   },
   "outputs": [
    {
     "data": {
      "text/html": [
       "<table>\n",
       "<thead><tr><th></th><th scope=col>Administrative</th><th scope=col>Administrative_Duration</th><th scope=col>Informational</th><th scope=col>Informational_Duration</th><th scope=col>ProductRelated</th><th scope=col>ProductRelated_Duration</th><th scope=col>BounceRates</th><th scope=col>ExitRates</th><th scope=col>PageValues</th><th scope=col>Month</th><th scope=col>Revenue</th></tr></thead>\n",
       "<tbody>\n",
       "\t<tr><th scope=row>2</th><td>0         </td><td>0         </td><td>0         </td><td>0         </td><td> 2        </td><td> 64.000000</td><td>0.00      </td><td>0.10000000</td><td>0         </td><td>1         </td><td>0         </td></tr>\n",
       "\t<tr><th scope=row>4</th><td>0         </td><td>0         </td><td>0         </td><td>0         </td><td> 2        </td><td>  2.666667</td><td>0.05      </td><td>0.14000000</td><td>0         </td><td>1         </td><td>0         </td></tr>\n",
       "\t<tr><th scope=row>5</th><td>0         </td><td>0         </td><td>0         </td><td>0         </td><td>10        </td><td>627.500000</td><td>0.02      </td><td>0.05000000</td><td>0         </td><td>1         </td><td>0         </td></tr>\n",
       "\t<tr><th scope=row>7</th><td>0         </td><td>0         </td><td>0         </td><td>0         </td><td> 1        </td><td>  0.000000</td><td>0.20      </td><td>0.20000000</td><td>0         </td><td>1         </td><td>0         </td></tr>\n",
       "\t<tr><th scope=row>8</th><td>1         </td><td>0         </td><td>0         </td><td>0         </td><td> 0        </td><td>  0.000000</td><td>0.20      </td><td>0.20000000</td><td>0         </td><td>1         </td><td>0         </td></tr>\n",
       "\t<tr><th scope=row>10</th><td>0         </td><td>0         </td><td>0         </td><td>0         </td><td> 3        </td><td>738.000000</td><td>0.00      </td><td>0.02222222</td><td>0         </td><td>1         </td><td>0         </td></tr>\n",
       "</tbody>\n",
       "</table>\n"
      ],
      "text/latex": [
       "\\begin{tabular}{r|lllllllllll}\n",
       "  & Administrative & Administrative\\_Duration & Informational & Informational\\_Duration & ProductRelated & ProductRelated\\_Duration & BounceRates & ExitRates & PageValues & Month & Revenue\\\\\n",
       "\\hline\n",
       "\t2 & 0          & 0          & 0          & 0          &  2         &  64.000000 & 0.00       & 0.10000000 & 0          & 1          & 0         \\\\\n",
       "\t4 & 0          & 0          & 0          & 0          &  2         &   2.666667 & 0.05       & 0.14000000 & 0          & 1          & 0         \\\\\n",
       "\t5 & 0          & 0          & 0          & 0          & 10         & 627.500000 & 0.02       & 0.05000000 & 0          & 1          & 0         \\\\\n",
       "\t7 & 0          & 0          & 0          & 0          &  1         &   0.000000 & 0.20       & 0.20000000 & 0          & 1          & 0         \\\\\n",
       "\t8 & 1          & 0          & 0          & 0          &  0         &   0.000000 & 0.20       & 0.20000000 & 0          & 1          & 0         \\\\\n",
       "\t10 & 0          & 0          & 0          & 0          &  3         & 738.000000 & 0.00       & 0.02222222 & 0          & 1          & 0         \\\\\n",
       "\\end{tabular}\n"
      ],
      "text/markdown": [
       "\n",
       "| <!--/--> | Administrative | Administrative_Duration | Informational | Informational_Duration | ProductRelated | ProductRelated_Duration | BounceRates | ExitRates | PageValues | Month | Revenue |\n",
       "|---|---|---|---|---|---|---|---|---|---|---|---|\n",
       "| 2 | 0          | 0          | 0          | 0          |  2         |  64.000000 | 0.00       | 0.10000000 | 0          | 1          | 0          |\n",
       "| 4 | 0          | 0          | 0          | 0          |  2         |   2.666667 | 0.05       | 0.14000000 | 0          | 1          | 0          |\n",
       "| 5 | 0          | 0          | 0          | 0          | 10         | 627.500000 | 0.02       | 0.05000000 | 0          | 1          | 0          |\n",
       "| 7 | 0          | 0          | 0          | 0          |  1         |   0.000000 | 0.20       | 0.20000000 | 0          | 1          | 0          |\n",
       "| 8 | 1          | 0          | 0          | 0          |  0         |   0.000000 | 0.20       | 0.20000000 | 0          | 1          | 0          |\n",
       "| 10 | 0          | 0          | 0          | 0          |  3         | 738.000000 | 0.00       | 0.02222222 | 0          | 1          | 0          |\n",
       "\n"
      ],
      "text/plain": [
       "   Administrative Administrative_Duration Informational Informational_Duration\n",
       "2  0              0                       0             0                     \n",
       "4  0              0                       0             0                     \n",
       "5  0              0                       0             0                     \n",
       "7  0              0                       0             0                     \n",
       "8  1              0                       0             0                     \n",
       "10 0              0                       0             0                     \n",
       "   ProductRelated ProductRelated_Duration BounceRates ExitRates  PageValues\n",
       "2   2              64.000000              0.00        0.10000000 0         \n",
       "4   2               2.666667              0.05        0.14000000 0         \n",
       "5  10             627.500000              0.02        0.05000000 0         \n",
       "7   1               0.000000              0.20        0.20000000 0         \n",
       "8   0               0.000000              0.20        0.20000000 0         \n",
       "10  3             738.000000              0.00        0.02222222 0         \n",
       "   Month Revenue\n",
       "2  1     0      \n",
       "4  1     0      \n",
       "5  1     0      \n",
       "7  1     0      \n",
       "8  1     0      \n",
       "10 1     0      "
      ]
     },
     "metadata": {},
     "output_type": "display_data"
    }
   ],
   "source": [
    "# select target attributes from the total valid dataset\n",
    "valid_df_selected <- valid.df[,c(1, 2, 3, 4, 5, 6, 7, 8, 9, 17, 18)]\n",
    "head(valid_df_selected)"
   ]
  },
  {
   "cell_type": "code",
   "execution_count": 11,
   "metadata": {
    "vscode": {
     "languageId": "r"
    }
   },
   "outputs": [
    {
     "data": {
      "text/html": [
       "<table>\n",
       "<thead><tr><th></th><th scope=col>Administrative</th><th scope=col>Administrative_Duration</th><th scope=col>Informational</th><th scope=col>Informational_Duration</th><th scope=col>ProductRelated</th><th scope=col>ProductRelated_Duration</th><th scope=col>BounceRates</th><th scope=col>ExitRates</th><th scope=col>PageValues</th><th scope=col>Month</th><th scope=col>Revenue</th></tr></thead>\n",
       "<tbody>\n",
       "\t<tr><th scope=row>4</th><td>0         </td><td>0         </td><td>0         </td><td>0         </td><td> 2        </td><td>  2.666667</td><td>0.05      </td><td>0.14000000</td><td>0         </td><td>1         </td><td>0         </td></tr>\n",
       "\t<tr><th scope=row>7</th><td>0         </td><td>0         </td><td>0         </td><td>0         </td><td> 1        </td><td>  0.000000</td><td>0.20      </td><td>0.20000000</td><td>0         </td><td>1         </td><td>0         </td></tr>\n",
       "\t<tr><th scope=row>11</th><td>0         </td><td>0         </td><td>0         </td><td>0         </td><td> 3        </td><td>395.000000</td><td>0.00      </td><td>0.06666667</td><td>0         </td><td>1         </td><td>0         </td></tr>\n",
       "\t<tr><th scope=row>19</th><td>0         </td><td>0         </td><td>0         </td><td>0         </td><td> 2        </td><td> 32.000000</td><td>0.00      </td><td>0.10000000</td><td>0         </td><td>1         </td><td>0         </td></tr>\n",
       "\t<tr><th scope=row>31</th><td>0         </td><td>0         </td><td>0         </td><td>0         </td><td> 2        </td><td> 35.000000</td><td>0.00      </td><td>0.10000000</td><td>0         </td><td>1         </td><td>0         </td></tr>\n",
       "\t<tr><th scope=row>34</th><td>0         </td><td>0         </td><td>0         </td><td>0         </td><td>10        </td><td>183.666667</td><td>0.04      </td><td>0.08000000</td><td>0         </td><td>1         </td><td>0         </td></tr>\n",
       "</tbody>\n",
       "</table>\n"
      ],
      "text/latex": [
       "\\begin{tabular}{r|lllllllllll}\n",
       "  & Administrative & Administrative\\_Duration & Informational & Informational\\_Duration & ProductRelated & ProductRelated\\_Duration & BounceRates & ExitRates & PageValues & Month & Revenue\\\\\n",
       "\\hline\n",
       "\t4 & 0          & 0          & 0          & 0          &  2         &   2.666667 & 0.05       & 0.14000000 & 0          & 1          & 0         \\\\\n",
       "\t7 & 0          & 0          & 0          & 0          &  1         &   0.000000 & 0.20       & 0.20000000 & 0          & 1          & 0         \\\\\n",
       "\t11 & 0          & 0          & 0          & 0          &  3         & 395.000000 & 0.00       & 0.06666667 & 0          & 1          & 0         \\\\\n",
       "\t19 & 0          & 0          & 0          & 0          &  2         &  32.000000 & 0.00       & 0.10000000 & 0          & 1          & 0         \\\\\n",
       "\t31 & 0          & 0          & 0          & 0          &  2         &  35.000000 & 0.00       & 0.10000000 & 0          & 1          & 0         \\\\\n",
       "\t34 & 0          & 0          & 0          & 0          & 10         & 183.666667 & 0.04       & 0.08000000 & 0          & 1          & 0         \\\\\n",
       "\\end{tabular}\n"
      ],
      "text/markdown": [
       "\n",
       "| <!--/--> | Administrative | Administrative_Duration | Informational | Informational_Duration | ProductRelated | ProductRelated_Duration | BounceRates | ExitRates | PageValues | Month | Revenue |\n",
       "|---|---|---|---|---|---|---|---|---|---|---|---|\n",
       "| 4 | 0          | 0          | 0          | 0          |  2         |   2.666667 | 0.05       | 0.14000000 | 0          | 1          | 0          |\n",
       "| 7 | 0          | 0          | 0          | 0          |  1         |   0.000000 | 0.20       | 0.20000000 | 0          | 1          | 0          |\n",
       "| 11 | 0          | 0          | 0          | 0          |  3         | 395.000000 | 0.00       | 0.06666667 | 0          | 1          | 0          |\n",
       "| 19 | 0          | 0          | 0          | 0          |  2         |  32.000000 | 0.00       | 0.10000000 | 0          | 1          | 0          |\n",
       "| 31 | 0          | 0          | 0          | 0          |  2         |  35.000000 | 0.00       | 0.10000000 | 0          | 1          | 0          |\n",
       "| 34 | 0          | 0          | 0          | 0          | 10         | 183.666667 | 0.04       | 0.08000000 | 0          | 1          | 0          |\n",
       "\n"
      ],
      "text/plain": [
       "   Administrative Administrative_Duration Informational Informational_Duration\n",
       "4  0              0                       0             0                     \n",
       "7  0              0                       0             0                     \n",
       "11 0              0                       0             0                     \n",
       "19 0              0                       0             0                     \n",
       "31 0              0                       0             0                     \n",
       "34 0              0                       0             0                     \n",
       "   ProductRelated ProductRelated_Duration BounceRates ExitRates  PageValues\n",
       "4   2               2.666667              0.05        0.14000000 0         \n",
       "7   1               0.000000              0.20        0.20000000 0         \n",
       "11  3             395.000000              0.00        0.06666667 0         \n",
       "19  2              32.000000              0.00        0.10000000 0         \n",
       "31  2              35.000000              0.00        0.10000000 0         \n",
       "34 10             183.666667              0.04        0.08000000 0         \n",
       "   Month Revenue\n",
       "4  1     0      \n",
       "7  1     0      \n",
       "11 1     0      \n",
       "19 1     0      \n",
       "31 1     0      \n",
       "34 1     0      "
      ]
     },
     "metadata": {},
     "output_type": "display_data"
    }
   ],
   "source": [
    "# select target attributes from the test dataset\n",
    "test_df_selected <- test.df[,c(1, 2, 3, 4, 5, 6, 7, 8, 9, 17, 18)]\n",
    "head(test_df_selected)"
   ]
  },
  {
   "cell_type": "markdown",
   "metadata": {
    "slideshow": {
     "slide_type": "slide"
    }
   },
   "source": [
    "## **Step 6: Apply models to predict**"
   ]
  },
  {
   "cell_type": "markdown",
   "metadata": {
    "slideshow": {
     "slide_type": "slide"
    }
   },
   "source": [
    "### **Step 1: Load the packages and set up parallel processing**"
   ]
  },
  {
   "cell_type": "code",
   "execution_count": 12,
   "metadata": {
    "slideshow": {
     "slide_type": "fragment"
    },
    "vscode": {
     "languageId": "r"
    }
   },
   "outputs": [],
   "source": [
    "# Set up multiple cores as separate workers and then make them a cluster.\n",
    "workers <- detectCores()\n",
    "cluster <- makeCluster(workers, type = \"SOCK\")\n",
    "registerDoSNOW(cluster)"
   ]
  },
  {
   "cell_type": "code",
   "execution_count": 13,
   "metadata": {
    "vscode": {
     "languageId": "r"
    }
   },
   "outputs": [
    {
     "data": {
      "text/html": [
       "16"
      ],
      "text/latex": [
       "16"
      ],
      "text/markdown": [
       "16"
      ],
      "text/plain": [
       "[1] 16"
      ]
     },
     "metadata": {},
     "output_type": "display_data"
    }
   ],
   "source": [
    "# show workers\n",
    "workers"
   ]
  },
  {
   "cell_type": "markdown",
   "metadata": {
    "slideshow": {
     "slide_type": "slide"
    }
   },
   "source": [
    "## Step 2: Check the Training and Testing Data"
   ]
  },
  {
   "cell_type": "code",
   "execution_count": 14,
   "metadata": {
    "slideshow": {
     "slide_type": "subslide"
    },
    "vscode": {
     "languageId": "r"
    }
   },
   "outputs": [
    {
     "data": {
      "text/html": [
       "<table>\n",
       "<thead><tr><th></th><th scope=col>Administrative</th><th scope=col>Administrative_Duration</th><th scope=col>Informational</th><th scope=col>Informational_Duration</th><th scope=col>ProductRelated</th><th scope=col>ProductRelated_Duration</th><th scope=col>BounceRates</th><th scope=col>ExitRates</th><th scope=col>PageValues</th><th scope=col>Month</th><th scope=col>Revenue</th></tr></thead>\n",
       "<tbody>\n",
       "\t<tr><th scope=row>8220</th><td>1          </td><td> 33.5      </td><td>0          </td><td>0          </td><td>34         </td><td>1181.8512  </td><td>0.0        </td><td>0.035156250</td><td>0          </td><td>9          </td><td>1          </td></tr>\n",
       "\t<tr><th scope=row>8701</th><td>0          </td><td>  0.0      </td><td>0          </td><td>0          </td><td> 1         </td><td>   0.0000  </td><td>0.2        </td><td>0.200000000</td><td>0          </td><td>9          </td><td>0          </td></tr>\n",
       "\t<tr><th scope=row>711</th><td>1          </td><td> 43.0      </td><td>0          </td><td>0          </td><td>43         </td><td>1223.3472  </td><td>0.0        </td><td>0.004545455</td><td>0          </td><td>2          </td><td>0          </td></tr>\n",
       "\t<tr><th scope=row>4910</th><td>0          </td><td>  0.0      </td><td>0          </td><td>0          </td><td> 4         </td><td>  29.0000  </td><td>0.1        </td><td>0.125000000</td><td>0          </td><td>3          </td><td>0          </td></tr>\n",
       "\t<tr><th scope=row>874</th><td>8          </td><td>274.5      </td><td>0          </td><td>0          </td><td>24         </td><td> 515.5758  </td><td>0.0        </td><td>0.003703704</td><td>0          </td><td>2          </td><td>0          </td></tr>\n",
       "\t<tr><th scope=row>5727</th><td>0          </td><td>  0.0      </td><td>0          </td><td>0          </td><td> 3         </td><td>  50.2000  </td><td>0.0        </td><td>0.066666667</td><td>0          </td><td>7          </td><td>0          </td></tr>\n",
       "</tbody>\n",
       "</table>\n"
      ],
      "text/latex": [
       "\\begin{tabular}{r|lllllllllll}\n",
       "  & Administrative & Administrative\\_Duration & Informational & Informational\\_Duration & ProductRelated & ProductRelated\\_Duration & BounceRates & ExitRates & PageValues & Month & Revenue\\\\\n",
       "\\hline\n",
       "\t8220 & 1           &  33.5       & 0           & 0           & 34          & 1181.8512   & 0.0         & 0.035156250 & 0           & 9           & 1          \\\\\n",
       "\t8701 & 0           &   0.0       & 0           & 0           &  1          &    0.0000   & 0.2         & 0.200000000 & 0           & 9           & 0          \\\\\n",
       "\t711 & 1           &  43.0       & 0           & 0           & 43          & 1223.3472   & 0.0         & 0.004545455 & 0           & 2           & 0          \\\\\n",
       "\t4910 & 0           &   0.0       & 0           & 0           &  4          &   29.0000   & 0.1         & 0.125000000 & 0           & 3           & 0          \\\\\n",
       "\t874 & 8           & 274.5       & 0           & 0           & 24          &  515.5758   & 0.0         & 0.003703704 & 0           & 2           & 0          \\\\\n",
       "\t5727 & 0           &   0.0       & 0           & 0           &  3          &   50.2000   & 0.0         & 0.066666667 & 0           & 7           & 0          \\\\\n",
       "\\end{tabular}\n"
      ],
      "text/markdown": [
       "\n",
       "| <!--/--> | Administrative | Administrative_Duration | Informational | Informational_Duration | ProductRelated | ProductRelated_Duration | BounceRates | ExitRates | PageValues | Month | Revenue |\n",
       "|---|---|---|---|---|---|---|---|---|---|---|---|\n",
       "| 8220 | 1           |  33.5       | 0           | 0           | 34          | 1181.8512   | 0.0         | 0.035156250 | 0           | 9           | 1           |\n",
       "| 8701 | 0           |   0.0       | 0           | 0           |  1          |    0.0000   | 0.2         | 0.200000000 | 0           | 9           | 0           |\n",
       "| 711 | 1           |  43.0       | 0           | 0           | 43          | 1223.3472   | 0.0         | 0.004545455 | 0           | 2           | 0           |\n",
       "| 4910 | 0           |   0.0       | 0           | 0           |  4          |   29.0000   | 0.1         | 0.125000000 | 0           | 3           | 0           |\n",
       "| 874 | 8           | 274.5       | 0           | 0           | 24          |  515.5758   | 0.0         | 0.003703704 | 0           | 2           | 0           |\n",
       "| 5727 | 0           |   0.0       | 0           | 0           |  3          |   50.2000   | 0.0         | 0.066666667 | 0           | 7           | 0           |\n",
       "\n"
      ],
      "text/plain": [
       "     Administrative Administrative_Duration Informational\n",
       "8220 1               33.5                   0            \n",
       "8701 0                0.0                   0            \n",
       "711  1               43.0                   0            \n",
       "4910 0                0.0                   0            \n",
       "874  8              274.5                   0            \n",
       "5727 0                0.0                   0            \n",
       "     Informational_Duration ProductRelated ProductRelated_Duration BounceRates\n",
       "8220 0                      34             1181.8512               0.0        \n",
       "8701 0                       1                0.0000               0.2        \n",
       "711  0                      43             1223.3472               0.0        \n",
       "4910 0                       4               29.0000               0.1        \n",
       "874  0                      24              515.5758               0.0        \n",
       "5727 0                       3               50.2000               0.0        \n",
       "     ExitRates   PageValues Month Revenue\n",
       "8220 0.035156250 0          9     1      \n",
       "8701 0.200000000 0          9     0      \n",
       "711  0.004545455 0          2     0      \n",
       "4910 0.125000000 0          3     0      \n",
       "874  0.003703704 0          2     0      \n",
       "5727 0.066666667 0          7     0      "
      ]
     },
     "metadata": {},
     "output_type": "display_data"
    },
    {
     "data": {
      "text/html": [
       "<table>\n",
       "<thead><tr><th></th><th scope=col>Administrative</th><th scope=col>Administrative_Duration</th><th scope=col>Informational</th><th scope=col>Informational_Duration</th><th scope=col>ProductRelated</th><th scope=col>ProductRelated_Duration</th><th scope=col>BounceRates</th><th scope=col>ExitRates</th><th scope=col>PageValues</th><th scope=col>Month</th><th scope=col>Revenue</th></tr></thead>\n",
       "<tbody>\n",
       "\t<tr><th scope=row>2</th><td>0         </td><td>0         </td><td>0         </td><td>0         </td><td> 2        </td><td> 64.000000</td><td>0.00      </td><td>0.10000000</td><td>0         </td><td>1         </td><td>0         </td></tr>\n",
       "\t<tr><th scope=row>4</th><td>0         </td><td>0         </td><td>0         </td><td>0         </td><td> 2        </td><td>  2.666667</td><td>0.05      </td><td>0.14000000</td><td>0         </td><td>1         </td><td>0         </td></tr>\n",
       "\t<tr><th scope=row>5</th><td>0         </td><td>0         </td><td>0         </td><td>0         </td><td>10        </td><td>627.500000</td><td>0.02      </td><td>0.05000000</td><td>0         </td><td>1         </td><td>0         </td></tr>\n",
       "\t<tr><th scope=row>7</th><td>0         </td><td>0         </td><td>0         </td><td>0         </td><td> 1        </td><td>  0.000000</td><td>0.20      </td><td>0.20000000</td><td>0         </td><td>1         </td><td>0         </td></tr>\n",
       "\t<tr><th scope=row>8</th><td>1         </td><td>0         </td><td>0         </td><td>0         </td><td> 0        </td><td>  0.000000</td><td>0.20      </td><td>0.20000000</td><td>0         </td><td>1         </td><td>0         </td></tr>\n",
       "\t<tr><th scope=row>10</th><td>0         </td><td>0         </td><td>0         </td><td>0         </td><td> 3        </td><td>738.000000</td><td>0.00      </td><td>0.02222222</td><td>0         </td><td>1         </td><td>0         </td></tr>\n",
       "</tbody>\n",
       "</table>\n"
      ],
      "text/latex": [
       "\\begin{tabular}{r|lllllllllll}\n",
       "  & Administrative & Administrative\\_Duration & Informational & Informational\\_Duration & ProductRelated & ProductRelated\\_Duration & BounceRates & ExitRates & PageValues & Month & Revenue\\\\\n",
       "\\hline\n",
       "\t2 & 0          & 0          & 0          & 0          &  2         &  64.000000 & 0.00       & 0.10000000 & 0          & 1          & 0         \\\\\n",
       "\t4 & 0          & 0          & 0          & 0          &  2         &   2.666667 & 0.05       & 0.14000000 & 0          & 1          & 0         \\\\\n",
       "\t5 & 0          & 0          & 0          & 0          & 10         & 627.500000 & 0.02       & 0.05000000 & 0          & 1          & 0         \\\\\n",
       "\t7 & 0          & 0          & 0          & 0          &  1         &   0.000000 & 0.20       & 0.20000000 & 0          & 1          & 0         \\\\\n",
       "\t8 & 1          & 0          & 0          & 0          &  0         &   0.000000 & 0.20       & 0.20000000 & 0          & 1          & 0         \\\\\n",
       "\t10 & 0          & 0          & 0          & 0          &  3         & 738.000000 & 0.00       & 0.02222222 & 0          & 1          & 0         \\\\\n",
       "\\end{tabular}\n"
      ],
      "text/markdown": [
       "\n",
       "| <!--/--> | Administrative | Administrative_Duration | Informational | Informational_Duration | ProductRelated | ProductRelated_Duration | BounceRates | ExitRates | PageValues | Month | Revenue |\n",
       "|---|---|---|---|---|---|---|---|---|---|---|---|\n",
       "| 2 | 0          | 0          | 0          | 0          |  2         |  64.000000 | 0.00       | 0.10000000 | 0          | 1          | 0          |\n",
       "| 4 | 0          | 0          | 0          | 0          |  2         |   2.666667 | 0.05       | 0.14000000 | 0          | 1          | 0          |\n",
       "| 5 | 0          | 0          | 0          | 0          | 10         | 627.500000 | 0.02       | 0.05000000 | 0          | 1          | 0          |\n",
       "| 7 | 0          | 0          | 0          | 0          |  1         |   0.000000 | 0.20       | 0.20000000 | 0          | 1          | 0          |\n",
       "| 8 | 1          | 0          | 0          | 0          |  0         |   0.000000 | 0.20       | 0.20000000 | 0          | 1          | 0          |\n",
       "| 10 | 0          | 0          | 0          | 0          |  3         | 738.000000 | 0.00       | 0.02222222 | 0          | 1          | 0          |\n",
       "\n"
      ],
      "text/plain": [
       "   Administrative Administrative_Duration Informational Informational_Duration\n",
       "2  0              0                       0             0                     \n",
       "4  0              0                       0             0                     \n",
       "5  0              0                       0             0                     \n",
       "7  0              0                       0             0                     \n",
       "8  1              0                       0             0                     \n",
       "10 0              0                       0             0                     \n",
       "   ProductRelated ProductRelated_Duration BounceRates ExitRates  PageValues\n",
       "2   2              64.000000              0.00        0.10000000 0         \n",
       "4   2               2.666667              0.05        0.14000000 0         \n",
       "5  10             627.500000              0.02        0.05000000 0         \n",
       "7   1               0.000000              0.20        0.20000000 0         \n",
       "8   0               0.000000              0.20        0.20000000 0         \n",
       "10  3             738.000000              0.00        0.02222222 0         \n",
       "   Month Revenue\n",
       "2  1     0      \n",
       "4  1     0      \n",
       "5  1     0      \n",
       "7  1     0      \n",
       "8  1     0      \n",
       "10 1     0      "
      ]
     },
     "metadata": {},
     "output_type": "display_data"
    }
   ],
   "source": [
    "# show heads of the selected dataset\n",
    "\n",
    "head(train_df_selected)\n",
    "head(valid_df_selected)"
   ]
  },
  {
   "cell_type": "markdown",
   "metadata": {
    "slideshow": {
     "slide_type": "slide"
    }
   },
   "source": [
    "## Step 3: Function for Calculating the Brier Skill Score"
   ]
  },
  {
   "cell_type": "code",
   "execution_count": 15,
   "metadata": {
    "slideshow": {
     "slide_type": "slide"
    },
    "vscode": {
     "languageId": "r"
    }
   },
   "outputs": [],
   "source": [
    "# Function to calculate the average Brier score.  \n",
    "brier.score <- function(predictions, realizations) {\n",
    "     return(mean((predictions - realizations)^2))   \n",
    "}"
   ]
  },
  {
   "cell_type": "code",
   "execution_count": 16,
   "metadata": {
    "slideshow": {
     "slide_type": "slide"
    },
    "vscode": {
     "languageId": "r"
    }
   },
   "outputs": [],
   "source": [
    "# Establish a reference brier score \n",
    "# for all the revenues in the testing set.\n",
    "train.default.rate <- mean(train_df_selected$Revenue)\n",
    "\n",
    "# In Validation set\n",
    "naive.pred <- rep(train.default.rate, length(valid_df_selected$Revenue))\n",
    "brier.ref.valid <- brier.score(naive.pred, valid_df_selected$Revenue)\n",
    "\n",
    "# In Testing set\n",
    "naive.pred <- rep(train.default.rate, length(test.df$Revenue))\n",
    "brier.ref.test <- brier.score(naive.pred, test.df$Revenue)\n"
   ]
  },
  {
   "cell_type": "code",
   "execution_count": 17,
   "metadata": {
    "slideshow": {
     "slide_type": "slide"
    },
    "vscode": {
     "languageId": "r"
    }
   },
   "outputs": [
    {
     "data": {
      "text/html": [
       "0.136338149590272"
      ],
      "text/latex": [
       "0.136338149590272"
      ],
      "text/markdown": [
       "0.136338149590272"
      ],
      "text/plain": [
       "[1] 0.1363381"
      ]
     },
     "metadata": {},
     "output_type": "display_data"
    },
    {
     "data": {
      "text/html": [
       "0.126391015326966"
      ],
      "text/latex": [
       "0.126391015326966"
      ],
      "text/markdown": [
       "0.126391015326966"
      ],
      "text/plain": [
       "[1] 0.126391"
      ]
     },
     "metadata": {},
     "output_type": "display_data"
    }
   ],
   "source": [
    "# current brier dataset\n",
    "brier.ref.valid\n",
    "brier.ref.test"
   ]
  },
  {
   "cell_type": "code",
   "execution_count": 18,
   "metadata": {
    "slideshow": {
     "slide_type": "slide"
    },
    "vscode": {
     "languageId": "r"
    }
   },
   "outputs": [],
   "source": [
    "# Function to calculate the Brier skill score\n",
    "skill.score <- function(predictions, realizations, brier.ref) {\n",
    "    # calculate the Brier score for the predictions.\n",
    "    brier.score <- brier.score(predictions, realizations) \n",
    "    return(1 - brier.score/ brier.ref)\n",
    "}"
   ]
  },
  {
   "cell_type": "code",
   "execution_count": 125,
   "metadata": {
    "vscode": {
     "languageId": "r"
    }
   },
   "outputs": [],
   "source": [
    "# function to calculate error rate\n",
    "library(Metrics)\n",
    "\n",
    "genError <- function(prediction, actual) \n",
    "    return(list(MAE =signif(mae(actual,prediction),4),RMSE = signif(rmse(actual,prediction),4)))"
   ]
  },
  {
   "cell_type": "markdown",
   "metadata": {
    "slideshow": {
     "slide_type": "slide"
    }
   },
   "source": [
    "## Step 4: Apply different models to predict default rates"
   ]
  },
  {
   "cell_type": "markdown",
   "metadata": {
    "slideshow": {
     "slide_type": "slide"
    }
   },
   "source": [
    "### Model1: Logistic Regression"
   ]
  },
  {
   "cell_type": "code",
   "execution_count": 24,
   "metadata": {
    "scrolled": true,
    "slideshow": {
     "slide_type": "fragment"
    },
    "vscode": {
     "languageId": "r"
    }
   },
   "outputs": [],
   "source": [
    "# Train logistic regression model\n",
    "logit.reg <- glm(Revenue~., data = train_df_selected, family = \"binomial\")"
   ]
  },
  {
   "cell_type": "code",
   "execution_count": 25,
   "metadata": {
    "slideshow": {
     "slide_type": "fragment"
    },
    "vscode": {
     "languageId": "r"
    }
   },
   "outputs": [],
   "source": [
    "# Generate predictions in the validation set\n",
    "pred.logit.reg <- predict(logit.reg, valid_df_selected, type = \"response\")"
   ]
  },
  {
   "cell_type": "code",
   "execution_count": 26,
   "metadata": {
    "slideshow": {
     "slide_type": "fragment"
    },
    "vscode": {
     "languageId": "r"
    }
   },
   "outputs": [
    {
     "data": {
      "text/html": [
       "0.315762375529718"
      ],
      "text/latex": [
       "0.315762375529718"
      ],
      "text/markdown": [
       "0.315762375529718"
      ],
      "text/plain": [
       "[1] 0.3157624"
      ]
     },
     "metadata": {},
     "output_type": "display_data"
    }
   ],
   "source": [
    "# Calculate the Brier Skill Score\n",
    "skill.score(pred.logit.reg, valid_df_selected$Revenue, brier.ref.valid)"
   ]
  },
  {
   "cell_type": "code",
   "execution_count": 27,
   "metadata": {
    "vscode": {
     "languageId": "r"
    }
   },
   "outputs": [
    {
     "data": {
      "text/plain": [
       "\n",
       "Call:\n",
       "glm(formula = Revenue ~ ., family = \"binomial\", data = train_df_selected)\n",
       "\n",
       "Deviance Residuals: \n",
       "    Min       1Q   Median       3Q      Max  \n",
       "-6.3086  -0.4582  -0.3471  -0.1677   3.4791  \n",
       "\n",
       "Coefficients:\n",
       "                          Estimate Std. Error z value Pr(>|z|)    \n",
       "(Intercept)             -2.681e+00  1.261e-01 -21.267  < 2e-16 ***\n",
       "Administrative          -1.682e-02  1.498e-02  -1.123   0.2614    \n",
       "Administrative_Duration  5.281e-05  2.602e-04   0.203   0.8391    \n",
       "Informational            6.049e-02  3.765e-02   1.607   0.1081    \n",
       "Informational_Duration  -1.293e-04  3.313e-04  -0.390   0.6963    \n",
       "ProductRelated           3.242e-03  1.438e-03   2.254   0.0242 *  \n",
       "ProductRelated_Duration  2.030e-05  3.336e-05   0.608   0.5429    \n",
       "BounceRates             -2.497e+00  4.417e+00  -0.565   0.5718    \n",
       "ExitRates               -1.860e+01  3.196e+00  -5.820 5.89e-09 ***\n",
       "PageValues               8.721e-02  3.272e-03  26.653  < 2e-16 ***\n",
       "Month                    1.060e-01  1.368e-02   7.745 9.58e-15 ***\n",
       "---\n",
       "Signif. codes:  0 '***' 0.001 '**' 0.01 '*' 0.05 '.' 0.1 ' ' 1\n",
       "\n",
       "(Dispersion parameter for binomial family taken to be 1)\n",
       "\n",
       "    Null deviance: 6077.3  on 7212  degrees of freedom\n",
       "Residual deviance: 4050.4  on 7202  degrees of freedom\n",
       "AIC: 4072.4\n",
       "\n",
       "Number of Fisher Scoring iterations: 7\n"
      ]
     },
     "metadata": {},
     "output_type": "display_data"
    }
   ],
   "source": [
    "summary(logit.reg)"
   ]
  },
  {
   "cell_type": "code",
   "execution_count": 28,
   "metadata": {
    "vscode": {
     "languageId": "r"
    }
   },
   "outputs": [],
   "source": [
    "# select target attributes from the train dataset\n",
    "train_df_selected_lr1 <- train.df[,c(1, 2, 4, 5, 6, 7, 8, 9, 17, 18)]\n",
    "\n",
    "# select target attributes from the total valid dataset\n",
    "valid_df_selected_lr1 <- valid.df[,c(1, 2, 4, 5, 6, 7, 8, 9, 17, 18)]"
   ]
  },
  {
   "cell_type": "code",
   "execution_count": 29,
   "metadata": {
    "scrolled": true,
    "slideshow": {
     "slide_type": "fragment"
    },
    "vscode": {
     "languageId": "r"
    }
   },
   "outputs": [],
   "source": [
    "# Train logistic regression model\n",
    "logit.reg1 <- glm(Revenue~., data = train_df_selected_lr1, family = \"binomial\")"
   ]
  },
  {
   "cell_type": "code",
   "execution_count": 30,
   "metadata": {
    "slideshow": {
     "slide_type": "fragment"
    },
    "vscode": {
     "languageId": "r"
    }
   },
   "outputs": [],
   "source": [
    "# Generate predictions in the validation set\n",
    "pred.logit.reg1 <- predict(logit.reg1, valid_df_selected_lr1, type = \"response\")"
   ]
  },
  {
   "cell_type": "code",
   "execution_count": 31,
   "metadata": {
    "slideshow": {
     "slide_type": "fragment"
    },
    "vscode": {
     "languageId": "r"
    }
   },
   "outputs": [
    {
     "data": {
      "text/html": [
       "0.316121418969888"
      ],
      "text/latex": [
       "0.316121418969888"
      ],
      "text/markdown": [
       "0.316121418969888"
      ],
      "text/plain": [
       "[1] 0.3161214"
      ]
     },
     "metadata": {},
     "output_type": "display_data"
    }
   ],
   "source": [
    "# Calculate the Brier Skill Score\n",
    "skill.score(pred.logit.reg1, valid_df_selected$Revenue, brier.ref.valid)"
   ]
  },
  {
   "cell_type": "code",
   "execution_count": 32,
   "metadata": {
    "vscode": {
     "languageId": "r"
    }
   },
   "outputs": [
    {
     "data": {
      "text/plain": [
       "\n",
       "Call:\n",
       "glm(formula = Revenue ~ ., family = \"binomial\", data = train_df_selected_lr1)\n",
       "\n",
       "Deviance Residuals: \n",
       "    Min       1Q   Median       3Q      Max  \n",
       "-6.3122  -0.4582  -0.3481  -0.1689   3.4700  \n",
       "\n",
       "Coefficients:\n",
       "                          Estimate Std. Error z value Pr(>|z|)    \n",
       "(Intercept)             -2.673e+00  1.259e-01 -21.236  < 2e-16 ***\n",
       "Administrative          -1.313e-02  1.478e-02  -0.888   0.3744    \n",
       "Administrative_Duration  6.367e-05  2.600e-04   0.245   0.8066    \n",
       "Informational_Duration   1.660e-04  2.685e-04   0.618   0.5365    \n",
       "ProductRelated           3.514e-03  1.448e-03   2.428   0.0152 *  \n",
       "ProductRelated_Duration  1.766e-05  3.421e-05   0.516   0.6057    \n",
       "BounceRates             -2.342e+00  4.396e+00  -0.533   0.5942    \n",
       "ExitRates               -1.864e+01  3.191e+00  -5.840 5.21e-09 ***\n",
       "PageValues               8.719e-02  3.270e-03  26.659  < 2e-16 ***\n",
       "Month                    1.059e-01  1.368e-02   7.742 9.76e-15 ***\n",
       "---\n",
       "Signif. codes:  0 '***' 0.001 '**' 0.01 '*' 0.05 '.' 0.1 ' ' 1\n",
       "\n",
       "(Dispersion parameter for binomial family taken to be 1)\n",
       "\n",
       "    Null deviance: 6077.3  on 7212  degrees of freedom\n",
       "Residual deviance: 4053.0  on 7203  degrees of freedom\n",
       "AIC: 4073\n",
       "\n",
       "Number of Fisher Scoring iterations: 7\n"
      ]
     },
     "metadata": {},
     "output_type": "display_data"
    }
   ],
   "source": [
    "summary(logit.reg1)"
   ]
  },
  {
   "cell_type": "code",
   "execution_count": 33,
   "metadata": {
    "vscode": {
     "languageId": "r"
    }
   },
   "outputs": [],
   "source": [
    "# select target attributes from the train dataset\n",
    "train_df_selected_lr2 <- train.df[,c(2, 4, 5, 6, 7, 8, 9, 17, 18)]\n",
    "\n",
    "# select target attributes from the total valid dataset\n",
    "valid_df_selected_lr2 <- valid.df[,c(2, 4, 5, 6, 7, 8, 9, 17, 18)]"
   ]
  },
  {
   "cell_type": "code",
   "execution_count": 34,
   "metadata": {
    "scrolled": true,
    "slideshow": {
     "slide_type": "fragment"
    },
    "vscode": {
     "languageId": "r"
    }
   },
   "outputs": [],
   "source": [
    "# Train logistic regression model\n",
    "logit.reg2 <- glm(Revenue~., data = train_df_selected_lr2, family = \"binomial\")"
   ]
  },
  {
   "cell_type": "code",
   "execution_count": 37,
   "metadata": {
    "slideshow": {
     "slide_type": "fragment"
    },
    "vscode": {
     "languageId": "r"
    }
   },
   "outputs": [],
   "source": [
    "# Generate predictions in the validation set\n",
    "pred.logit.reg2 <- predict(logit.reg2, valid_df_selected_lr2, type = \"response\")"
   ]
  },
  {
   "cell_type": "code",
   "execution_count": 38,
   "metadata": {
    "slideshow": {
     "slide_type": "fragment"
    },
    "vscode": {
     "languageId": "r"
    }
   },
   "outputs": [
    {
     "data": {
      "text/html": [
       "0.316420592795386"
      ],
      "text/latex": [
       "0.316420592795386"
      ],
      "text/markdown": [
       "0.316420592795386"
      ],
      "text/plain": [
       "[1] 0.3164206"
      ]
     },
     "metadata": {},
     "output_type": "display_data"
    }
   ],
   "source": [
    "# Calculate the Brier Skill Score\n",
    "skill.score(pred.logit.reg2, valid_df_selected$Revenue, brier.ref.valid)"
   ]
  },
  {
   "cell_type": "code",
   "execution_count": 127,
   "metadata": {
    "vscode": {
     "languageId": "r"
    }
   },
   "outputs": [
    {
     "data": {
      "text/html": [
       "<dl>\n",
       "\t<dt>$MAE</dt>\n",
       "\t\t<dd>0.1803</dd>\n",
       "\t<dt>$RMSE</dt>\n",
       "\t\t<dd>0.3053</dd>\n",
       "</dl>\n"
      ],
      "text/latex": [
       "\\begin{description}\n",
       "\\item[\\$MAE] 0.1803\n",
       "\\item[\\$RMSE] 0.3053\n",
       "\\end{description}\n"
      ],
      "text/markdown": [
       "$MAE\n",
       ":   0.1803\n",
       "$RMSE\n",
       ":   0.3053\n",
       "\n",
       "\n"
      ],
      "text/plain": [
       "$MAE\n",
       "[1] 0.1803\n",
       "\n",
       "$RMSE\n",
       "[1] 0.3053\n"
      ]
     },
     "metadata": {},
     "output_type": "display_data"
    }
   ],
   "source": [
    "error_lr <- genError(pred.logit.reg2, valid_df_selected$Revenue)\n",
    "error_lr"
   ]
  },
  {
   "cell_type": "code",
   "execution_count": 39,
   "metadata": {
    "vscode": {
     "languageId": "r"
    }
   },
   "outputs": [
    {
     "data": {
      "text/plain": [
       "\n",
       "Call:\n",
       "glm(formula = Revenue ~ ., family = \"binomial\", data = train_df_selected_lr2)\n",
       "\n",
       "Deviance Residuals: \n",
       "    Min       1Q   Median       3Q      Max  \n",
       "-6.3037  -0.4584  -0.3478  -0.1691   3.4687  \n",
       "\n",
       "Coefficients:\n",
       "                          Estimate Std. Error z value Pr(>|z|)    \n",
       "(Intercept)             -2.695e+00  1.236e-01 -21.807  < 2e-16 ***\n",
       "Administrative_Duration -5.690e-05  2.250e-04  -0.253   0.8004    \n",
       "Informational_Duration   1.369e-04  2.671e-04   0.513   0.6083    \n",
       "ProductRelated           3.100e-03  1.357e-03   2.285   0.0223 *  \n",
       "ProductRelated_Duration  2.362e-05  3.298e-05   0.716   0.4739    \n",
       "BounceRates             -2.465e+00  4.395e+00  -0.561   0.5749    \n",
       "ExitRates               -1.838e+01  3.179e+00  -5.783 7.36e-09 ***\n",
       "PageValues               8.692e-02  3.247e-03  26.769  < 2e-16 ***\n",
       "Month                    1.060e-01  1.368e-02   7.749 9.24e-15 ***\n",
       "---\n",
       "Signif. codes:  0 '***' 0.001 '**' 0.01 '*' 0.05 '.' 0.1 ' ' 1\n",
       "\n",
       "(Dispersion parameter for binomial family taken to be 1)\n",
       "\n",
       "    Null deviance: 6077.3  on 7212  degrees of freedom\n",
       "Residual deviance: 4053.7  on 7204  degrees of freedom\n",
       "AIC: 4071.7\n",
       "\n",
       "Number of Fisher Scoring iterations: 7\n"
      ]
     },
     "metadata": {},
     "output_type": "display_data"
    }
   ],
   "source": [
    "summary(logit.reg2)"
   ]
  },
  {
   "cell_type": "code",
   "execution_count": 40,
   "metadata": {
    "vscode": {
     "languageId": "r"
    }
   },
   "outputs": [],
   "source": [
    "# select target attributes from the train dataset\n",
    "train_df_selected_lr3 <- train.df[,c(2, 4, 5, 7, 8, 9, 17, 18)]\n",
    "\n",
    "# select target attributes from the total valid dataset\n",
    "valid_df_selected_lr3 <- valid.df[,c(2, 4, 5, 7, 8, 9, 17, 18)]"
   ]
  },
  {
   "cell_type": "code",
   "execution_count": 41,
   "metadata": {
    "scrolled": true,
    "slideshow": {
     "slide_type": "fragment"
    },
    "vscode": {
     "languageId": "r"
    }
   },
   "outputs": [],
   "source": [
    "# Train logistic regression model\n",
    "logit.reg3 <- glm(Revenue~., data = train_df_selected_lr3, family = \"binomial\")"
   ]
  },
  {
   "cell_type": "code",
   "execution_count": 42,
   "metadata": {
    "slideshow": {
     "slide_type": "fragment"
    },
    "vscode": {
     "languageId": "r"
    }
   },
   "outputs": [],
   "source": [
    "# Generate predictions in the validation set\n",
    "pred.logit.reg3 <- predict(logit.reg3, valid_df_selected_lr3, type = \"response\")"
   ]
  },
  {
   "cell_type": "code",
   "execution_count": 43,
   "metadata": {
    "slideshow": {
     "slide_type": "fragment"
    },
    "vscode": {
     "languageId": "r"
    }
   },
   "outputs": [
    {
     "data": {
      "text/html": [
       "0.315991600036642"
      ],
      "text/latex": [
       "0.315991600036642"
      ],
      "text/markdown": [
       "0.315991600036642"
      ],
      "text/plain": [
       "[1] 0.3159916"
      ]
     },
     "metadata": {},
     "output_type": "display_data"
    }
   ],
   "source": [
    "# Calculate the Brier Skill Score\n",
    "skill.score(pred.logit.reg3, valid_df_selected$Revenue, brier.ref.valid)"
   ]
  },
  {
   "cell_type": "markdown",
   "metadata": {},
   "source": [
    "#### **Stop modify cause the score decreases**"
   ]
  },
  {
   "cell_type": "markdown",
   "metadata": {
    "slideshow": {
     "slide_type": "slide"
    }
   },
   "source": [
    "### Model2: Regression Tree"
   ]
  },
  {
   "cell_type": "code",
   "execution_count": 44,
   "metadata": {
    "slideshow": {
     "slide_type": "fragment"
    },
    "vscode": {
     "languageId": "r"
    }
   },
   "outputs": [],
   "source": [
    "# Train regression tree model\n",
    "\n",
    "reg.tree <- rpart(Revenue ~ ., data = train_df_selected, \n",
    "                  control = rpart.control(cp = 0.0025))"
   ]
  },
  {
   "cell_type": "code",
   "execution_count": 45,
   "metadata": {
    "slideshow": {
     "slide_type": "fragment"
    },
    "vscode": {
     "languageId": "r"
    }
   },
   "outputs": [
    {
     "data": {
      "text/html": [
       "<dl class=dl-horizontal>\n",
       "\t<dt>PageValues</dt>\n",
       "\t\t<dd>377.589768924959</dd>\n",
       "\t<dt>Administrative</dt>\n",
       "\t\t<dd>41.4497724399111</dd>\n",
       "\t<dt>BounceRates</dt>\n",
       "\t\t<dd>37.7863478839255</dd>\n",
       "\t<dt>ProductRelated</dt>\n",
       "\t\t<dd>27.9725434224123</dd>\n",
       "\t<dt>ProductRelated_Duration</dt>\n",
       "\t\t<dd>23.2313788978338</dd>\n",
       "\t<dt>ExitRates</dt>\n",
       "\t\t<dd>19.7180239254865</dd>\n",
       "\t<dt>Administrative_Duration</dt>\n",
       "\t\t<dd>14.4190670395634</dd>\n",
       "\t<dt>Month</dt>\n",
       "\t\t<dd>13.8492256968122</dd>\n",
       "\t<dt>Informational_Duration</dt>\n",
       "\t\t<dd>7.98338098724123</dd>\n",
       "\t<dt>Informational</dt>\n",
       "\t\t<dd>5.47831388051719</dd>\n",
       "</dl>\n"
      ],
      "text/latex": [
       "\\begin{description*}\n",
       "\\item[PageValues] 377.589768924959\n",
       "\\item[Administrative] 41.4497724399111\n",
       "\\item[BounceRates] 37.7863478839255\n",
       "\\item[ProductRelated] 27.9725434224123\n",
       "\\item[ProductRelated\\textbackslash{}\\_Duration] 23.2313788978338\n",
       "\\item[ExitRates] 19.7180239254865\n",
       "\\item[Administrative\\textbackslash{}\\_Duration] 14.4190670395634\n",
       "\\item[Month] 13.8492256968122\n",
       "\\item[Informational\\textbackslash{}\\_Duration] 7.98338098724123\n",
       "\\item[Informational] 5.47831388051719\n",
       "\\end{description*}\n"
      ],
      "text/markdown": [
       "PageValues\n",
       ":   377.589768924959Administrative\n",
       ":   41.4497724399111BounceRates\n",
       ":   37.7863478839255ProductRelated\n",
       ":   27.9725434224123ProductRelated_Duration\n",
       ":   23.2313788978338ExitRates\n",
       ":   19.7180239254865Administrative_Duration\n",
       ":   14.4190670395634Month\n",
       ":   13.8492256968122Informational_Duration\n",
       ":   7.98338098724123Informational\n",
       ":   5.47831388051719\n",
       "\n"
      ],
      "text/plain": [
       "             PageValues          Administrative             BounceRates \n",
       "             377.589769               41.449772               37.786348 \n",
       "         ProductRelated ProductRelated_Duration               ExitRates \n",
       "              27.972543               23.231379               19.718024 \n",
       "Administrative_Duration                   Month  Informational_Duration \n",
       "              14.419067               13.849226                7.983381 \n",
       "          Informational \n",
       "               5.478314 "
      ]
     },
     "metadata": {},
     "output_type": "display_data"
    }
   ],
   "source": [
    "# Print out feature importance\n",
    "reg.tree$variable.importance"
   ]
  },
  {
   "cell_type": "code",
   "execution_count": 46,
   "metadata": {
    "slideshow": {
     "slide_type": "fragment"
    },
    "vscode": {
     "languageId": "r"
    }
   },
   "outputs": [],
   "source": [
    "# Generate predictions in the validation set\n",
    "reg.tree.pred <- predict(reg.tree,valid_df_selected)"
   ]
  },
  {
   "cell_type": "code",
   "execution_count": 47,
   "metadata": {
    "slideshow": {
     "slide_type": "fragment"
    },
    "vscode": {
     "languageId": "r"
    }
   },
   "outputs": [
    {
     "data": {
      "text/html": [
       "0.402636861382858"
      ],
      "text/latex": [
       "0.402636861382858"
      ],
      "text/markdown": [
       "0.402636861382858"
      ],
      "text/plain": [
       "[1] 0.4026369"
      ]
     },
     "metadata": {},
     "output_type": "display_data"
    }
   ],
   "source": [
    "# Calculate the Brier Skill Score\n",
    "skill.score(reg.tree.pred, valid_df_selected$Revenue, brier.ref.valid)"
   ]
  },
  {
   "cell_type": "code",
   "execution_count": 128,
   "metadata": {
    "vscode": {
     "languageId": "r"
    }
   },
   "outputs": [
    {
     "data": {
      "text/html": [
       "<dl>\n",
       "\t<dt>$MAE</dt>\n",
       "\t\t<dd>0.1536</dd>\n",
       "\t<dt>$RMSE</dt>\n",
       "\t\t<dd>0.2854</dd>\n",
       "</dl>\n"
      ],
      "text/latex": [
       "\\begin{description}\n",
       "\\item[\\$MAE] 0.1536\n",
       "\\item[\\$RMSE] 0.2854\n",
       "\\end{description}\n"
      ],
      "text/markdown": [
       "$MAE\n",
       ":   0.1536\n",
       "$RMSE\n",
       ":   0.2854\n",
       "\n",
       "\n"
      ],
      "text/plain": [
       "$MAE\n",
       "[1] 0.1536\n",
       "\n",
       "$RMSE\n",
       "[1] 0.2854\n"
      ]
     },
     "metadata": {},
     "output_type": "display_data"
    }
   ],
   "source": [
    "error_rt <- genError(reg.tree.pred, valid_df_selected$Revenue)\n",
    "error_rt"
   ]
  },
  {
   "cell_type": "code",
   "execution_count": 48,
   "metadata": {
    "vscode": {
     "languageId": "r"
    }
   },
   "outputs": [
    {
     "data": {
      "text/html": [
       "<table>\n",
       "<thead><tr><th></th><th scope=col>Administrative</th><th scope=col>Administrative_Duration</th><th scope=col>Informational_Duration</th><th scope=col>ProductRelated</th><th scope=col>ProductRelated_Duration</th><th scope=col>BounceRates</th><th scope=col>ExitRates</th><th scope=col>PageValues</th><th scope=col>Month</th><th scope=col>Revenue</th></tr></thead>\n",
       "<tbody>\n",
       "\t<tr><th scope=row>2</th><td>0         </td><td>0         </td><td>0         </td><td> 2        </td><td> 64.000000</td><td>0.00      </td><td>0.10000000</td><td>0         </td><td>1         </td><td>0         </td></tr>\n",
       "\t<tr><th scope=row>4</th><td>0         </td><td>0         </td><td>0         </td><td> 2        </td><td>  2.666667</td><td>0.05      </td><td>0.14000000</td><td>0         </td><td>1         </td><td>0         </td></tr>\n",
       "\t<tr><th scope=row>5</th><td>0         </td><td>0         </td><td>0         </td><td>10        </td><td>627.500000</td><td>0.02      </td><td>0.05000000</td><td>0         </td><td>1         </td><td>0         </td></tr>\n",
       "\t<tr><th scope=row>7</th><td>0         </td><td>0         </td><td>0         </td><td> 1        </td><td>  0.000000</td><td>0.20      </td><td>0.20000000</td><td>0         </td><td>1         </td><td>0         </td></tr>\n",
       "\t<tr><th scope=row>8</th><td>1         </td><td>0         </td><td>0         </td><td> 0        </td><td>  0.000000</td><td>0.20      </td><td>0.20000000</td><td>0         </td><td>1         </td><td>0         </td></tr>\n",
       "\t<tr><th scope=row>10</th><td>0         </td><td>0         </td><td>0         </td><td> 3        </td><td>738.000000</td><td>0.00      </td><td>0.02222222</td><td>0         </td><td>1         </td><td>0         </td></tr>\n",
       "</tbody>\n",
       "</table>\n"
      ],
      "text/latex": [
       "\\begin{tabular}{r|llllllllll}\n",
       "  & Administrative & Administrative\\_Duration & Informational\\_Duration & ProductRelated & ProductRelated\\_Duration & BounceRates & ExitRates & PageValues & Month & Revenue\\\\\n",
       "\\hline\n",
       "\t2 & 0          & 0          & 0          &  2         &  64.000000 & 0.00       & 0.10000000 & 0          & 1          & 0         \\\\\n",
       "\t4 & 0          & 0          & 0          &  2         &   2.666667 & 0.05       & 0.14000000 & 0          & 1          & 0         \\\\\n",
       "\t5 & 0          & 0          & 0          & 10         & 627.500000 & 0.02       & 0.05000000 & 0          & 1          & 0         \\\\\n",
       "\t7 & 0          & 0          & 0          &  1         &   0.000000 & 0.20       & 0.20000000 & 0          & 1          & 0         \\\\\n",
       "\t8 & 1          & 0          & 0          &  0         &   0.000000 & 0.20       & 0.20000000 & 0          & 1          & 0         \\\\\n",
       "\t10 & 0          & 0          & 0          &  3         & 738.000000 & 0.00       & 0.02222222 & 0          & 1          & 0         \\\\\n",
       "\\end{tabular}\n"
      ],
      "text/markdown": [
       "\n",
       "| <!--/--> | Administrative | Administrative_Duration | Informational_Duration | ProductRelated | ProductRelated_Duration | BounceRates | ExitRates | PageValues | Month | Revenue |\n",
       "|---|---|---|---|---|---|---|---|---|---|---|\n",
       "| 2 | 0          | 0          | 0          |  2         |  64.000000 | 0.00       | 0.10000000 | 0          | 1          | 0          |\n",
       "| 4 | 0          | 0          | 0          |  2         |   2.666667 | 0.05       | 0.14000000 | 0          | 1          | 0          |\n",
       "| 5 | 0          | 0          | 0          | 10         | 627.500000 | 0.02       | 0.05000000 | 0          | 1          | 0          |\n",
       "| 7 | 0          | 0          | 0          |  1         |   0.000000 | 0.20       | 0.20000000 | 0          | 1          | 0          |\n",
       "| 8 | 1          | 0          | 0          |  0         |   0.000000 | 0.20       | 0.20000000 | 0          | 1          | 0          |\n",
       "| 10 | 0          | 0          | 0          |  3         | 738.000000 | 0.00       | 0.02222222 | 0          | 1          | 0          |\n",
       "\n"
      ],
      "text/plain": [
       "   Administrative Administrative_Duration Informational_Duration ProductRelated\n",
       "2  0              0                       0                       2            \n",
       "4  0              0                       0                       2            \n",
       "5  0              0                       0                      10            \n",
       "7  0              0                       0                       1            \n",
       "8  1              0                       0                       0            \n",
       "10 0              0                       0                       3            \n",
       "   ProductRelated_Duration BounceRates ExitRates  PageValues Month Revenue\n",
       "2   64.000000              0.00        0.10000000 0          1     0      \n",
       "4    2.666667              0.05        0.14000000 0          1     0      \n",
       "5  627.500000              0.02        0.05000000 0          1     0      \n",
       "7    0.000000              0.20        0.20000000 0          1     0      \n",
       "8    0.000000              0.20        0.20000000 0          1     0      \n",
       "10 738.000000              0.00        0.02222222 0          1     0      "
      ]
     },
     "metadata": {},
     "output_type": "display_data"
    },
    {
     "data": {
      "text/html": [
       "<table>\n",
       "<thead><tr><th></th><th scope=col>Administrative</th><th scope=col>Administrative_Duration</th><th scope=col>Informational_Duration</th><th scope=col>ProductRelated</th><th scope=col>ProductRelated_Duration</th><th scope=col>BounceRates</th><th scope=col>ExitRates</th><th scope=col>PageValues</th><th scope=col>Month</th><th scope=col>Revenue</th></tr></thead>\n",
       "<tbody>\n",
       "\t<tr><th scope=row>8220</th><td>1          </td><td> 33.5      </td><td>0          </td><td>34         </td><td>1181.8512  </td><td>0.0        </td><td>0.035156250</td><td>0          </td><td>9          </td><td>1          </td></tr>\n",
       "\t<tr><th scope=row>8701</th><td>0          </td><td>  0.0      </td><td>0          </td><td> 1         </td><td>   0.0000  </td><td>0.2        </td><td>0.200000000</td><td>0          </td><td>9          </td><td>0          </td></tr>\n",
       "\t<tr><th scope=row>711</th><td>1          </td><td> 43.0      </td><td>0          </td><td>43         </td><td>1223.3472  </td><td>0.0        </td><td>0.004545455</td><td>0          </td><td>2          </td><td>0          </td></tr>\n",
       "\t<tr><th scope=row>4910</th><td>0          </td><td>  0.0      </td><td>0          </td><td> 4         </td><td>  29.0000  </td><td>0.1        </td><td>0.125000000</td><td>0          </td><td>3          </td><td>0          </td></tr>\n",
       "\t<tr><th scope=row>874</th><td>8          </td><td>274.5      </td><td>0          </td><td>24         </td><td> 515.5758  </td><td>0.0        </td><td>0.003703704</td><td>0          </td><td>2          </td><td>0          </td></tr>\n",
       "\t<tr><th scope=row>5727</th><td>0          </td><td>  0.0      </td><td>0          </td><td> 3         </td><td>  50.2000  </td><td>0.0        </td><td>0.066666667</td><td>0          </td><td>7          </td><td>0          </td></tr>\n",
       "</tbody>\n",
       "</table>\n"
      ],
      "text/latex": [
       "\\begin{tabular}{r|llllllllll}\n",
       "  & Administrative & Administrative\\_Duration & Informational\\_Duration & ProductRelated & ProductRelated\\_Duration & BounceRates & ExitRates & PageValues & Month & Revenue\\\\\n",
       "\\hline\n",
       "\t8220 & 1           &  33.5       & 0           & 34          & 1181.8512   & 0.0         & 0.035156250 & 0           & 9           & 1          \\\\\n",
       "\t8701 & 0           &   0.0       & 0           &  1          &    0.0000   & 0.2         & 0.200000000 & 0           & 9           & 0          \\\\\n",
       "\t711 & 1           &  43.0       & 0           & 43          & 1223.3472   & 0.0         & 0.004545455 & 0           & 2           & 0          \\\\\n",
       "\t4910 & 0           &   0.0       & 0           &  4          &   29.0000   & 0.1         & 0.125000000 & 0           & 3           & 0          \\\\\n",
       "\t874 & 8           & 274.5       & 0           & 24          &  515.5758   & 0.0         & 0.003703704 & 0           & 2           & 0          \\\\\n",
       "\t5727 & 0           &   0.0       & 0           &  3          &   50.2000   & 0.0         & 0.066666667 & 0           & 7           & 0          \\\\\n",
       "\\end{tabular}\n"
      ],
      "text/markdown": [
       "\n",
       "| <!--/--> | Administrative | Administrative_Duration | Informational_Duration | ProductRelated | ProductRelated_Duration | BounceRates | ExitRates | PageValues | Month | Revenue |\n",
       "|---|---|---|---|---|---|---|---|---|---|---|\n",
       "| 8220 | 1           |  33.5       | 0           | 34          | 1181.8512   | 0.0         | 0.035156250 | 0           | 9           | 1           |\n",
       "| 8701 | 0           |   0.0       | 0           |  1          |    0.0000   | 0.2         | 0.200000000 | 0           | 9           | 0           |\n",
       "| 711 | 1           |  43.0       | 0           | 43          | 1223.3472   | 0.0         | 0.004545455 | 0           | 2           | 0           |\n",
       "| 4910 | 0           |   0.0       | 0           |  4          |   29.0000   | 0.1         | 0.125000000 | 0           | 3           | 0           |\n",
       "| 874 | 8           | 274.5       | 0           | 24          |  515.5758   | 0.0         | 0.003703704 | 0           | 2           | 0           |\n",
       "| 5727 | 0           |   0.0       | 0           |  3          |   50.2000   | 0.0         | 0.066666667 | 0           | 7           | 0           |\n",
       "\n"
      ],
      "text/plain": [
       "     Administrative Administrative_Duration Informational_Duration\n",
       "8220 1               33.5                   0                     \n",
       "8701 0                0.0                   0                     \n",
       "711  1               43.0                   0                     \n",
       "4910 0                0.0                   0                     \n",
       "874  8              274.5                   0                     \n",
       "5727 0                0.0                   0                     \n",
       "     ProductRelated ProductRelated_Duration BounceRates ExitRates   PageValues\n",
       "8220 34             1181.8512               0.0         0.035156250 0         \n",
       "8701  1                0.0000               0.2         0.200000000 0         \n",
       "711  43             1223.3472               0.0         0.004545455 0         \n",
       "4910  4               29.0000               0.1         0.125000000 0         \n",
       "874  24              515.5758               0.0         0.003703704 0         \n",
       "5727  3               50.2000               0.0         0.066666667 0         \n",
       "     Month Revenue\n",
       "8220 9     1      \n",
       "8701 9     0      \n",
       "711  2     0      \n",
       "4910 3     0      \n",
       "874  2     0      \n",
       "5727 7     0      "
      ]
     },
     "metadata": {},
     "output_type": "display_data"
    }
   ],
   "source": [
    "# Get rid of the last important one\n",
    "valid_df_selected_rt1 <- valid.df[,c(1, 2, 4, 5, 6, 7, 8, 9, 17, 18)]\n",
    "head(valid_df_selected_rt1)\n",
    "\n",
    "train_df_selected_rt1 <- train.df[,c(1, 2, 4, 5, 6, 7, 8, 9, 17, 18)]\n",
    "head(train_df_selected_rt1)"
   ]
  },
  {
   "cell_type": "code",
   "execution_count": 49,
   "metadata": {
    "slideshow": {
     "slide_type": "fragment"
    },
    "vscode": {
     "languageId": "r"
    }
   },
   "outputs": [],
   "source": [
    "# Train regression tree model\n",
    "library(rpart)\n",
    "reg.tree <- rpart(Revenue ~ ., data = train_df_selected_rt1, \n",
    "                  control = rpart.control(cp = 0.0025))\n",
    "\n",
    "# cp value was choose by multiple times of configuring"
   ]
  },
  {
   "cell_type": "code",
   "execution_count": 50,
   "metadata": {
    "slideshow": {
     "slide_type": "fragment"
    },
    "vscode": {
     "languageId": "r"
    }
   },
   "outputs": [
    {
     "data": {
      "text/html": [
       "<dl class=dl-horizontal>\n",
       "\t<dt>PageValues</dt>\n",
       "\t\t<dd>377.589768924959</dd>\n",
       "\t<dt>Administrative</dt>\n",
       "\t\t<dd>41.4497724399111</dd>\n",
       "\t<dt>BounceRates</dt>\n",
       "\t\t<dd>38.0347099704414</dd>\n",
       "\t<dt>ProductRelated</dt>\n",
       "\t\t<dd>28.6507237279706</dd>\n",
       "\t<dt>ProductRelated_Duration</dt>\n",
       "\t\t<dd>23.2313788978338</dd>\n",
       "\t<dt>ExitRates</dt>\n",
       "\t\t<dd>19.7180239254865</dd>\n",
       "\t<dt>Administrative_Duration</dt>\n",
       "\t\t<dd>14.4190670395634</dd>\n",
       "\t<dt>Month</dt>\n",
       "\t\t<dd>13.8492256968122</dd>\n",
       "\t<dt>Informational_Duration</dt>\n",
       "\t\t<dd>9.0664752206489</dd>\n",
       "</dl>\n"
      ],
      "text/latex": [
       "\\begin{description*}\n",
       "\\item[PageValues] 377.589768924959\n",
       "\\item[Administrative] 41.4497724399111\n",
       "\\item[BounceRates] 38.0347099704414\n",
       "\\item[ProductRelated] 28.6507237279706\n",
       "\\item[ProductRelated\\textbackslash{}\\_Duration] 23.2313788978338\n",
       "\\item[ExitRates] 19.7180239254865\n",
       "\\item[Administrative\\textbackslash{}\\_Duration] 14.4190670395634\n",
       "\\item[Month] 13.8492256968122\n",
       "\\item[Informational\\textbackslash{}\\_Duration] 9.0664752206489\n",
       "\\end{description*}\n"
      ],
      "text/markdown": [
       "PageValues\n",
       ":   377.589768924959Administrative\n",
       ":   41.4497724399111BounceRates\n",
       ":   38.0347099704414ProductRelated\n",
       ":   28.6507237279706ProductRelated_Duration\n",
       ":   23.2313788978338ExitRates\n",
       ":   19.7180239254865Administrative_Duration\n",
       ":   14.4190670395634Month\n",
       ":   13.8492256968122Informational_Duration\n",
       ":   9.0664752206489\n",
       "\n"
      ],
      "text/plain": [
       "             PageValues          Administrative             BounceRates \n",
       "             377.589769               41.449772               38.034710 \n",
       "         ProductRelated ProductRelated_Duration               ExitRates \n",
       "              28.650724               23.231379               19.718024 \n",
       "Administrative_Duration                   Month  Informational_Duration \n",
       "              14.419067               13.849226                9.066475 "
      ]
     },
     "metadata": {},
     "output_type": "display_data"
    }
   ],
   "source": [
    "# Print out feature importance\n",
    "reg.tree$variable.importance"
   ]
  },
  {
   "cell_type": "code",
   "execution_count": 51,
   "metadata": {
    "vscode": {
     "languageId": "r"
    }
   },
   "outputs": [],
   "source": [
    "# Generate predictions in the validation set\n",
    "reg.tree.pred1 <- predict(reg.tree,valid_df_selected_rt1)"
   ]
  },
  {
   "cell_type": "code",
   "execution_count": 52,
   "metadata": {
    "vscode": {
     "languageId": "r"
    }
   },
   "outputs": [
    {
     "data": {
      "text/html": [
       "0.402636861382858"
      ],
      "text/latex": [
       "0.402636861382858"
      ],
      "text/markdown": [
       "0.402636861382858"
      ],
      "text/plain": [
       "[1] 0.4026369"
      ]
     },
     "metadata": {},
     "output_type": "display_data"
    }
   ],
   "source": [
    "# Calculate the Brier Skill Score\n",
    "skill.score(reg.tree.pred1, valid_df_selected_rt1$Revenue, brier.ref.valid)"
   ]
  },
  {
   "cell_type": "code",
   "execution_count": 53,
   "metadata": {
    "vscode": {
     "languageId": "r"
    }
   },
   "outputs": [
    {
     "data": {
      "text/html": [
       "<table>\n",
       "<thead><tr><th></th><th scope=col>Administrative</th><th scope=col>Administrative_Duration</th><th scope=col>ProductRelated</th><th scope=col>ProductRelated_Duration</th><th scope=col>BounceRates</th><th scope=col>ExitRates</th><th scope=col>PageValues</th><th scope=col>Month</th><th scope=col>Revenue</th></tr></thead>\n",
       "<tbody>\n",
       "\t<tr><th scope=row>2</th><td>0         </td><td>0         </td><td> 2        </td><td> 64.000000</td><td>0.00      </td><td>0.10000000</td><td>0         </td><td>1         </td><td>0         </td></tr>\n",
       "\t<tr><th scope=row>4</th><td>0         </td><td>0         </td><td> 2        </td><td>  2.666667</td><td>0.05      </td><td>0.14000000</td><td>0         </td><td>1         </td><td>0         </td></tr>\n",
       "\t<tr><th scope=row>5</th><td>0         </td><td>0         </td><td>10        </td><td>627.500000</td><td>0.02      </td><td>0.05000000</td><td>0         </td><td>1         </td><td>0         </td></tr>\n",
       "\t<tr><th scope=row>7</th><td>0         </td><td>0         </td><td> 1        </td><td>  0.000000</td><td>0.20      </td><td>0.20000000</td><td>0         </td><td>1         </td><td>0         </td></tr>\n",
       "\t<tr><th scope=row>8</th><td>1         </td><td>0         </td><td> 0        </td><td>  0.000000</td><td>0.20      </td><td>0.20000000</td><td>0         </td><td>1         </td><td>0         </td></tr>\n",
       "\t<tr><th scope=row>10</th><td>0         </td><td>0         </td><td> 3        </td><td>738.000000</td><td>0.00      </td><td>0.02222222</td><td>0         </td><td>1         </td><td>0         </td></tr>\n",
       "</tbody>\n",
       "</table>\n"
      ],
      "text/latex": [
       "\\begin{tabular}{r|lllllllll}\n",
       "  & Administrative & Administrative\\_Duration & ProductRelated & ProductRelated\\_Duration & BounceRates & ExitRates & PageValues & Month & Revenue\\\\\n",
       "\\hline\n",
       "\t2 & 0          & 0          &  2         &  64.000000 & 0.00       & 0.10000000 & 0          & 1          & 0         \\\\\n",
       "\t4 & 0          & 0          &  2         &   2.666667 & 0.05       & 0.14000000 & 0          & 1          & 0         \\\\\n",
       "\t5 & 0          & 0          & 10         & 627.500000 & 0.02       & 0.05000000 & 0          & 1          & 0         \\\\\n",
       "\t7 & 0          & 0          &  1         &   0.000000 & 0.20       & 0.20000000 & 0          & 1          & 0         \\\\\n",
       "\t8 & 1          & 0          &  0         &   0.000000 & 0.20       & 0.20000000 & 0          & 1          & 0         \\\\\n",
       "\t10 & 0          & 0          &  3         & 738.000000 & 0.00       & 0.02222222 & 0          & 1          & 0         \\\\\n",
       "\\end{tabular}\n"
      ],
      "text/markdown": [
       "\n",
       "| <!--/--> | Administrative | Administrative_Duration | ProductRelated | ProductRelated_Duration | BounceRates | ExitRates | PageValues | Month | Revenue |\n",
       "|---|---|---|---|---|---|---|---|---|---|\n",
       "| 2 | 0          | 0          |  2         |  64.000000 | 0.00       | 0.10000000 | 0          | 1          | 0          |\n",
       "| 4 | 0          | 0          |  2         |   2.666667 | 0.05       | 0.14000000 | 0          | 1          | 0          |\n",
       "| 5 | 0          | 0          | 10         | 627.500000 | 0.02       | 0.05000000 | 0          | 1          | 0          |\n",
       "| 7 | 0          | 0          |  1         |   0.000000 | 0.20       | 0.20000000 | 0          | 1          | 0          |\n",
       "| 8 | 1          | 0          |  0         |   0.000000 | 0.20       | 0.20000000 | 0          | 1          | 0          |\n",
       "| 10 | 0          | 0          |  3         | 738.000000 | 0.00       | 0.02222222 | 0          | 1          | 0          |\n",
       "\n"
      ],
      "text/plain": [
       "   Administrative Administrative_Duration ProductRelated\n",
       "2  0              0                        2            \n",
       "4  0              0                        2            \n",
       "5  0              0                       10            \n",
       "7  0              0                        1            \n",
       "8  1              0                        0            \n",
       "10 0              0                        3            \n",
       "   ProductRelated_Duration BounceRates ExitRates  PageValues Month Revenue\n",
       "2   64.000000              0.00        0.10000000 0          1     0      \n",
       "4    2.666667              0.05        0.14000000 0          1     0      \n",
       "5  627.500000              0.02        0.05000000 0          1     0      \n",
       "7    0.000000              0.20        0.20000000 0          1     0      \n",
       "8    0.000000              0.20        0.20000000 0          1     0      \n",
       "10 738.000000              0.00        0.02222222 0          1     0      "
      ]
     },
     "metadata": {},
     "output_type": "display_data"
    },
    {
     "data": {
      "text/html": [
       "<table>\n",
       "<thead><tr><th></th><th scope=col>Administrative</th><th scope=col>Administrative_Duration</th><th scope=col>ProductRelated</th><th scope=col>ProductRelated_Duration</th><th scope=col>BounceRates</th><th scope=col>ExitRates</th><th scope=col>PageValues</th><th scope=col>Month</th><th scope=col>Revenue</th></tr></thead>\n",
       "<tbody>\n",
       "\t<tr><th scope=row>8220</th><td>1          </td><td> 33.5      </td><td>34         </td><td>1181.8512  </td><td>0.0        </td><td>0.035156250</td><td>0          </td><td>9          </td><td>1          </td></tr>\n",
       "\t<tr><th scope=row>8701</th><td>0          </td><td>  0.0      </td><td> 1         </td><td>   0.0000  </td><td>0.2        </td><td>0.200000000</td><td>0          </td><td>9          </td><td>0          </td></tr>\n",
       "\t<tr><th scope=row>711</th><td>1          </td><td> 43.0      </td><td>43         </td><td>1223.3472  </td><td>0.0        </td><td>0.004545455</td><td>0          </td><td>2          </td><td>0          </td></tr>\n",
       "\t<tr><th scope=row>4910</th><td>0          </td><td>  0.0      </td><td> 4         </td><td>  29.0000  </td><td>0.1        </td><td>0.125000000</td><td>0          </td><td>3          </td><td>0          </td></tr>\n",
       "\t<tr><th scope=row>874</th><td>8          </td><td>274.5      </td><td>24         </td><td> 515.5758  </td><td>0.0        </td><td>0.003703704</td><td>0          </td><td>2          </td><td>0          </td></tr>\n",
       "\t<tr><th scope=row>5727</th><td>0          </td><td>  0.0      </td><td> 3         </td><td>  50.2000  </td><td>0.0        </td><td>0.066666667</td><td>0          </td><td>7          </td><td>0          </td></tr>\n",
       "</tbody>\n",
       "</table>\n"
      ],
      "text/latex": [
       "\\begin{tabular}{r|lllllllll}\n",
       "  & Administrative & Administrative\\_Duration & ProductRelated & ProductRelated\\_Duration & BounceRates & ExitRates & PageValues & Month & Revenue\\\\\n",
       "\\hline\n",
       "\t8220 & 1           &  33.5       & 34          & 1181.8512   & 0.0         & 0.035156250 & 0           & 9           & 1          \\\\\n",
       "\t8701 & 0           &   0.0       &  1          &    0.0000   & 0.2         & 0.200000000 & 0           & 9           & 0          \\\\\n",
       "\t711 & 1           &  43.0       & 43          & 1223.3472   & 0.0         & 0.004545455 & 0           & 2           & 0          \\\\\n",
       "\t4910 & 0           &   0.0       &  4          &   29.0000   & 0.1         & 0.125000000 & 0           & 3           & 0          \\\\\n",
       "\t874 & 8           & 274.5       & 24          &  515.5758   & 0.0         & 0.003703704 & 0           & 2           & 0          \\\\\n",
       "\t5727 & 0           &   0.0       &  3          &   50.2000   & 0.0         & 0.066666667 & 0           & 7           & 0          \\\\\n",
       "\\end{tabular}\n"
      ],
      "text/markdown": [
       "\n",
       "| <!--/--> | Administrative | Administrative_Duration | ProductRelated | ProductRelated_Duration | BounceRates | ExitRates | PageValues | Month | Revenue |\n",
       "|---|---|---|---|---|---|---|---|---|---|\n",
       "| 8220 | 1           |  33.5       | 34          | 1181.8512   | 0.0         | 0.035156250 | 0           | 9           | 1           |\n",
       "| 8701 | 0           |   0.0       |  1          |    0.0000   | 0.2         | 0.200000000 | 0           | 9           | 0           |\n",
       "| 711 | 1           |  43.0       | 43          | 1223.3472   | 0.0         | 0.004545455 | 0           | 2           | 0           |\n",
       "| 4910 | 0           |   0.0       |  4          |   29.0000   | 0.1         | 0.125000000 | 0           | 3           | 0           |\n",
       "| 874 | 8           | 274.5       | 24          |  515.5758   | 0.0         | 0.003703704 | 0           | 2           | 0           |\n",
       "| 5727 | 0           |   0.0       |  3          |   50.2000   | 0.0         | 0.066666667 | 0           | 7           | 0           |\n",
       "\n"
      ],
      "text/plain": [
       "     Administrative Administrative_Duration ProductRelated\n",
       "8220 1               33.5                   34            \n",
       "8701 0                0.0                    1            \n",
       "711  1               43.0                   43            \n",
       "4910 0                0.0                    4            \n",
       "874  8              274.5                   24            \n",
       "5727 0                0.0                    3            \n",
       "     ProductRelated_Duration BounceRates ExitRates   PageValues Month Revenue\n",
       "8220 1181.8512               0.0         0.035156250 0          9     1      \n",
       "8701    0.0000               0.2         0.200000000 0          9     0      \n",
       "711  1223.3472               0.0         0.004545455 0          2     0      \n",
       "4910   29.0000               0.1         0.125000000 0          3     0      \n",
       "874   515.5758               0.0         0.003703704 0          2     0      \n",
       "5727   50.2000               0.0         0.066666667 0          7     0      "
      ]
     },
     "metadata": {},
     "output_type": "display_data"
    }
   ],
   "source": [
    "# Get rid of the last important one\n",
    "valid_df_selected_rt2 <- valid.df[,c(1, 2, 5, 6, 7, 8, 9, 17, 18)]\n",
    "head(valid_df_selected_rt2)\n",
    "\n",
    "train_df_selected_rt2 <- train.df[,c(1, 2, 5, 6, 7, 8, 9, 17, 18)]\n",
    "head(train_df_selected_rt2)"
   ]
  },
  {
   "cell_type": "code",
   "execution_count": 54,
   "metadata": {
    "slideshow": {
     "slide_type": "fragment"
    },
    "vscode": {
     "languageId": "r"
    }
   },
   "outputs": [],
   "source": [
    "# Train regression tree model\n",
    "library(rpart)\n",
    "reg.tree <- rpart(Revenue ~ ., data = train_df_selected_rt2, \n",
    "                  control = rpart.control(cp = 0.0025))\n",
    "\n",
    "# cp value was choose by multiple times of configuring"
   ]
  },
  {
   "cell_type": "code",
   "execution_count": 55,
   "metadata": {
    "slideshow": {
     "slide_type": "fragment"
    },
    "vscode": {
     "languageId": "r"
    }
   },
   "outputs": [
    {
     "data": {
      "text/html": [
       "<dl class=dl-horizontal>\n",
       "\t<dt>PageValues</dt>\n",
       "\t\t<dd>377.589768924959</dd>\n",
       "\t<dt>Administrative</dt>\n",
       "\t\t<dd>41.4497724399111</dd>\n",
       "\t<dt>BounceRates</dt>\n",
       "\t\t<dd>38.5620680052506</dd>\n",
       "\t<dt>ProductRelated</dt>\n",
       "\t\t<dd>28.6507237279706</dd>\n",
       "\t<dt>ProductRelated_Duration</dt>\n",
       "\t\t<dd>23.2313788978338</dd>\n",
       "\t<dt>ExitRates</dt>\n",
       "\t\t<dd>19.7180239254865</dd>\n",
       "\t<dt>Administrative_Duration</dt>\n",
       "\t\t<dd>14.4190670395634</dd>\n",
       "\t<dt>Month</dt>\n",
       "\t\t<dd>14.3272071270937</dd>\n",
       "</dl>\n"
      ],
      "text/latex": [
       "\\begin{description*}\n",
       "\\item[PageValues] 377.589768924959\n",
       "\\item[Administrative] 41.4497724399111\n",
       "\\item[BounceRates] 38.5620680052506\n",
       "\\item[ProductRelated] 28.6507237279706\n",
       "\\item[ProductRelated\\textbackslash{}\\_Duration] 23.2313788978338\n",
       "\\item[ExitRates] 19.7180239254865\n",
       "\\item[Administrative\\textbackslash{}\\_Duration] 14.4190670395634\n",
       "\\item[Month] 14.3272071270937\n",
       "\\end{description*}\n"
      ],
      "text/markdown": [
       "PageValues\n",
       ":   377.589768924959Administrative\n",
       ":   41.4497724399111BounceRates\n",
       ":   38.5620680052506ProductRelated\n",
       ":   28.6507237279706ProductRelated_Duration\n",
       ":   23.2313788978338ExitRates\n",
       ":   19.7180239254865Administrative_Duration\n",
       ":   14.4190670395634Month\n",
       ":   14.3272071270937\n",
       "\n"
      ],
      "text/plain": [
       "             PageValues          Administrative             BounceRates \n",
       "              377.58977                41.44977                38.56207 \n",
       "         ProductRelated ProductRelated_Duration               ExitRates \n",
       "               28.65072                23.23138                19.71802 \n",
       "Administrative_Duration                   Month \n",
       "               14.41907                14.32721 "
      ]
     },
     "metadata": {},
     "output_type": "display_data"
    }
   ],
   "source": [
    "# Print out feature importance\n",
    "reg.tree$variable.importance"
   ]
  },
  {
   "cell_type": "code",
   "execution_count": 56,
   "metadata": {
    "vscode": {
     "languageId": "r"
    }
   },
   "outputs": [],
   "source": [
    "# Generate predictions in the validation set\n",
    "reg.tree.pred2 <- predict(reg.tree,valid_df_selected_rt2)"
   ]
  },
  {
   "cell_type": "code",
   "execution_count": 57,
   "metadata": {
    "vscode": {
     "languageId": "r"
    }
   },
   "outputs": [
    {
     "data": {
      "text/html": [
       "0.402636861382858"
      ],
      "text/latex": [
       "0.402636861382858"
      ],
      "text/markdown": [
       "0.402636861382858"
      ],
      "text/plain": [
       "[1] 0.4026369"
      ]
     },
     "metadata": {},
     "output_type": "display_data"
    }
   ],
   "source": [
    "# Calculate the Brier Skill Score\n",
    "skill.score(reg.tree.pred2, valid_df_selected_rt1$Revenue, brier.ref.valid)"
   ]
  },
  {
   "cell_type": "code",
   "execution_count": 58,
   "metadata": {
    "vscode": {
     "languageId": "r"
    }
   },
   "outputs": [
    {
     "data": {
      "text/html": [
       "<table>\n",
       "<thead><tr><th></th><th scope=col>Administrative</th><th scope=col>Administrative_Duration</th><th scope=col>Informational_Duration</th><th scope=col>ProductRelated</th><th scope=col>ProductRelated_Duration</th><th scope=col>BounceRates</th><th scope=col>ExitRates</th><th scope=col>PageValues</th><th scope=col>Month</th><th scope=col>Revenue</th></tr></thead>\n",
       "<tbody>\n",
       "\t<tr><th scope=row>2</th><td>0         </td><td>0         </td><td>0         </td><td> 2        </td><td> 64.000000</td><td>0.00      </td><td>0.10000000</td><td>0         </td><td>1         </td><td>0         </td></tr>\n",
       "\t<tr><th scope=row>4</th><td>0         </td><td>0         </td><td>0         </td><td> 2        </td><td>  2.666667</td><td>0.05      </td><td>0.14000000</td><td>0         </td><td>1         </td><td>0         </td></tr>\n",
       "\t<tr><th scope=row>5</th><td>0         </td><td>0         </td><td>0         </td><td>10        </td><td>627.500000</td><td>0.02      </td><td>0.05000000</td><td>0         </td><td>1         </td><td>0         </td></tr>\n",
       "\t<tr><th scope=row>7</th><td>0         </td><td>0         </td><td>0         </td><td> 1        </td><td>  0.000000</td><td>0.20      </td><td>0.20000000</td><td>0         </td><td>1         </td><td>0         </td></tr>\n",
       "\t<tr><th scope=row>8</th><td>1         </td><td>0         </td><td>0         </td><td> 0        </td><td>  0.000000</td><td>0.20      </td><td>0.20000000</td><td>0         </td><td>1         </td><td>0         </td></tr>\n",
       "\t<tr><th scope=row>10</th><td>0         </td><td>0         </td><td>0         </td><td> 3        </td><td>738.000000</td><td>0.00      </td><td>0.02222222</td><td>0         </td><td>1         </td><td>0         </td></tr>\n",
       "</tbody>\n",
       "</table>\n"
      ],
      "text/latex": [
       "\\begin{tabular}{r|llllllllll}\n",
       "  & Administrative & Administrative\\_Duration & Informational\\_Duration & ProductRelated & ProductRelated\\_Duration & BounceRates & ExitRates & PageValues & Month & Revenue\\\\\n",
       "\\hline\n",
       "\t2 & 0          & 0          & 0          &  2         &  64.000000 & 0.00       & 0.10000000 & 0          & 1          & 0         \\\\\n",
       "\t4 & 0          & 0          & 0          &  2         &   2.666667 & 0.05       & 0.14000000 & 0          & 1          & 0         \\\\\n",
       "\t5 & 0          & 0          & 0          & 10         & 627.500000 & 0.02       & 0.05000000 & 0          & 1          & 0         \\\\\n",
       "\t7 & 0          & 0          & 0          &  1         &   0.000000 & 0.20       & 0.20000000 & 0          & 1          & 0         \\\\\n",
       "\t8 & 1          & 0          & 0          &  0         &   0.000000 & 0.20       & 0.20000000 & 0          & 1          & 0         \\\\\n",
       "\t10 & 0          & 0          & 0          &  3         & 738.000000 & 0.00       & 0.02222222 & 0          & 1          & 0         \\\\\n",
       "\\end{tabular}\n"
      ],
      "text/markdown": [
       "\n",
       "| <!--/--> | Administrative | Administrative_Duration | Informational_Duration | ProductRelated | ProductRelated_Duration | BounceRates | ExitRates | PageValues | Month | Revenue |\n",
       "|---|---|---|---|---|---|---|---|---|---|---|\n",
       "| 2 | 0          | 0          | 0          |  2         |  64.000000 | 0.00       | 0.10000000 | 0          | 1          | 0          |\n",
       "| 4 | 0          | 0          | 0          |  2         |   2.666667 | 0.05       | 0.14000000 | 0          | 1          | 0          |\n",
       "| 5 | 0          | 0          | 0          | 10         | 627.500000 | 0.02       | 0.05000000 | 0          | 1          | 0          |\n",
       "| 7 | 0          | 0          | 0          |  1         |   0.000000 | 0.20       | 0.20000000 | 0          | 1          | 0          |\n",
       "| 8 | 1          | 0          | 0          |  0         |   0.000000 | 0.20       | 0.20000000 | 0          | 1          | 0          |\n",
       "| 10 | 0          | 0          | 0          |  3         | 738.000000 | 0.00       | 0.02222222 | 0          | 1          | 0          |\n",
       "\n"
      ],
      "text/plain": [
       "   Administrative Administrative_Duration Informational_Duration ProductRelated\n",
       "2  0              0                       0                       2            \n",
       "4  0              0                       0                       2            \n",
       "5  0              0                       0                      10            \n",
       "7  0              0                       0                       1            \n",
       "8  1              0                       0                       0            \n",
       "10 0              0                       0                       3            \n",
       "   ProductRelated_Duration BounceRates ExitRates  PageValues Month Revenue\n",
       "2   64.000000              0.00        0.10000000 0          1     0      \n",
       "4    2.666667              0.05        0.14000000 0          1     0      \n",
       "5  627.500000              0.02        0.05000000 0          1     0      \n",
       "7    0.000000              0.20        0.20000000 0          1     0      \n",
       "8    0.000000              0.20        0.20000000 0          1     0      \n",
       "10 738.000000              0.00        0.02222222 0          1     0      "
      ]
     },
     "metadata": {},
     "output_type": "display_data"
    },
    {
     "data": {
      "text/html": [
       "<table>\n",
       "<thead><tr><th></th><th scope=col>Administrative</th><th scope=col>Administrative_Duration</th><th scope=col>Informational_Duration</th><th scope=col>ProductRelated</th><th scope=col>ProductRelated_Duration</th><th scope=col>BounceRates</th><th scope=col>ExitRates</th><th scope=col>PageValues</th><th scope=col>Month</th><th scope=col>Revenue</th></tr></thead>\n",
       "<tbody>\n",
       "\t<tr><th scope=row>8220</th><td>1          </td><td> 33.5      </td><td>0          </td><td>34         </td><td>1181.8512  </td><td>0.0        </td><td>0.035156250</td><td>0          </td><td>9          </td><td>1          </td></tr>\n",
       "\t<tr><th scope=row>8701</th><td>0          </td><td>  0.0      </td><td>0          </td><td> 1         </td><td>   0.0000  </td><td>0.2        </td><td>0.200000000</td><td>0          </td><td>9          </td><td>0          </td></tr>\n",
       "\t<tr><th scope=row>711</th><td>1          </td><td> 43.0      </td><td>0          </td><td>43         </td><td>1223.3472  </td><td>0.0        </td><td>0.004545455</td><td>0          </td><td>2          </td><td>0          </td></tr>\n",
       "\t<tr><th scope=row>4910</th><td>0          </td><td>  0.0      </td><td>0          </td><td> 4         </td><td>  29.0000  </td><td>0.1        </td><td>0.125000000</td><td>0          </td><td>3          </td><td>0          </td></tr>\n",
       "\t<tr><th scope=row>874</th><td>8          </td><td>274.5      </td><td>0          </td><td>24         </td><td> 515.5758  </td><td>0.0        </td><td>0.003703704</td><td>0          </td><td>2          </td><td>0          </td></tr>\n",
       "\t<tr><th scope=row>5727</th><td>0          </td><td>  0.0      </td><td>0          </td><td> 3         </td><td>  50.2000  </td><td>0.0        </td><td>0.066666667</td><td>0          </td><td>7          </td><td>0          </td></tr>\n",
       "</tbody>\n",
       "</table>\n"
      ],
      "text/latex": [
       "\\begin{tabular}{r|llllllllll}\n",
       "  & Administrative & Administrative\\_Duration & Informational\\_Duration & ProductRelated & ProductRelated\\_Duration & BounceRates & ExitRates & PageValues & Month & Revenue\\\\\n",
       "\\hline\n",
       "\t8220 & 1           &  33.5       & 0           & 34          & 1181.8512   & 0.0         & 0.035156250 & 0           & 9           & 1          \\\\\n",
       "\t8701 & 0           &   0.0       & 0           &  1          &    0.0000   & 0.2         & 0.200000000 & 0           & 9           & 0          \\\\\n",
       "\t711 & 1           &  43.0       & 0           & 43          & 1223.3472   & 0.0         & 0.004545455 & 0           & 2           & 0          \\\\\n",
       "\t4910 & 0           &   0.0       & 0           &  4          &   29.0000   & 0.1         & 0.125000000 & 0           & 3           & 0          \\\\\n",
       "\t874 & 8           & 274.5       & 0           & 24          &  515.5758   & 0.0         & 0.003703704 & 0           & 2           & 0          \\\\\n",
       "\t5727 & 0           &   0.0       & 0           &  3          &   50.2000   & 0.0         & 0.066666667 & 0           & 7           & 0          \\\\\n",
       "\\end{tabular}\n"
      ],
      "text/markdown": [
       "\n",
       "| <!--/--> | Administrative | Administrative_Duration | Informational_Duration | ProductRelated | ProductRelated_Duration | BounceRates | ExitRates | PageValues | Month | Revenue |\n",
       "|---|---|---|---|---|---|---|---|---|---|---|\n",
       "| 8220 | 1           |  33.5       | 0           | 34          | 1181.8512   | 0.0         | 0.035156250 | 0           | 9           | 1           |\n",
       "| 8701 | 0           |   0.0       | 0           |  1          |    0.0000   | 0.2         | 0.200000000 | 0           | 9           | 0           |\n",
       "| 711 | 1           |  43.0       | 0           | 43          | 1223.3472   | 0.0         | 0.004545455 | 0           | 2           | 0           |\n",
       "| 4910 | 0           |   0.0       | 0           |  4          |   29.0000   | 0.1         | 0.125000000 | 0           | 3           | 0           |\n",
       "| 874 | 8           | 274.5       | 0           | 24          |  515.5758   | 0.0         | 0.003703704 | 0           | 2           | 0           |\n",
       "| 5727 | 0           |   0.0       | 0           |  3          |   50.2000   | 0.0         | 0.066666667 | 0           | 7           | 0           |\n",
       "\n"
      ],
      "text/plain": [
       "     Administrative Administrative_Duration Informational_Duration\n",
       "8220 1               33.5                   0                     \n",
       "8701 0                0.0                   0                     \n",
       "711  1               43.0                   0                     \n",
       "4910 0                0.0                   0                     \n",
       "874  8              274.5                   0                     \n",
       "5727 0                0.0                   0                     \n",
       "     ProductRelated ProductRelated_Duration BounceRates ExitRates   PageValues\n",
       "8220 34             1181.8512               0.0         0.035156250 0         \n",
       "8701  1                0.0000               0.2         0.200000000 0         \n",
       "711  43             1223.3472               0.0         0.004545455 0         \n",
       "4910  4               29.0000               0.1         0.125000000 0         \n",
       "874  24              515.5758               0.0         0.003703704 0         \n",
       "5727  3               50.2000               0.0         0.066666667 0         \n",
       "     Month Revenue\n",
       "8220 9     1      \n",
       "8701 9     0      \n",
       "711  2     0      \n",
       "4910 3     0      \n",
       "874  2     0      \n",
       "5727 7     0      "
      ]
     },
     "metadata": {},
     "output_type": "display_data"
    }
   ],
   "source": [
    "# Get rid of the last important one\n",
    "valid_df_selected_rt3 <- valid.df[,c(1, 2, 5, 6, 7, 8, 9, 18)]\n",
    "head(valid_df_selected_rt1)\n",
    "\n",
    "train_df_selected_rt3 <- train.df[,c(1, 2, 5, 6, 7, 8, 9, 18)]\n",
    "head(train_df_selected_rt1)"
   ]
  },
  {
   "cell_type": "code",
   "execution_count": 59,
   "metadata": {
    "slideshow": {
     "slide_type": "fragment"
    },
    "vscode": {
     "languageId": "r"
    }
   },
   "outputs": [],
   "source": [
    "# Train regression tree model\n",
    "library(rpart)\n",
    "reg.tree <- rpart(Revenue ~ ., data = train_df_selected_rt3, \n",
    "                  control = rpart.control(cp = 0.0025))\n",
    "\n",
    "# cp value was choose by multiple times of configuring"
   ]
  },
  {
   "cell_type": "code",
   "execution_count": 60,
   "metadata": {
    "slideshow": {
     "slide_type": "fragment"
    },
    "vscode": {
     "languageId": "r"
    }
   },
   "outputs": [
    {
     "data": {
      "text/html": [
       "<dl class=dl-horizontal>\n",
       "\t<dt>PageValues</dt>\n",
       "\t\t<dd>377.277797453698</dd>\n",
       "\t<dt>Administrative</dt>\n",
       "\t\t<dd>41.0480932024825</dd>\n",
       "\t<dt>BounceRates</dt>\n",
       "\t\t<dd>39.4846692731565</dd>\n",
       "\t<dt>ProductRelated</dt>\n",
       "\t\t<dd>25.5502793017908</dd>\n",
       "\t<dt>ExitRates</dt>\n",
       "\t\t<dd>21.9671836287282</dd>\n",
       "\t<dt>ProductRelated_Duration</dt>\n",
       "\t\t<dd>18.7374851299406</dd>\n",
       "\t<dt>Administrative_Duration</dt>\n",
       "\t\t<dd>13.5716677005128</dd>\n",
       "</dl>\n"
      ],
      "text/latex": [
       "\\begin{description*}\n",
       "\\item[PageValues] 377.277797453698\n",
       "\\item[Administrative] 41.0480932024825\n",
       "\\item[BounceRates] 39.4846692731565\n",
       "\\item[ProductRelated] 25.5502793017908\n",
       "\\item[ExitRates] 21.9671836287282\n",
       "\\item[ProductRelated\\textbackslash{}\\_Duration] 18.7374851299406\n",
       "\\item[Administrative\\textbackslash{}\\_Duration] 13.5716677005128\n",
       "\\end{description*}\n"
      ],
      "text/markdown": [
       "PageValues\n",
       ":   377.277797453698Administrative\n",
       ":   41.0480932024825BounceRates\n",
       ":   39.4846692731565ProductRelated\n",
       ":   25.5502793017908ExitRates\n",
       ":   21.9671836287282ProductRelated_Duration\n",
       ":   18.7374851299406Administrative_Duration\n",
       ":   13.5716677005128\n",
       "\n"
      ],
      "text/plain": [
       "             PageValues          Administrative             BounceRates \n",
       "              377.27780                41.04809                39.48467 \n",
       "         ProductRelated               ExitRates ProductRelated_Duration \n",
       "               25.55028                21.96718                18.73749 \n",
       "Administrative_Duration \n",
       "               13.57167 "
      ]
     },
     "metadata": {},
     "output_type": "display_data"
    }
   ],
   "source": [
    "# Print out feature importance\n",
    "reg.tree$variable.importance"
   ]
  },
  {
   "cell_type": "code",
   "execution_count": 61,
   "metadata": {
    "vscode": {
     "languageId": "r"
    }
   },
   "outputs": [],
   "source": [
    "# Generate predictions in the validation set\n",
    "reg.tree.pred3 <- predict(reg.tree,valid_df_selected_rt3)"
   ]
  },
  {
   "cell_type": "code",
   "execution_count": 62,
   "metadata": {
    "vscode": {
     "languageId": "r"
    }
   },
   "outputs": [
    {
     "data": {
      "text/html": [
       "0.392013545871014"
      ],
      "text/latex": [
       "0.392013545871014"
      ],
      "text/markdown": [
       "0.392013545871014"
      ],
      "text/plain": [
       "[1] 0.3920135"
      ]
     },
     "metadata": {},
     "output_type": "display_data"
    }
   ],
   "source": [
    "# Calculate the Brier Skill Score\n",
    "skill.score(reg.tree.pred3, valid_df_selected_rt1$Revenue, brier.ref.valid)"
   ]
  },
  {
   "cell_type": "markdown",
   "metadata": {},
   "source": [
    "#### **Stop modify cause the score decreases**"
   ]
  },
  {
   "cell_type": "markdown",
   "metadata": {
    "slideshow": {
     "slide_type": "slide"
    }
   },
   "source": [
    "### Model3: XGBoost"
   ]
  },
  {
   "cell_type": "code",
   "execution_count": 63,
   "metadata": {
    "vscode": {
     "languageId": "r"
    }
   },
   "outputs": [
    {
     "data": {
      "text/html": [
       "<table>\n",
       "<thead><tr><th></th><th scope=col>Administrative</th><th scope=col>Administrative_Duration</th><th scope=col>Informational</th><th scope=col>Informational_Duration</th><th scope=col>ProductRelated</th><th scope=col>ProductRelated_Duration</th><th scope=col>BounceRates</th><th scope=col>ExitRates</th><th scope=col>PageValues</th><th scope=col>Month</th><th scope=col>Revenue</th></tr></thead>\n",
       "<tbody>\n",
       "\t<tr><th scope=row>2</th><td>0         </td><td>0         </td><td>0         </td><td>0         </td><td> 2        </td><td> 64.000000</td><td>0.00      </td><td>0.10000000</td><td>0         </td><td>1         </td><td>0         </td></tr>\n",
       "\t<tr><th scope=row>4</th><td>0         </td><td>0         </td><td>0         </td><td>0         </td><td> 2        </td><td>  2.666667</td><td>0.05      </td><td>0.14000000</td><td>0         </td><td>1         </td><td>0         </td></tr>\n",
       "\t<tr><th scope=row>5</th><td>0         </td><td>0         </td><td>0         </td><td>0         </td><td>10        </td><td>627.500000</td><td>0.02      </td><td>0.05000000</td><td>0         </td><td>1         </td><td>0         </td></tr>\n",
       "\t<tr><th scope=row>7</th><td>0         </td><td>0         </td><td>0         </td><td>0         </td><td> 1        </td><td>  0.000000</td><td>0.20      </td><td>0.20000000</td><td>0         </td><td>1         </td><td>0         </td></tr>\n",
       "\t<tr><th scope=row>8</th><td>1         </td><td>0         </td><td>0         </td><td>0         </td><td> 0        </td><td>  0.000000</td><td>0.20      </td><td>0.20000000</td><td>0         </td><td>1         </td><td>0         </td></tr>\n",
       "\t<tr><th scope=row>10</th><td>0         </td><td>0         </td><td>0         </td><td>0         </td><td> 3        </td><td>738.000000</td><td>0.00      </td><td>0.02222222</td><td>0         </td><td>1         </td><td>0         </td></tr>\n",
       "</tbody>\n",
       "</table>\n"
      ],
      "text/latex": [
       "\\begin{tabular}{r|lllllllllll}\n",
       "  & Administrative & Administrative\\_Duration & Informational & Informational\\_Duration & ProductRelated & ProductRelated\\_Duration & BounceRates & ExitRates & PageValues & Month & Revenue\\\\\n",
       "\\hline\n",
       "\t2 & 0          & 0          & 0          & 0          &  2         &  64.000000 & 0.00       & 0.10000000 & 0          & 1          & 0         \\\\\n",
       "\t4 & 0          & 0          & 0          & 0          &  2         &   2.666667 & 0.05       & 0.14000000 & 0          & 1          & 0         \\\\\n",
       "\t5 & 0          & 0          & 0          & 0          & 10         & 627.500000 & 0.02       & 0.05000000 & 0          & 1          & 0         \\\\\n",
       "\t7 & 0          & 0          & 0          & 0          &  1         &   0.000000 & 0.20       & 0.20000000 & 0          & 1          & 0         \\\\\n",
       "\t8 & 1          & 0          & 0          & 0          &  0         &   0.000000 & 0.20       & 0.20000000 & 0          & 1          & 0         \\\\\n",
       "\t10 & 0          & 0          & 0          & 0          &  3         & 738.000000 & 0.00       & 0.02222222 & 0          & 1          & 0         \\\\\n",
       "\\end{tabular}\n"
      ],
      "text/markdown": [
       "\n",
       "| <!--/--> | Administrative | Administrative_Duration | Informational | Informational_Duration | ProductRelated | ProductRelated_Duration | BounceRates | ExitRates | PageValues | Month | Revenue |\n",
       "|---|---|---|---|---|---|---|---|---|---|---|---|\n",
       "| 2 | 0          | 0          | 0          | 0          |  2         |  64.000000 | 0.00       | 0.10000000 | 0          | 1          | 0          |\n",
       "| 4 | 0          | 0          | 0          | 0          |  2         |   2.666667 | 0.05       | 0.14000000 | 0          | 1          | 0          |\n",
       "| 5 | 0          | 0          | 0          | 0          | 10         | 627.500000 | 0.02       | 0.05000000 | 0          | 1          | 0          |\n",
       "| 7 | 0          | 0          | 0          | 0          |  1         |   0.000000 | 0.20       | 0.20000000 | 0          | 1          | 0          |\n",
       "| 8 | 1          | 0          | 0          | 0          |  0         |   0.000000 | 0.20       | 0.20000000 | 0          | 1          | 0          |\n",
       "| 10 | 0          | 0          | 0          | 0          |  3         | 738.000000 | 0.00       | 0.02222222 | 0          | 1          | 0          |\n",
       "\n"
      ],
      "text/plain": [
       "   Administrative Administrative_Duration Informational Informational_Duration\n",
       "2  0              0                       0             0                     \n",
       "4  0              0                       0             0                     \n",
       "5  0              0                       0             0                     \n",
       "7  0              0                       0             0                     \n",
       "8  1              0                       0             0                     \n",
       "10 0              0                       0             0                     \n",
       "   ProductRelated ProductRelated_Duration BounceRates ExitRates  PageValues\n",
       "2   2              64.000000              0.00        0.10000000 0         \n",
       "4   2               2.666667              0.05        0.14000000 0         \n",
       "5  10             627.500000              0.02        0.05000000 0         \n",
       "7   1               0.000000              0.20        0.20000000 0         \n",
       "8   0               0.000000              0.20        0.20000000 0         \n",
       "10  3             738.000000              0.00        0.02222222 0         \n",
       "   Month Revenue\n",
       "2  1     0      \n",
       "4  1     0      \n",
       "5  1     0      \n",
       "7  1     0      \n",
       "8  1     0      \n",
       "10 1     0      "
      ]
     },
     "metadata": {},
     "output_type": "display_data"
    },
    {
     "data": {
      "text/html": [
       "<table>\n",
       "<thead><tr><th></th><th scope=col>Administrative</th><th scope=col>Administrative_Duration</th><th scope=col>Informational</th><th scope=col>Informational_Duration</th><th scope=col>ProductRelated</th><th scope=col>ProductRelated_Duration</th><th scope=col>BounceRates</th><th scope=col>ExitRates</th><th scope=col>PageValues</th><th scope=col>Month</th><th scope=col>Revenue</th></tr></thead>\n",
       "<tbody>\n",
       "\t<tr><th scope=row>8220</th><td>1          </td><td> 33.5      </td><td>0          </td><td>0          </td><td>34         </td><td>1181.8512  </td><td>0.0        </td><td>0.035156250</td><td>0          </td><td>9          </td><td>1          </td></tr>\n",
       "\t<tr><th scope=row>8701</th><td>0          </td><td>  0.0      </td><td>0          </td><td>0          </td><td> 1         </td><td>   0.0000  </td><td>0.2        </td><td>0.200000000</td><td>0          </td><td>9          </td><td>0          </td></tr>\n",
       "\t<tr><th scope=row>711</th><td>1          </td><td> 43.0      </td><td>0          </td><td>0          </td><td>43         </td><td>1223.3472  </td><td>0.0        </td><td>0.004545455</td><td>0          </td><td>2          </td><td>0          </td></tr>\n",
       "\t<tr><th scope=row>4910</th><td>0          </td><td>  0.0      </td><td>0          </td><td>0          </td><td> 4         </td><td>  29.0000  </td><td>0.1        </td><td>0.125000000</td><td>0          </td><td>3          </td><td>0          </td></tr>\n",
       "\t<tr><th scope=row>874</th><td>8          </td><td>274.5      </td><td>0          </td><td>0          </td><td>24         </td><td> 515.5758  </td><td>0.0        </td><td>0.003703704</td><td>0          </td><td>2          </td><td>0          </td></tr>\n",
       "\t<tr><th scope=row>5727</th><td>0          </td><td>  0.0      </td><td>0          </td><td>0          </td><td> 3         </td><td>  50.2000  </td><td>0.0        </td><td>0.066666667</td><td>0          </td><td>7          </td><td>0          </td></tr>\n",
       "</tbody>\n",
       "</table>\n"
      ],
      "text/latex": [
       "\\begin{tabular}{r|lllllllllll}\n",
       "  & Administrative & Administrative\\_Duration & Informational & Informational\\_Duration & ProductRelated & ProductRelated\\_Duration & BounceRates & ExitRates & PageValues & Month & Revenue\\\\\n",
       "\\hline\n",
       "\t8220 & 1           &  33.5       & 0           & 0           & 34          & 1181.8512   & 0.0         & 0.035156250 & 0           & 9           & 1          \\\\\n",
       "\t8701 & 0           &   0.0       & 0           & 0           &  1          &    0.0000   & 0.2         & 0.200000000 & 0           & 9           & 0          \\\\\n",
       "\t711 & 1           &  43.0       & 0           & 0           & 43          & 1223.3472   & 0.0         & 0.004545455 & 0           & 2           & 0          \\\\\n",
       "\t4910 & 0           &   0.0       & 0           & 0           &  4          &   29.0000   & 0.1         & 0.125000000 & 0           & 3           & 0          \\\\\n",
       "\t874 & 8           & 274.5       & 0           & 0           & 24          &  515.5758   & 0.0         & 0.003703704 & 0           & 2           & 0          \\\\\n",
       "\t5727 & 0           &   0.0       & 0           & 0           &  3          &   50.2000   & 0.0         & 0.066666667 & 0           & 7           & 0          \\\\\n",
       "\\end{tabular}\n"
      ],
      "text/markdown": [
       "\n",
       "| <!--/--> | Administrative | Administrative_Duration | Informational | Informational_Duration | ProductRelated | ProductRelated_Duration | BounceRates | ExitRates | PageValues | Month | Revenue |\n",
       "|---|---|---|---|---|---|---|---|---|---|---|---|\n",
       "| 8220 | 1           |  33.5       | 0           | 0           | 34          | 1181.8512   | 0.0         | 0.035156250 | 0           | 9           | 1           |\n",
       "| 8701 | 0           |   0.0       | 0           | 0           |  1          |    0.0000   | 0.2         | 0.200000000 | 0           | 9           | 0           |\n",
       "| 711 | 1           |  43.0       | 0           | 0           | 43          | 1223.3472   | 0.0         | 0.004545455 | 0           | 2           | 0           |\n",
       "| 4910 | 0           |   0.0       | 0           | 0           |  4          |   29.0000   | 0.1         | 0.125000000 | 0           | 3           | 0           |\n",
       "| 874 | 8           | 274.5       | 0           | 0           | 24          |  515.5758   | 0.0         | 0.003703704 | 0           | 2           | 0           |\n",
       "| 5727 | 0           |   0.0       | 0           | 0           |  3          |   50.2000   | 0.0         | 0.066666667 | 0           | 7           | 0           |\n",
       "\n"
      ],
      "text/plain": [
       "     Administrative Administrative_Duration Informational\n",
       "8220 1               33.5                   0            \n",
       "8701 0                0.0                   0            \n",
       "711  1               43.0                   0            \n",
       "4910 0                0.0                   0            \n",
       "874  8              274.5                   0            \n",
       "5727 0                0.0                   0            \n",
       "     Informational_Duration ProductRelated ProductRelated_Duration BounceRates\n",
       "8220 0                      34             1181.8512               0.0        \n",
       "8701 0                       1                0.0000               0.2        \n",
       "711  0                      43             1223.3472               0.0        \n",
       "4910 0                       4               29.0000               0.1        \n",
       "874  0                      24              515.5758               0.0        \n",
       "5727 0                       3               50.2000               0.0        \n",
       "     ExitRates   PageValues Month Revenue\n",
       "8220 0.035156250 0          9     1      \n",
       "8701 0.200000000 0          9     0      \n",
       "711  0.004545455 0          2     0      \n",
       "4910 0.125000000 0          3     0      \n",
       "874  0.003703704 0          2     0      \n",
       "5727 0.066666667 0          7     0      "
      ]
     },
     "metadata": {},
     "output_type": "display_data"
    }
   ],
   "source": [
    "# select target attributes again\n",
    "valid_df_selected <- valid.df[,c(1, 2, 3, 4, 5, 6, 7, 8, 9, 17, 18)]\n",
    "head(valid_df_selected)\n",
    "\n",
    "train_df_selected <- train.df[,c(1, 2, 3, 4, 5, 6, 7, 8, 9, 17, 18)]\n",
    "head(train_df_selected)"
   ]
  },
  {
   "cell_type": "code",
   "execution_count": 64,
   "metadata": {
    "slideshow": {
     "slide_type": "fragment"
    },
    "vscode": {
     "languageId": "r"
    }
   },
   "outputs": [],
   "source": [
    "# XGBoost Model can only deal with numeric numbers/matrix, so we convert all variables to matrix first\n",
    "x_train.xgb <- model.matrix(~ 0 + ., data = train_df_selected[,-11]) #REMOVE TARGET VARIABLE\n",
    "y_train.xgb <- as.vector(train_df_selected$Revenue) #target variables\n",
    "\n",
    "x_valid.xgb <- model.matrix(~ 0 + ., data = valid_df_selected[,-11])\n",
    "y_valid.xgb <- as.vector(valid_df_selected$Revenue)"
   ]
  },
  {
   "cell_type": "code",
   "execution_count": 65,
   "metadata": {
    "slideshow": {
     "slide_type": "subslide"
    },
    "vscode": {
     "languageId": "r"
    }
   },
   "outputs": [
    {
     "name": "stdout",
     "output_type": "stream",
     "text": [
      "[13:12:21] WARNING: amalgamation/../src/learner.cc:1095: Starting in XGBoost 1.3.0, the default evaluation metric used with the objective 'binary:logistic' was changed from 'error' to 'logloss'. Explicitly set eval_metric if you'd like to restore the old behavior.\n"
     ]
    },
    {
     "data": {
      "text/plain": [
       "   user  system elapsed \n",
       "   0.49    0.17    0.23 "
      ]
     },
     "metadata": {},
     "output_type": "display_data"
    }
   ],
   "source": [
    "# Train the XGBoost model\n",
    "t1 <- proc.time()\n",
    "xgb.trees <- xgboost(x_train.xgb, \n",
    "                     y_train.xgb, \n",
    "                     max.depth = 2, \n",
    "                     nthread = workers, \n",
    "                     nround = 98, \n",
    "                     objective = \"binary:logistic\",\n",
    "                     verbose = 0)\n",
    "# Tune the model above by increasing/decreasing the depth of each tree \n",
    "# and/or the number of trees (n_round).\n",
    "# After multiple times of configuring, the optimistic number for each is 2 and 98"
   ]
  },
  {
   "cell_type": "code",
   "execution_count": 66,
   "metadata": {
    "slideshow": {
     "slide_type": "fragment"
    },
    "vscode": {
     "languageId": "r"
    }
   },
   "outputs": [
    {
     "data": {
      "text/html": [
       "<table>\n",
       "<thead><tr><th scope=col>Feature</th><th scope=col>Gain</th><th scope=col>Cover</th><th scope=col>Frequency</th></tr></thead>\n",
       "<tbody>\n",
       "\t<tr><td>PageValues             </td><td>0.683592541            </td><td>0.22654951             </td><td>0.15986395             </td></tr>\n",
       "\t<tr><td>Month                  </td><td>0.108484366            </td><td>0.14780209             </td><td>0.13265306             </td></tr>\n",
       "\t<tr><td>ExitRates              </td><td>0.045780780            </td><td>0.16978712             </td><td>0.15986395             </td></tr>\n",
       "\t<tr><td>BounceRates            </td><td>0.045343160            </td><td>0.08181096             </td><td>0.09863946             </td></tr>\n",
       "\t<tr><td>ProductRelated_Duration</td><td>0.039337427            </td><td>0.11551557             </td><td>0.14285714             </td></tr>\n",
       "\t<tr><td>Administrative         </td><td>0.031076518            </td><td>0.05082876             </td><td>0.07142857             </td></tr>\n",
       "\t<tr><td>Administrative_Duration</td><td>0.021963616            </td><td>0.06308637             </td><td>0.09523810             </td></tr>\n",
       "\t<tr><td>ProductRelated         </td><td>0.012215886            </td><td>0.07247142             </td><td>0.06802721             </td></tr>\n",
       "\t<tr><td>Informational_Duration </td><td>0.010830468            </td><td>0.05017192             </td><td>0.05442177             </td></tr>\n",
       "\t<tr><td>Informational          </td><td>0.001375236            </td><td>0.02197628             </td><td>0.01700680             </td></tr>\n",
       "</tbody>\n",
       "</table>\n"
      ],
      "text/latex": [
       "\\begin{tabular}{r|llll}\n",
       " Feature & Gain & Cover & Frequency\\\\\n",
       "\\hline\n",
       "\t PageValues              & 0.683592541             & 0.22654951              & 0.15986395             \\\\\n",
       "\t Month                   & 0.108484366             & 0.14780209              & 0.13265306             \\\\\n",
       "\t ExitRates               & 0.045780780             & 0.16978712              & 0.15986395             \\\\\n",
       "\t BounceRates             & 0.045343160             & 0.08181096              & 0.09863946             \\\\\n",
       "\t ProductRelated\\_Duration & 0.039337427               & 0.11551557                & 0.14285714               \\\\\n",
       "\t Administrative          & 0.031076518             & 0.05082876              & 0.07142857             \\\\\n",
       "\t Administrative\\_Duration & 0.021963616               & 0.06308637                & 0.09523810               \\\\\n",
       "\t ProductRelated          & 0.012215886             & 0.07247142              & 0.06802721             \\\\\n",
       "\t Informational\\_Duration  & 0.010830468               & 0.05017192                & 0.05442177               \\\\\n",
       "\t Informational           & 0.001375236             & 0.02197628              & 0.01700680             \\\\\n",
       "\\end{tabular}\n"
      ],
      "text/markdown": [
       "\n",
       "| Feature | Gain | Cover | Frequency |\n",
       "|---|---|---|---|\n",
       "| PageValues              | 0.683592541             | 0.22654951              | 0.15986395              |\n",
       "| Month                   | 0.108484366             | 0.14780209              | 0.13265306              |\n",
       "| ExitRates               | 0.045780780             | 0.16978712              | 0.15986395              |\n",
       "| BounceRates             | 0.045343160             | 0.08181096              | 0.09863946              |\n",
       "| ProductRelated_Duration | 0.039337427             | 0.11551557              | 0.14285714              |\n",
       "| Administrative          | 0.031076518             | 0.05082876              | 0.07142857              |\n",
       "| Administrative_Duration | 0.021963616             | 0.06308637              | 0.09523810              |\n",
       "| ProductRelated          | 0.012215886             | 0.07247142              | 0.06802721              |\n",
       "| Informational_Duration  | 0.010830468             | 0.05017192              | 0.05442177              |\n",
       "| Informational           | 0.001375236             | 0.02197628              | 0.01700680              |\n",
       "\n"
      ],
      "text/plain": [
       "   Feature                 Gain        Cover      Frequency \n",
       "1  PageValues              0.683592541 0.22654951 0.15986395\n",
       "2  Month                   0.108484366 0.14780209 0.13265306\n",
       "3  ExitRates               0.045780780 0.16978712 0.15986395\n",
       "4  BounceRates             0.045343160 0.08181096 0.09863946\n",
       "5  ProductRelated_Duration 0.039337427 0.11551557 0.14285714\n",
       "6  Administrative          0.031076518 0.05082876 0.07142857\n",
       "7  Administrative_Duration 0.021963616 0.06308637 0.09523810\n",
       "8  ProductRelated          0.012215886 0.07247142 0.06802721\n",
       "9  Informational_Duration  0.010830468 0.05017192 0.05442177\n",
       "10 Informational           0.001375236 0.02197628 0.01700680"
      ]
     },
     "metadata": {},
     "output_type": "display_data"
    }
   ],
   "source": [
    "# Print out feature importance\n",
    "xgb.importance(colnames(x_train.xgb), model = xgb.trees)"
   ]
  },
  {
   "cell_type": "code",
   "execution_count": 67,
   "metadata": {
    "slideshow": {
     "slide_type": "fragment"
    },
    "vscode": {
     "languageId": "r"
    }
   },
   "outputs": [],
   "source": [
    "# Generate predictions in the validation set\n",
    "xgb.trees.pred <- predict(xgb.trees, x_valid.xgb)"
   ]
  },
  {
   "cell_type": "code",
   "execution_count": 68,
   "metadata": {
    "slideshow": {
     "slide_type": "fragment"
    },
    "vscode": {
     "languageId": "r"
    }
   },
   "outputs": [
    {
     "data": {
      "text/html": [
       "0.434501957120803"
      ],
      "text/latex": [
       "0.434501957120803"
      ],
      "text/markdown": [
       "0.434501957120803"
      ],
      "text/plain": [
       "[1] 0.434502"
      ]
     },
     "metadata": {},
     "output_type": "display_data"
    }
   ],
   "source": [
    "# Calculate the Brier Skill Score\n",
    "skill.score(xgb.trees.pred, y_valid.xgb, brier.ref.valid)"
   ]
  },
  {
   "cell_type": "code",
   "execution_count": 90,
   "metadata": {
    "vscode": {
     "languageId": "r"
    }
   },
   "outputs": [],
   "source": [
    "### get rid of the last important one\n",
    "train_df_selected_xg1 <- train.df[,c(1, 2, 4, 5, 6, 7, 8, 9, 17, 18)]\n",
    "\n",
    "valid_df_selected_xg1 <- valid.df[,c(1, 2, 4, 5, 6, 7, 8, 9, 17, 18)]"
   ]
  },
  {
   "cell_type": "code",
   "execution_count": 91,
   "metadata": {
    "slideshow": {
     "slide_type": "fragment"
    },
    "vscode": {
     "languageId": "r"
    }
   },
   "outputs": [],
   "source": [
    "x_train.xgb <- model.matrix(~ 0 + ., data = train_df_selected_xg1[,-10]) #REMOVE TARGET VARIABLE, stores all predictors\n",
    "y_train.xgb <- as.vector(train_df_selected$Revenue) #target variables\n",
    "\n",
    "x_valid.xgb <- model.matrix(~ 0 + ., data = valid_df_selected_xg1[,-10])\n",
    "y_valid.xgb <- as.vector(valid_df_selected$Revenue)\n"
   ]
  },
  {
   "cell_type": "code",
   "execution_count": 92,
   "metadata": {
    "slideshow": {
     "slide_type": "subslide"
    },
    "vscode": {
     "languageId": "r"
    }
   },
   "outputs": [
    {
     "name": "stdout",
     "output_type": "stream",
     "text": [
      "[13:14:10] WARNING: amalgamation/../src/learner.cc:1095: Starting in XGBoost 1.3.0, the default evaluation metric used with the objective 'binary:logistic' was changed from 'error' to 'logloss'. Explicitly set eval_metric if you'd like to restore the old behavior.\n"
     ]
    },
    {
     "data": {
      "text/plain": [
       "   user  system elapsed \n",
       "   0.64    0.11    0.36 "
      ]
     },
     "metadata": {},
     "output_type": "display_data"
    }
   ],
   "source": [
    "# Train the XGBoost model\n",
    "t1 <- proc.time()\n",
    "xgb.trees1 <- xgboost(x_train.xgb, \n",
    "                     y_train.xgb, \n",
    "                     max.depth = 2, \n",
    "                     nthread = workers, \n",
    "                     nround = 98, \n",
    "                     objective = \"binary:logistic\",\n",
    "                     verbose = 0)\n",
    "# Tune the model above by increasing/decreasing the depth of each tree \n",
    "# and/or the number of trees (n_round)."
   ]
  },
  {
   "cell_type": "code",
   "execution_count": 93,
   "metadata": {
    "slideshow": {
     "slide_type": "fragment"
    },
    "vscode": {
     "languageId": "r"
    }
   },
   "outputs": [
    {
     "data": {
      "text/html": [
       "<table>\n",
       "<thead><tr><th scope=col>Feature</th><th scope=col>Gain</th><th scope=col>Cover</th><th scope=col>Frequency</th></tr></thead>\n",
       "<tbody>\n",
       "\t<tr><td>PageValues             </td><td>0.68142752             </td><td>0.23540033             </td><td>0.16040956             </td></tr>\n",
       "\t<tr><td>Month                  </td><td>0.10978076             </td><td>0.15061249             </td><td>0.13310580             </td></tr>\n",
       "\t<tr><td>BounceRates            </td><td>0.04493392             </td><td>0.06026540             </td><td>0.07849829             </td></tr>\n",
       "\t<tr><td>ExitRates              </td><td>0.04400147             </td><td>0.16818721             </td><td>0.15358362             </td></tr>\n",
       "\t<tr><td>ProductRelated_Duration</td><td>0.04210895             </td><td>0.11983519             </td><td>0.16040956             </td></tr>\n",
       "\t<tr><td>Administrative         </td><td>0.02739989             </td><td>0.06228221             </td><td>0.06143345             </td></tr>\n",
       "\t<tr><td>Administrative_Duration</td><td>0.02464295             </td><td>0.06750969             </td><td>0.10580205             </td></tr>\n",
       "\t<tr><td>ProductRelated         </td><td>0.01376850             </td><td>0.06480730             </td><td>0.07167235             </td></tr>\n",
       "\t<tr><td>Informational_Duration </td><td>0.01193605             </td><td>0.07110017             </td><td>0.07508532             </td></tr>\n",
       "</tbody>\n",
       "</table>\n"
      ],
      "text/latex": [
       "\\begin{tabular}{r|llll}\n",
       " Feature & Gain & Cover & Frequency\\\\\n",
       "\\hline\n",
       "\t PageValues              & 0.68142752              & 0.23540033              & 0.16040956             \\\\\n",
       "\t Month                   & 0.10978076              & 0.15061249              & 0.13310580             \\\\\n",
       "\t BounceRates             & 0.04493392              & 0.06026540              & 0.07849829             \\\\\n",
       "\t ExitRates               & 0.04400147              & 0.16818721              & 0.15358362             \\\\\n",
       "\t ProductRelated\\_Duration & 0.04210895                & 0.11983519                & 0.16040956               \\\\\n",
       "\t Administrative          & 0.02739989              & 0.06228221              & 0.06143345             \\\\\n",
       "\t Administrative\\_Duration & 0.02464295                & 0.06750969                & 0.10580205               \\\\\n",
       "\t ProductRelated          & 0.01376850              & 0.06480730              & 0.07167235             \\\\\n",
       "\t Informational\\_Duration  & 0.01193605                & 0.07110017                & 0.07508532               \\\\\n",
       "\\end{tabular}\n"
      ],
      "text/markdown": [
       "\n",
       "| Feature | Gain | Cover | Frequency |\n",
       "|---|---|---|---|\n",
       "| PageValues              | 0.68142752              | 0.23540033              | 0.16040956              |\n",
       "| Month                   | 0.10978076              | 0.15061249              | 0.13310580              |\n",
       "| BounceRates             | 0.04493392              | 0.06026540              | 0.07849829              |\n",
       "| ExitRates               | 0.04400147              | 0.16818721              | 0.15358362              |\n",
       "| ProductRelated_Duration | 0.04210895              | 0.11983519              | 0.16040956              |\n",
       "| Administrative          | 0.02739989              | 0.06228221              | 0.06143345              |\n",
       "| Administrative_Duration | 0.02464295              | 0.06750969              | 0.10580205              |\n",
       "| ProductRelated          | 0.01376850              | 0.06480730              | 0.07167235              |\n",
       "| Informational_Duration  | 0.01193605              | 0.07110017              | 0.07508532              |\n",
       "\n"
      ],
      "text/plain": [
       "  Feature                 Gain       Cover      Frequency \n",
       "1 PageValues              0.68142752 0.23540033 0.16040956\n",
       "2 Month                   0.10978076 0.15061249 0.13310580\n",
       "3 BounceRates             0.04493392 0.06026540 0.07849829\n",
       "4 ExitRates               0.04400147 0.16818721 0.15358362\n",
       "5 ProductRelated_Duration 0.04210895 0.11983519 0.16040956\n",
       "6 Administrative          0.02739989 0.06228221 0.06143345\n",
       "7 Administrative_Duration 0.02464295 0.06750969 0.10580205\n",
       "8 ProductRelated          0.01376850 0.06480730 0.07167235\n",
       "9 Informational_Duration  0.01193605 0.07110017 0.07508532"
      ]
     },
     "metadata": {},
     "output_type": "display_data"
    }
   ],
   "source": [
    "# Print out feature importance\n",
    "xgb.importance(colnames(x_train.xgb), model = xgb.trees1)"
   ]
  },
  {
   "cell_type": "code",
   "execution_count": 94,
   "metadata": {
    "slideshow": {
     "slide_type": "fragment"
    },
    "vscode": {
     "languageId": "r"
    }
   },
   "outputs": [],
   "source": [
    "# Generate predictions in the validation set\n",
    "xgb.trees.pred1 <- predict(xgb.trees1, x_valid.xgb)"
   ]
  },
  {
   "cell_type": "code",
   "execution_count": 95,
   "metadata": {
    "slideshow": {
     "slide_type": "fragment"
    },
    "vscode": {
     "languageId": "r"
    }
   },
   "outputs": [
    {
     "data": {
      "text/html": [
       "0.434968522978816"
      ],
      "text/latex": [
       "0.434968522978816"
      ],
      "text/markdown": [
       "0.434968522978816"
      ],
      "text/plain": [
       "[1] 0.4349685"
      ]
     },
     "metadata": {},
     "output_type": "display_data"
    }
   ],
   "source": [
    "# Calculate the Brier Skill Score\n",
    "skill.score(xgb.trees.pred1, y_valid.xgb, brier.ref.valid)"
   ]
  },
  {
   "cell_type": "code",
   "execution_count": 75,
   "metadata": {
    "vscode": {
     "languageId": "r"
    }
   },
   "outputs": [],
   "source": [
    "### get rid of the last important one\n",
    "train_df_selected_xg2 <- train.df[,c(1, 2, 5, 6, 7, 8, 9, 17, 18)]\n",
    "\n",
    "valid_df_selected_xg2 <- valid.df[,c(1, 2, 5, 6, 7, 8, 9, 17, 18)]"
   ]
  },
  {
   "cell_type": "code",
   "execution_count": 76,
   "metadata": {
    "slideshow": {
     "slide_type": "fragment"
    },
    "vscode": {
     "languageId": "r"
    }
   },
   "outputs": [],
   "source": [
    "x_train.xgb <- model.matrix(~ 0 + ., data = train_df_selected_xg2[,-9]) #REMOVE TARGET VARIABLE\n",
    "y_train.xgb <- as.vector(train_df_selected$Revenue) #target variables\n",
    "\n",
    "x_valid.xgb <- model.matrix(~ 0 + ., data = valid_df_selected_xg2[,-9])\n",
    "y_valid.xgb <- as.vector(valid_df_selected$Revenue)\n"
   ]
  },
  {
   "cell_type": "code",
   "execution_count": 80,
   "metadata": {
    "slideshow": {
     "slide_type": "subslide"
    },
    "vscode": {
     "languageId": "r"
    }
   },
   "outputs": [
    {
     "name": "stdout",
     "output_type": "stream",
     "text": [
      "[13:12:57] WARNING: amalgamation/../src/learner.cc:1095: Starting in XGBoost 1.3.0, the default evaluation metric used with the objective 'binary:logistic' was changed from 'error' to 'logloss'. Explicitly set eval_metric if you'd like to restore the old behavior.\n"
     ]
    },
    {
     "data": {
      "text/plain": [
       "   user  system elapsed \n",
       "   1.52    0.40   30.48 "
      ]
     },
     "metadata": {},
     "output_type": "display_data"
    }
   ],
   "source": [
    "# Train the XGBoost model\n",
    "xgb.trees2 <- xgboost(x_train.xgb, \n",
    "                     y_train.xgb, \n",
    "                     max.depth = 2, \n",
    "                     nthread = workers, \n",
    "                     nround = 98, \n",
    "                     objective = \"binary:logistic\",\n",
    "                     verbose = 0)\n",
    "proc.time() - t1\n",
    "# Tune the model above by increasing/decreasing the depth of each tree \n",
    "# and/or the number of trees (n_round).\n",
    "# After multiple times of configuring, the optimistic number for each is 2 and 98"
   ]
  },
  {
   "cell_type": "code",
   "execution_count": 81,
   "metadata": {
    "slideshow": {
     "slide_type": "fragment"
    },
    "vscode": {
     "languageId": "r"
    }
   },
   "outputs": [
    {
     "data": {
      "text/html": [
       "<table>\n",
       "<thead><tr><th scope=col>Feature</th><th scope=col>Gain</th><th scope=col>Cover</th><th scope=col>Frequency</th></tr></thead>\n",
       "<tbody>\n",
       "\t<tr><td>PageValues             </td><td>0.69472871             </td><td>0.23796612             </td><td>0.17406143             </td></tr>\n",
       "\t<tr><td>Month                  </td><td>0.10080282             </td><td>0.15535595             </td><td>0.12969283             </td></tr>\n",
       "\t<tr><td>ProductRelated_Duration</td><td>0.04575006             </td><td>0.17735300             </td><td>0.20819113             </td></tr>\n",
       "\t<tr><td>BounceRates            </td><td>0.04465629             </td><td>0.05869775             </td><td>0.07508532             </td></tr>\n",
       "\t<tr><td>ExitRates              </td><td>0.04236096             </td><td>0.16057008             </td><td>0.13993174             </td></tr>\n",
       "\t<tr><td>Administrative         </td><td>0.03071995             </td><td>0.06901510             </td><td>0.07849829             </td></tr>\n",
       "\t<tr><td>Administrative_Duration</td><td>0.02211254             </td><td>0.09433782             </td><td>0.11604096             </td></tr>\n",
       "\t<tr><td>ProductRelated         </td><td>0.01886868             </td><td>0.04670420             </td><td>0.07849829             </td></tr>\n",
       "</tbody>\n",
       "</table>\n"
      ],
      "text/latex": [
       "\\begin{tabular}{r|llll}\n",
       " Feature & Gain & Cover & Frequency\\\\\n",
       "\\hline\n",
       "\t PageValues              & 0.69472871              & 0.23796612              & 0.17406143             \\\\\n",
       "\t Month                   & 0.10080282              & 0.15535595              & 0.12969283             \\\\\n",
       "\t ProductRelated\\_Duration & 0.04575006                & 0.17735300                & 0.20819113               \\\\\n",
       "\t BounceRates             & 0.04465629              & 0.05869775              & 0.07508532             \\\\\n",
       "\t ExitRates               & 0.04236096              & 0.16057008              & 0.13993174             \\\\\n",
       "\t Administrative          & 0.03071995              & 0.06901510              & 0.07849829             \\\\\n",
       "\t Administrative\\_Duration & 0.02211254                & 0.09433782                & 0.11604096               \\\\\n",
       "\t ProductRelated          & 0.01886868              & 0.04670420              & 0.07849829             \\\\\n",
       "\\end{tabular}\n"
      ],
      "text/markdown": [
       "\n",
       "| Feature | Gain | Cover | Frequency |\n",
       "|---|---|---|---|\n",
       "| PageValues              | 0.69472871              | 0.23796612              | 0.17406143              |\n",
       "| Month                   | 0.10080282              | 0.15535595              | 0.12969283              |\n",
       "| ProductRelated_Duration | 0.04575006              | 0.17735300              | 0.20819113              |\n",
       "| BounceRates             | 0.04465629              | 0.05869775              | 0.07508532              |\n",
       "| ExitRates               | 0.04236096              | 0.16057008              | 0.13993174              |\n",
       "| Administrative          | 0.03071995              | 0.06901510              | 0.07849829              |\n",
       "| Administrative_Duration | 0.02211254              | 0.09433782              | 0.11604096              |\n",
       "| ProductRelated          | 0.01886868              | 0.04670420              | 0.07849829              |\n",
       "\n"
      ],
      "text/plain": [
       "  Feature                 Gain       Cover      Frequency \n",
       "1 PageValues              0.69472871 0.23796612 0.17406143\n",
       "2 Month                   0.10080282 0.15535595 0.12969283\n",
       "3 ProductRelated_Duration 0.04575006 0.17735300 0.20819113\n",
       "4 BounceRates             0.04465629 0.05869775 0.07508532\n",
       "5 ExitRates               0.04236096 0.16057008 0.13993174\n",
       "6 Administrative          0.03071995 0.06901510 0.07849829\n",
       "7 Administrative_Duration 0.02211254 0.09433782 0.11604096\n",
       "8 ProductRelated          0.01886868 0.04670420 0.07849829"
      ]
     },
     "metadata": {},
     "output_type": "display_data"
    }
   ],
   "source": [
    "# Print out feature importance\n",
    "xgb.importance(colnames(x_train.xgb), model = xgb.trees2)"
   ]
  },
  {
   "cell_type": "code",
   "execution_count": 82,
   "metadata": {
    "slideshow": {
     "slide_type": "fragment"
    },
    "vscode": {
     "languageId": "r"
    }
   },
   "outputs": [],
   "source": [
    "# Generate predictions in the validation set\n",
    "xgb.trees.pred2 <- predict(xgb.trees2, x_valid.xgb)"
   ]
  },
  {
   "cell_type": "code",
   "execution_count": 83,
   "metadata": {
    "slideshow": {
     "slide_type": "fragment"
    },
    "vscode": {
     "languageId": "r"
    }
   },
   "outputs": [
    {
     "data": {
      "text/html": [
       "0.437411515174817"
      ],
      "text/latex": [
       "0.437411515174817"
      ],
      "text/markdown": [
       "0.437411515174817"
      ],
      "text/plain": [
       "[1] 0.4374115"
      ]
     },
     "metadata": {},
     "output_type": "display_data"
    }
   ],
   "source": [
    "# Calculate the Brier Skill Score\n",
    "skill.score(xgb.trees.pred2, y_valid.xgb, brier.ref.valid)"
   ]
  },
  {
   "cell_type": "code",
   "execution_count": 129,
   "metadata": {
    "vscode": {
     "languageId": "r"
    }
   },
   "outputs": [
    {
     "data": {
      "text/html": [
       "<dl>\n",
       "\t<dt>$MAE</dt>\n",
       "\t\t<dd>0.1449</dd>\n",
       "\t<dt>$RMSE</dt>\n",
       "\t\t<dd>0.277</dd>\n",
       "</dl>\n"
      ],
      "text/latex": [
       "\\begin{description}\n",
       "\\item[\\$MAE] 0.1449\n",
       "\\item[\\$RMSE] 0.277\n",
       "\\end{description}\n"
      ],
      "text/markdown": [
       "$MAE\n",
       ":   0.1449\n",
       "$RMSE\n",
       ":   0.277\n",
       "\n",
       "\n"
      ],
      "text/plain": [
       "$MAE\n",
       "[1] 0.1449\n",
       "\n",
       "$RMSE\n",
       "[1] 0.277\n"
      ]
     },
     "metadata": {},
     "output_type": "display_data"
    }
   ],
   "source": [
    "error_rt <- genError(xgb.trees.pred2, valid_df_selected$Revenue)\n",
    "error_rt"
   ]
  },
  {
   "cell_type": "code",
   "execution_count": 84,
   "metadata": {
    "vscode": {
     "languageId": "r"
    }
   },
   "outputs": [],
   "source": [
    "### get rid of the last important one\n",
    "train_df_selected_xg2 <- train.df[,c(1, 2, 6, 7, 8, 9, 17, 18)]\n",
    "\n",
    "valid_df_selected_xg2 <- valid.df[,c(1, 2, 6, 7, 8, 9, 17, 18)]"
   ]
  },
  {
   "cell_type": "code",
   "execution_count": 85,
   "metadata": {
    "slideshow": {
     "slide_type": "fragment"
    },
    "vscode": {
     "languageId": "r"
    }
   },
   "outputs": [],
   "source": [
    "x_train.xgb <- model.matrix(~ 0 + ., data = train_df_selected_xg2[,-8]) #REMOVE TARGET VARIABLE\n",
    "y_train.xgb <- as.vector(train_df_selected$Revenue) #target variables\n",
    "\n",
    "x_valid.xgb <- model.matrix(~ 0 + ., data = valid_df_selected_xg2[,-8])\n",
    "y_valid.xgb <- as.vector(valid_df_selected$Revenue)\n"
   ]
  },
  {
   "cell_type": "code",
   "execution_count": 86,
   "metadata": {
    "slideshow": {
     "slide_type": "subslide"
    },
    "vscode": {
     "languageId": "r"
    }
   },
   "outputs": [
    {
     "name": "stdout",
     "output_type": "stream",
     "text": [
      "[13:13:07] WARNING: amalgamation/../src/learner.cc:1095: Starting in XGBoost 1.3.0, the default evaluation metric used with the objective 'binary:logistic' was changed from 'error' to 'logloss'. Explicitly set eval_metric if you'd like to restore the old behavior.\n"
     ]
    },
    {
     "data": {
      "text/plain": [
       "   user  system elapsed \n",
       "   0.25    0.08    0.23 "
      ]
     },
     "metadata": {},
     "output_type": "display_data"
    }
   ],
   "source": [
    "# Train the XGBoost model\n",
    "t1 <- proc.time()\n",
    "xgb.trees3 <- xgboost(x_train.xgb, \n",
    "                     y_train.xgb, \n",
    "                     max.depth = 2, \n",
    "                     nthread = workers, \n",
    "                     nround = 98, \n",
    "                     objective = \"binary:logistic\",\n",
    "                     verbose = 0)\n",
    "proc.time() - t1\n",
    "# Tune the model above by increasing/decreasing the depth of each tree \n",
    "# and/or the number of trees (n_round).\n",
    "# After multiple times of configuring, the optimistic number for each is 2 and 98"
   ]
  },
  {
   "cell_type": "code",
   "execution_count": 87,
   "metadata": {
    "slideshow": {
     "slide_type": "fragment"
    },
    "vscode": {
     "languageId": "r"
    }
   },
   "outputs": [
    {
     "data": {
      "text/html": [
       "<table>\n",
       "<thead><tr><th scope=col>Feature</th><th scope=col>Gain</th><th scope=col>Cover</th><th scope=col>Frequency</th></tr></thead>\n",
       "<tbody>\n",
       "\t<tr><td>PageValues             </td><td>0.70366826             </td><td>0.23887501             </td><td>0.18771331             </td></tr>\n",
       "\t<tr><td>Month                  </td><td>0.10133017             </td><td>0.15587850             </td><td>0.12969283             </td></tr>\n",
       "\t<tr><td>ProductRelated_Duration</td><td>0.04948346             </td><td>0.17477286             </td><td>0.20819113             </td></tr>\n",
       "\t<tr><td>BounceRates            </td><td>0.04719767             </td><td>0.07307977             </td><td>0.09556314             </td></tr>\n",
       "\t<tr><td>ExitRates              </td><td>0.04433948             </td><td>0.19955461             </td><td>0.17747440             </td></tr>\n",
       "\t<tr><td>Administrative         </td><td>0.03227861             </td><td>0.07345427             </td><td>0.08532423             </td></tr>\n",
       "\t<tr><td>Administrative_Duration</td><td>0.02170235             </td><td>0.08438498             </td><td>0.11604096             </td></tr>\n",
       "</tbody>\n",
       "</table>\n"
      ],
      "text/latex": [
       "\\begin{tabular}{r|llll}\n",
       " Feature & Gain & Cover & Frequency\\\\\n",
       "\\hline\n",
       "\t PageValues              & 0.70366826              & 0.23887501              & 0.18771331             \\\\\n",
       "\t Month                   & 0.10133017              & 0.15587850              & 0.12969283             \\\\\n",
       "\t ProductRelated\\_Duration & 0.04948346                & 0.17477286                & 0.20819113               \\\\\n",
       "\t BounceRates             & 0.04719767              & 0.07307977              & 0.09556314             \\\\\n",
       "\t ExitRates               & 0.04433948              & 0.19955461              & 0.17747440             \\\\\n",
       "\t Administrative          & 0.03227861              & 0.07345427              & 0.08532423             \\\\\n",
       "\t Administrative\\_Duration & 0.02170235                & 0.08438498                & 0.11604096               \\\\\n",
       "\\end{tabular}\n"
      ],
      "text/markdown": [
       "\n",
       "| Feature | Gain | Cover | Frequency |\n",
       "|---|---|---|---|\n",
       "| PageValues              | 0.70366826              | 0.23887501              | 0.18771331              |\n",
       "| Month                   | 0.10133017              | 0.15587850              | 0.12969283              |\n",
       "| ProductRelated_Duration | 0.04948346              | 0.17477286              | 0.20819113              |\n",
       "| BounceRates             | 0.04719767              | 0.07307977              | 0.09556314              |\n",
       "| ExitRates               | 0.04433948              | 0.19955461              | 0.17747440              |\n",
       "| Administrative          | 0.03227861              | 0.07345427              | 0.08532423              |\n",
       "| Administrative_Duration | 0.02170235              | 0.08438498              | 0.11604096              |\n",
       "\n"
      ],
      "text/plain": [
       "  Feature                 Gain       Cover      Frequency \n",
       "1 PageValues              0.70366826 0.23887501 0.18771331\n",
       "2 Month                   0.10133017 0.15587850 0.12969283\n",
       "3 ProductRelated_Duration 0.04948346 0.17477286 0.20819113\n",
       "4 BounceRates             0.04719767 0.07307977 0.09556314\n",
       "5 ExitRates               0.04433948 0.19955461 0.17747440\n",
       "6 Administrative          0.03227861 0.07345427 0.08532423\n",
       "7 Administrative_Duration 0.02170235 0.08438498 0.11604096"
      ]
     },
     "metadata": {},
     "output_type": "display_data"
    }
   ],
   "source": [
    "# Print out feature importance\n",
    "xgb.importance(colnames(x_train.xgb), model = xgb.trees3)"
   ]
  },
  {
   "cell_type": "code",
   "execution_count": 88,
   "metadata": {
    "slideshow": {
     "slide_type": "fragment"
    },
    "vscode": {
     "languageId": "r"
    }
   },
   "outputs": [],
   "source": [
    "# Generate predictions in the validation set\n",
    "xgb.trees.pred3 <- predict(xgb.trees3, x_valid.xgb)"
   ]
  },
  {
   "cell_type": "code",
   "execution_count": 89,
   "metadata": {
    "slideshow": {
     "slide_type": "fragment"
    },
    "vscode": {
     "languageId": "r"
    }
   },
   "outputs": [
    {
     "data": {
      "text/html": [
       "0.436464254151407"
      ],
      "text/latex": [
       "0.436464254151407"
      ],
      "text/markdown": [
       "0.436464254151407"
      ],
      "text/plain": [
       "[1] 0.4364643"
      ]
     },
     "metadata": {},
     "output_type": "display_data"
    }
   ],
   "source": [
    "# Calculate the Brier Skill Score\n",
    "skill.score(xgb.trees.pred3, y_valid.xgb, brier.ref.valid)"
   ]
  },
  {
   "cell_type": "markdown",
   "metadata": {},
   "source": [
    "#### **Stop modify cause the score decreases**"
   ]
  },
  {
   "cell_type": "markdown",
   "metadata": {
    "slideshow": {
     "slide_type": "slide"
    }
   },
   "source": [
    "### Model4: Ensemble Model --- Weighted Average"
   ]
  },
  {
   "cell_type": "markdown",
   "metadata": {
    "slideshow": {
     "slide_type": "slide"
    }
   },
   "source": [
    "Now we have three different base models: logistic regression, regression tree, and XGBoost. How could we combine them?"
   ]
  },
  {
   "cell_type": "code",
   "execution_count": 96,
   "metadata": {
    "slideshow": {
     "slide_type": "slide"
    },
    "vscode": {
     "languageId": "r"
    }
   },
   "outputs": [],
   "source": [
    "m1_weight <- seq(0.1,0.9,0.1)\n",
    "m2_weight <- seq(0.1,0.9,0.1)\n",
    "\n",
    "# set up a matrix to store the Brier skill scores\n",
    "bss_matrix <- matrix(0,9,9)\n",
    "for (i in 1:9) {\n",
    "    for (j in 1:9){\n",
    "        if (m2_weight[j]+ m1_weight[i] > 1) next\n",
    "        ensemble_pred <- m1_weight[i]*pred.logit.reg2 + m2_weight[j]*reg.tree.pred + (1-m1_weight[i] - m2_weight[j])*xgb.trees.pred2\n",
    "        bss_matrix[i,j] <- skill.score(ensemble_pred, valid_df_selected$Revenue, brier.ref.valid)\n",
    "    }\n",
    "}"
   ]
  },
  {
   "cell_type": "code",
   "execution_count": 97,
   "metadata": {
    "slideshow": {
     "slide_type": "slide"
    },
    "vscode": {
     "languageId": "r"
    }
   },
   "outputs": [
    {
     "data": {
      "text/html": [
       "<table>\n",
       "<tbody>\n",
       "\t<tr><td>0.4386636</td><td>0.4389212</td><td>0.4379290</td><td>0.4356869</td><td>0.4321948</td><td>0.4274529</td><td>0.4214611</td><td>0.4142194</td><td>0.4057279</td></tr>\n",
       "\t<tr><td>0.4351367</td><td>0.4347548</td><td>0.4331231</td><td>0.4302415</td><td>0.4261100</td><td>0.4207286</td><td>0.4140973</td><td>0.4062161</td><td>0.0000000</td></tr>\n",
       "\t<tr><td>0.4289779</td><td>0.4279565</td><td>0.4256853</td><td>0.4221642</td><td>0.4173932</td><td>0.4113723</td><td>0.4041015</td><td>0.0000000</td><td>0.0000000</td></tr>\n",
       "\t<tr><td>0.4201872</td><td>0.4185263</td><td>0.4156156</td><td>0.4114550</td><td>0.4060445</td><td>0.3993841</td><td>0.0000000</td><td>0.0000000</td><td>0.0000000</td></tr>\n",
       "\t<tr><td>0.4087645</td><td>0.4064642</td><td>0.4029140</td><td>0.3981138</td><td>0.3920638</td><td>0.0000000</td><td>0.0000000</td><td>0.0000000</td><td>0.0000000</td></tr>\n",
       "\t<tr><td>0.3947100</td><td>0.3917702</td><td>0.3875804</td><td>0.3821408</td><td>0.0000000</td><td>0.0000000</td><td>0.0000000</td><td>0.0000000</td><td>0.0000000</td></tr>\n",
       "\t<tr><td>0.3780235</td><td>0.3744442</td><td>0.3696150</td><td>0.0000000</td><td>0.0000000</td><td>0.0000000</td><td>0.0000000</td><td>0.0000000</td><td>0.0000000</td></tr>\n",
       "\t<tr><td>0.3587052</td><td>0.3544863</td><td>0.0000000</td><td>0.0000000</td><td>0.0000000</td><td>0.0000000</td><td>0.0000000</td><td>0.0000000</td><td>0.0000000</td></tr>\n",
       "\t<tr><td>0.3367549</td><td>0.0000000</td><td>0.0000000</td><td>0.0000000</td><td>0.0000000</td><td>0.0000000</td><td>0.0000000</td><td>0.0000000</td><td>0.0000000</td></tr>\n",
       "</tbody>\n",
       "</table>\n"
      ],
      "text/latex": [
       "\\begin{tabular}{lllllllll}\n",
       "\t 0.4386636 & 0.4389212 & 0.4379290 & 0.4356869 & 0.4321948 & 0.4274529 & 0.4214611 & 0.4142194 & 0.4057279\\\\\n",
       "\t 0.4351367 & 0.4347548 & 0.4331231 & 0.4302415 & 0.4261100 & 0.4207286 & 0.4140973 & 0.4062161 & 0.0000000\\\\\n",
       "\t 0.4289779 & 0.4279565 & 0.4256853 & 0.4221642 & 0.4173932 & 0.4113723 & 0.4041015 & 0.0000000 & 0.0000000\\\\\n",
       "\t 0.4201872 & 0.4185263 & 0.4156156 & 0.4114550 & 0.4060445 & 0.3993841 & 0.0000000 & 0.0000000 & 0.0000000\\\\\n",
       "\t 0.4087645 & 0.4064642 & 0.4029140 & 0.3981138 & 0.3920638 & 0.0000000 & 0.0000000 & 0.0000000 & 0.0000000\\\\\n",
       "\t 0.3947100 & 0.3917702 & 0.3875804 & 0.3821408 & 0.0000000 & 0.0000000 & 0.0000000 & 0.0000000 & 0.0000000\\\\\n",
       "\t 0.3780235 & 0.3744442 & 0.3696150 & 0.0000000 & 0.0000000 & 0.0000000 & 0.0000000 & 0.0000000 & 0.0000000\\\\\n",
       "\t 0.3587052 & 0.3544863 & 0.0000000 & 0.0000000 & 0.0000000 & 0.0000000 & 0.0000000 & 0.0000000 & 0.0000000\\\\\n",
       "\t 0.3367549 & 0.0000000 & 0.0000000 & 0.0000000 & 0.0000000 & 0.0000000 & 0.0000000 & 0.0000000 & 0.0000000\\\\\n",
       "\\end{tabular}\n"
      ],
      "text/markdown": [
       "\n",
       "| 0.4386636 | 0.4389212 | 0.4379290 | 0.4356869 | 0.4321948 | 0.4274529 | 0.4214611 | 0.4142194 | 0.4057279 |\n",
       "| 0.4351367 | 0.4347548 | 0.4331231 | 0.4302415 | 0.4261100 | 0.4207286 | 0.4140973 | 0.4062161 | 0.0000000 |\n",
       "| 0.4289779 | 0.4279565 | 0.4256853 | 0.4221642 | 0.4173932 | 0.4113723 | 0.4041015 | 0.0000000 | 0.0000000 |\n",
       "| 0.4201872 | 0.4185263 | 0.4156156 | 0.4114550 | 0.4060445 | 0.3993841 | 0.0000000 | 0.0000000 | 0.0000000 |\n",
       "| 0.4087645 | 0.4064642 | 0.4029140 | 0.3981138 | 0.3920638 | 0.0000000 | 0.0000000 | 0.0000000 | 0.0000000 |\n",
       "| 0.3947100 | 0.3917702 | 0.3875804 | 0.3821408 | 0.0000000 | 0.0000000 | 0.0000000 | 0.0000000 | 0.0000000 |\n",
       "| 0.3780235 | 0.3744442 | 0.3696150 | 0.0000000 | 0.0000000 | 0.0000000 | 0.0000000 | 0.0000000 | 0.0000000 |\n",
       "| 0.3587052 | 0.3544863 | 0.0000000 | 0.0000000 | 0.0000000 | 0.0000000 | 0.0000000 | 0.0000000 | 0.0000000 |\n",
       "| 0.3367549 | 0.0000000 | 0.0000000 | 0.0000000 | 0.0000000 | 0.0000000 | 0.0000000 | 0.0000000 | 0.0000000 |\n",
       "\n"
      ],
      "text/plain": [
       "      [,1]      [,2]      [,3]      [,4]      [,5]      [,6]      [,7]     \n",
       " [1,] 0.4386636 0.4389212 0.4379290 0.4356869 0.4321948 0.4274529 0.4214611\n",
       " [2,] 0.4351367 0.4347548 0.4331231 0.4302415 0.4261100 0.4207286 0.4140973\n",
       " [3,] 0.4289779 0.4279565 0.4256853 0.4221642 0.4173932 0.4113723 0.4041015\n",
       " [4,] 0.4201872 0.4185263 0.4156156 0.4114550 0.4060445 0.3993841 0.0000000\n",
       " [5,] 0.4087645 0.4064642 0.4029140 0.3981138 0.3920638 0.0000000 0.0000000\n",
       " [6,] 0.3947100 0.3917702 0.3875804 0.3821408 0.0000000 0.0000000 0.0000000\n",
       " [7,] 0.3780235 0.3744442 0.3696150 0.0000000 0.0000000 0.0000000 0.0000000\n",
       " [8,] 0.3587052 0.3544863 0.0000000 0.0000000 0.0000000 0.0000000 0.0000000\n",
       " [9,] 0.3367549 0.0000000 0.0000000 0.0000000 0.0000000 0.0000000 0.0000000\n",
       "      [,8]      [,9]     \n",
       " [1,] 0.4142194 0.4057279\n",
       " [2,] 0.4062161 0.0000000\n",
       " [3,] 0.0000000 0.0000000\n",
       " [4,] 0.0000000 0.0000000\n",
       " [5,] 0.0000000 0.0000000\n",
       " [6,] 0.0000000 0.0000000\n",
       " [7,] 0.0000000 0.0000000\n",
       " [8,] 0.0000000 0.0000000\n",
       " [9,] 0.0000000 0.0000000"
      ]
     },
     "metadata": {},
     "output_type": "display_data"
    }
   ],
   "source": [
    "# print out the Brier skills score matrix\n",
    "bss_matrix "
   ]
  },
  {
   "cell_type": "code",
   "execution_count": 98,
   "metadata": {
    "slideshow": {
     "slide_type": "fragment"
    },
    "vscode": {
     "languageId": "r"
    }
   },
   "outputs": [
    {
     "data": {
      "text/html": [
       "<table>\n",
       "<thead><tr><th scope=col>row</th><th scope=col>col</th></tr></thead>\n",
       "<tbody>\n",
       "\t<tr><td>1</td><td>2</td></tr>\n",
       "</tbody>\n",
       "</table>\n"
      ],
      "text/latex": [
       "\\begin{tabular}{ll}\n",
       " row & col\\\\\n",
       "\\hline\n",
       "\t 1 & 2\\\\\n",
       "\\end{tabular}\n"
      ],
      "text/markdown": [
       "\n",
       "| row | col |\n",
       "|---|---|\n",
       "| 1 | 2 |\n",
       "\n"
      ],
      "text/plain": [
       "     row col\n",
       "[1,] 1   2  "
      ]
     },
     "metadata": {},
     "output_type": "display_data"
    }
   ],
   "source": [
    "# Find the element in the matrix corresponds to the highest score\n",
    "which(bss_matrix == max(bss_matrix), arr.ind = TRUE) "
   ]
  },
  {
   "cell_type": "markdown",
   "metadata": {},
   "source": [
    "#### According to the table, the weights put on the predictions from the logistic regression, regression tree and XGBoost should be 0.1,0.2,and 0.7.\n",
    "#### The highest Brier Skill Score acheived by the weighted average ensemble is 0.4385083."
   ]
  },
  {
   "cell_type": "markdown",
   "metadata": {
    "slideshow": {
     "slide_type": "slide"
    }
   },
   "source": [
    "### **Model5-7: Ensemble Model --- Stacking**"
   ]
  },
  {
   "cell_type": "markdown",
   "metadata": {
    "slideshow": {
     "slide_type": "slide"
    }
   },
   "source": [
    "#### 1. Train the base models (M1, M2 and M3) by using the selected training set, and generate predictions from these three models in the validation set."
   ]
  },
  {
   "cell_type": "code",
   "execution_count": 134,
   "metadata": {
    "slideshow": {
     "slide_type": "slide"
    },
    "vscode": {
     "languageId": "r"
    }
   },
   "outputs": [],
   "source": [
    "# Logistic regression\n",
    "M1 <- glm(Revenue~., data = train_df_selected_lr2, family = \"binomial\")\n",
    "M1.predict <- predict(M1, valid_df_selected_lr2, type = \"response\")"
   ]
  },
  {
   "cell_type": "code",
   "execution_count": 135,
   "metadata": {
    "vscode": {
     "languageId": "r"
    }
   },
   "outputs": [
    {
     "data": {
      "text/html": [
       "0.316420592795386"
      ],
      "text/latex": [
       "0.316420592795386"
      ],
      "text/markdown": [
       "0.316420592795386"
      ],
      "text/plain": [
       "[1] 0.3164206"
      ]
     },
     "metadata": {},
     "output_type": "display_data"
    }
   ],
   "source": [
    "skill.score(M1.predict, valid_df_selected$Revenue, brier.ref.valid)"
   ]
  },
  {
   "cell_type": "code",
   "execution_count": 136,
   "metadata": {
    "slideshow": {
     "slide_type": "slide"
    },
    "vscode": {
     "languageId": "r"
    }
   },
   "outputs": [],
   "source": [
    "# Regression tree\n",
    "M2 <- rpart(Revenue ~ ., \n",
    "            data = train_df_selected, \n",
    "            control = rpart.control(cp = 0.0025))\n",
    "M2.predict <-  predict(M2, valid_df_selected)"
   ]
  },
  {
   "cell_type": "code",
   "execution_count": 137,
   "metadata": {
    "vscode": {
     "languageId": "r"
    }
   },
   "outputs": [
    {
     "data": {
      "text/html": [
       "0.402636861382858"
      ],
      "text/latex": [
       "0.402636861382858"
      ],
      "text/markdown": [
       "0.402636861382858"
      ],
      "text/plain": [
       "[1] 0.4026369"
      ]
     },
     "metadata": {},
     "output_type": "display_data"
    }
   ],
   "source": [
    "skill.score(M2.predict, valid_df_selected$Revenue, brier.ref.valid)"
   ]
  },
  {
   "cell_type": "code",
   "execution_count": 138,
   "metadata": {
    "vscode": {
     "languageId": "r"
    }
   },
   "outputs": [],
   "source": [
    "### best XGBoost Model\n",
    "train_df_selected_xg2 <- train.df[,c(1, 2, 5, 6, 7, 8, 9, 17, 18)]\n",
    "\n",
    "valid_df_selected_xg2 <- valid.df[,c(1, 2, 5, 6, 7, 8, 9, 17, 18)]"
   ]
  },
  {
   "cell_type": "code",
   "execution_count": 139,
   "metadata": {
    "slideshow": {
     "slide_type": "slide"
    },
    "vscode": {
     "languageId": "r"
    }
   },
   "outputs": [
    {
     "name": "stdout",
     "output_type": "stream",
     "text": [
      "[14:45:06] WARNING: amalgamation/../src/learner.cc:1095: Starting in XGBoost 1.3.0, the default evaluation metric used with the objective 'binary:logistic' was changed from 'error' to 'logloss'. Explicitly set eval_metric if you'd like to restore the old behavior.\n"
     ]
    }
   ],
   "source": [
    "# XGBoost\n",
    "xtrain.xgb <- model.matrix(~ 0 + ., data = train_df_selected_xg2[,-9])\n",
    "ytrain.xgb <- as.vector(train_df_selected$Revenue)\n",
    "\n",
    "xvalid.xgb <- model.matrix(~ 0 + ., data = valid_df_selected_xg2[,-9])\n",
    "yvalid.xgb <- as.vector(valid_df_selected$Revenue)\n",
    "\n",
    "M3 <- xgboost(xtrain.xgb, ytrain.xgb, \n",
    "              max.depth = 2, \n",
    "              nthread = workers, \n",
    "              nround = 98, \n",
    "              objective = \"binary:logistic\",\n",
    "              verbose = 0)\n",
    "\n",
    "\n",
    "M3.predict <- predict(M3, xvalid.xgb)\n",
    "# Tune the model above by increasing/decreasing the depth of each tree \n",
    "# and/or the number of trees (n_round).\n",
    "# After multiple times of configuring, the optimistic number for each is 2 and 98"
   ]
  },
  {
   "cell_type": "code",
   "execution_count": 140,
   "metadata": {
    "vscode": {
     "languageId": "r"
    }
   },
   "outputs": [
    {
     "data": {
      "text/html": [
       "0.437411515174817"
      ],
      "text/latex": [
       "0.437411515174817"
      ],
      "text/markdown": [
       "0.437411515174817"
      ],
      "text/plain": [
       "[1] 0.4374115"
      ]
     },
     "metadata": {},
     "output_type": "display_data"
    }
   ],
   "source": [
    "skill.score(M3.predict, valid_df_selected$Revenue, brier.ref.valid)"
   ]
  },
  {
   "cell_type": "markdown",
   "metadata": {
    "slideshow": {
     "slide_type": "subslide"
    }
   },
   "source": [
    "#### 2. Fit a stacker model to the predictions generated in last step."
   ]
  },
  {
   "cell_type": "code",
   "execution_count": 141,
   "metadata": {
    "slideshow": {
     "slide_type": "fragment"
    },
    "vscode": {
     "languageId": "r"
    }
   },
   "outputs": [
    {
     "data": {
      "text/html": [
       "<table>\n",
       "<thead><tr><th></th><th scope=col>Revenue</th><th scope=col>M1.predict</th><th scope=col>M2.predict</th><th scope=col>M3.predict</th></tr></thead>\n",
       "<tbody>\n",
       "\t<tr><th scope=row>2</th><td>0           </td><td>0.011894713 </td><td>0.001320132 </td><td>0.0002825966</td></tr>\n",
       "\t<tr><th scope=row>4</th><td>0           </td><td>0.005068063 </td><td>0.001320132 </td><td>0.0002095454</td></tr>\n",
       "\t<tr><th scope=row>5</th><td>0           </td><td>0.028981102 </td><td>0.001320132 </td><td>0.0011197248</td></tr>\n",
       "\t<tr><th scope=row>7</th><td>0           </td><td>0.001163004 </td><td>0.001320132 </td><td>0.0002513351</td></tr>\n",
       "\t<tr><th scope=row>8</th><td>0           </td><td>0.001159408 </td><td>0.001320132 </td><td>0.0002513351</td></tr>\n",
       "\t<tr><th scope=row>10</th><td>0           </td><td>0.048760280 </td><td>0.001320132 </td><td>0.0037725717</td></tr>\n",
       "</tbody>\n",
       "</table>\n"
      ],
      "text/latex": [
       "\\begin{tabular}{r|llll}\n",
       "  & Revenue & M1.predict & M2.predict & M3.predict\\\\\n",
       "\\hline\n",
       "\t2 & 0            & 0.011894713  & 0.001320132  & 0.0002825966\\\\\n",
       "\t4 & 0            & 0.005068063  & 0.001320132  & 0.0002095454\\\\\n",
       "\t5 & 0            & 0.028981102  & 0.001320132  & 0.0011197248\\\\\n",
       "\t7 & 0            & 0.001163004  & 0.001320132  & 0.0002513351\\\\\n",
       "\t8 & 0            & 0.001159408  & 0.001320132  & 0.0002513351\\\\\n",
       "\t10 & 0            & 0.048760280  & 0.001320132  & 0.0037725717\\\\\n",
       "\\end{tabular}\n"
      ],
      "text/markdown": [
       "\n",
       "| <!--/--> | Revenue | M1.predict | M2.predict | M3.predict |\n",
       "|---|---|---|---|---|\n",
       "| 2 | 0            | 0.011894713  | 0.001320132  | 0.0002825966 |\n",
       "| 4 | 0            | 0.005068063  | 0.001320132  | 0.0002095454 |\n",
       "| 5 | 0            | 0.028981102  | 0.001320132  | 0.0011197248 |\n",
       "| 7 | 0            | 0.001163004  | 0.001320132  | 0.0002513351 |\n",
       "| 8 | 0            | 0.001159408  | 0.001320132  | 0.0002513351 |\n",
       "| 10 | 0            | 0.048760280  | 0.001320132  | 0.0037725717 |\n",
       "\n"
      ],
      "text/plain": [
       "   Revenue M1.predict  M2.predict  M3.predict  \n",
       "2  0       0.011894713 0.001320132 0.0002825966\n",
       "4  0       0.005068063 0.001320132 0.0002095454\n",
       "5  0       0.028981102 0.001320132 0.0011197248\n",
       "7  0       0.001163004 0.001320132 0.0002513351\n",
       "8  0       0.001159408 0.001320132 0.0002513351\n",
       "10 0       0.048760280 0.001320132 0.0037725717"
      ]
     },
     "metadata": {},
     "output_type": "display_data"
    }
   ],
   "source": [
    "# Construct the stacker dataframe in validation set\n",
    "stacker.df <- data.frame(Revenue = valid_df_selected$Revenue, \n",
    "                         M1.predict = M1.predict, \n",
    "                         M2.predict = M2.predict,\n",
    "                         M3.predict = M3.predict)\n",
    "\n",
    "head(stacker.df)\n"
   ]
  },
  {
   "cell_type": "markdown",
   "metadata": {
    "slideshow": {
     "slide_type": "subslide"
    }
   },
   "source": [
    "### Model 5: Stacking model - Regression Tree"
   ]
  },
  {
   "cell_type": "code",
   "execution_count": 142,
   "metadata": {
    "slideshow": {
     "slide_type": "fragment"
    },
    "vscode": {
     "languageId": "r"
    }
   },
   "outputs": [],
   "source": [
    "# Dependent variable is the Revenue, independent variables are M1, M2, M3 predictions\n",
    "stackerModel_1 <- rpart(Revenue ~ ., \n",
    "                        data = stacker.df,\n",
    "                        control = rpart.control(cp = 0.0025))"
   ]
  },
  {
   "cell_type": "code",
   "execution_count": 143,
   "metadata": {
    "slideshow": {
     "slide_type": "fragment"
    },
    "vscode": {
     "languageId": "r"
    }
   },
   "outputs": [
    {
     "data": {
      "text/html": [
       "0.452645674730667"
      ],
      "text/latex": [
       "0.452645674730667"
      ],
      "text/markdown": [
       "0.452645674730667"
      ],
      "text/plain": [
       "[1] 0.4526457"
      ]
     },
     "metadata": {},
     "output_type": "display_data"
    }
   ],
   "source": [
    "# Predict from stacker model 1 --- regression tree\n",
    "stacker.predict.rt <- predict(stackerModel_1, stacker.df[, -1])\n",
    "\n",
    "# Score the stacker model's prediction\n",
    "skill.score(stacker.predict.rt, valid_df_selected$Revenue, brier.ref.valid)"
   ]
  },
  {
   "cell_type": "markdown",
   "metadata": {
    "slideshow": {
     "slide_type": "subslide"
    }
   },
   "source": [
    "### Model 6: Stacking model - XGBoost"
   ]
  },
  {
   "cell_type": "code",
   "execution_count": 144,
   "metadata": {
    "slideshow": {
     "slide_type": "fragment"
    },
    "vscode": {
     "languageId": "r"
    }
   },
   "outputs": [
    {
     "name": "stdout",
     "output_type": "stream",
     "text": [
      "[14:45:11] WARNING: amalgamation/../src/learner.cc:1095: Starting in XGBoost 1.3.0, the default evaluation metric used with the objective 'binary:logistic' was changed from 'error' to 'logloss'. Explicitly set eval_metric if you'd like to restore the old behavior.\n"
     ]
    }
   ],
   "source": [
    "# Convert stacker.df to matrix format\n",
    "stacker.x.xgb <- model.matrix(~ 0 + ., data = stacker.df[,-1])\n",
    "stacker.y.xgb <- as.vector(stacker.df[,1])\n",
    "\n",
    "stackerModel_2 <- xgboost(stacker.x.xgb, \n",
    "                          stacker.y.xgb,\n",
    "                          max.depth = 2, \n",
    "                          nthread = workers, \n",
    "                          nround = 98,\n",
    "                          objective = \"binary:logistic\",\n",
    "                          verbose = 0)"
   ]
  },
  {
   "cell_type": "code",
   "execution_count": 145,
   "metadata": {
    "slideshow": {
     "slide_type": "fragment"
    },
    "vscode": {
     "languageId": "r"
    }
   },
   "outputs": [
    {
     "data": {
      "text/html": [
       "0.498226485995212"
      ],
      "text/latex": [
       "0.498226485995212"
      ],
      "text/markdown": [
       "0.498226485995212"
      ],
      "text/plain": [
       "[1] 0.4982265"
      ]
     },
     "metadata": {},
     "output_type": "display_data"
    }
   ],
   "source": [
    "# Predict from stacker model 2 --- XGBoost, and calculate the Brier Skill Score\n",
    "predict.variables.xgb <- model.matrix(~ 0 + ., data = stacker.df[, -1])\n",
    "\n",
    "stacker.predict.xgb <- predict(stackerModel_2, predict.variables.xgb)\n",
    "\n",
    "# Score the stacker model's prediction\n",
    "skill.score(stacker.predict.xgb, valid_df_selected$Revenue, brier.ref.valid)"
   ]
  },
  {
   "cell_type": "markdown",
   "metadata": {},
   "source": [
    "### Model 6: Stacking model -  Logistic regression"
   ]
  },
  {
   "cell_type": "code",
   "execution_count": 146,
   "metadata": {
    "vscode": {
     "languageId": "r"
    }
   },
   "outputs": [
    {
     "data": {
      "text/html": [
       "0.42433263848684"
      ],
      "text/latex": [
       "0.42433263848684"
      ],
      "text/markdown": [
       "0.42433263848684"
      ],
      "text/plain": [
       "[1] 0.4243326"
      ]
     },
     "metadata": {},
     "output_type": "display_data"
    }
   ],
   "source": [
    "# Logistic regression\n",
    "stackerModel_3 <- glm(Revenue ~ ., data = stacker.df, family = \"binomial\")\n",
    "stacker.predict.lr <- predict(stackerModel_3, valid_df_selected, type = \"response\")\n",
    "\n",
    "# Score the stacker model's prediction\n",
    "skill.score(stacker.predict.lr, valid_df_selected$Revenue, brier.ref.valid)"
   ]
  },
  {
   "cell_type": "markdown",
   "metadata": {
    "slideshow": {
     "slide_type": "slide"
    }
   },
   "source": [
    "So far, we can compare Model1-6 performances in the validation set, and pick the best model.\n",
    "Here is the table for three models performance in validation set:\n",
    "\n",
    "| Model_number | Model  | Brier skill score in validation set         \n",
    "| :-: |:-------------: | :-:\n",
    "| Model1 |Logistic Regression | 0.3164\n",
    "| Model2 |Regression Tree | 0.4026\n",
    "| Model3 |XGBoost | 0.4374\n",
    "| Model4 |Ensemble -- Weighted Average | 0.4389\n",
    "| Model5 |Stacking -- Regression Tree | 0.4526\n",
    "| Model6 |Stacking -- XGBoost | **0.4982**\n",
    "| Model7 |Stacking -- Logistic regression | 0.4243\n"
   ]
  },
  {
   "cell_type": "code",
   "execution_count": 152,
   "metadata": {
    "vscode": {
     "languageId": "r"
    }
   },
   "outputs": [
    {
     "data": {
      "text/html": [
       "<table>\n",
       "<thead><tr><th scope=col>MAE</th><th scope=col>RMSE</th><th scope=col>Model</th></tr></thead>\n",
       "<tbody>\n",
       "\t<tr><td>0.1536</td><td>0.2854</td><td>rt    </td></tr>\n",
       "\t<tr><td>0.1803</td><td>0.3053</td><td>lr    </td></tr>\n",
       "\t<tr><td>0.1449</td><td>0.2770</td><td>xgb   </td></tr>\n",
       "\t<tr><td>0.1493</td><td>0.2732</td><td>srt   </td></tr>\n",
       "\t<tr><td>0.1421</td><td>0.2616</td><td>sxgb  </td></tr>\n",
       "\t<tr><td>0.1532</td><td>0.2802</td><td>slr   </td></tr>\n",
       "</tbody>\n",
       "</table>\n"
      ],
      "text/latex": [
       "\\begin{tabular}{r|lll}\n",
       " MAE & RMSE & Model\\\\\n",
       "\\hline\n",
       "\t 0.1536 & 0.2854 & rt    \\\\\n",
       "\t 0.1803 & 0.3053 & lr    \\\\\n",
       "\t 0.1449 & 0.2770 & xgb   \\\\\n",
       "\t 0.1493 & 0.2732 & srt   \\\\\n",
       "\t 0.1421 & 0.2616 & sxgb  \\\\\n",
       "\t 0.1532 & 0.2802 & slr   \\\\\n",
       "\\end{tabular}\n"
      ],
      "text/markdown": [
       "\n",
       "| MAE | RMSE | Model |\n",
       "|---|---|---|\n",
       "| 0.1536 | 0.2854 | rt     |\n",
       "| 0.1803 | 0.3053 | lr     |\n",
       "| 0.1449 | 0.2770 | xgb    |\n",
       "| 0.1493 | 0.2732 | srt    |\n",
       "| 0.1421 | 0.2616 | sxgb   |\n",
       "| 0.1532 | 0.2802 | slr    |\n",
       "\n"
      ],
      "text/plain": [
       "  MAE    RMSE   Model\n",
       "1 0.1536 0.2854 rt   \n",
       "2 0.1803 0.3053 lr   \n",
       "3 0.1449 0.2770 xgb  \n",
       "4 0.1493 0.2732 srt  \n",
       "5 0.1421 0.2616 sxgb \n",
       "6 0.1532 0.2802 slr  "
      ]
     },
     "metadata": {},
     "output_type": "display_data"
    }
   ],
   "source": [
    "error <- genError(reg.tree.pred, valid_df_selected$Revenue)\n",
    "model.results <- data.frame(MAE = error$MAE, RMSE = error$RMSE, Model=\"rt\")\n",
    "error <- genError(pred.logit.reg2, valid_df_selected$Revenue)\n",
    "model.results <- rbind(model.results, data.frame(MAE = error$MAE, RMSE = error$RMSE, Model=\"lr\"))\n",
    "error <- genError(xgb.trees.pred2, valid_df_selected$Revenue)\n",
    "model.results <- rbind(model.results, data.frame(MAE = error$MAE, RMSE = error$RMSE, Model=\"xgb\"))\n",
    "error <- genError(stacker.predict.rt, valid_df_selected$Revenue)\n",
    "model.results <- rbind(model.results, data.frame(MAE = error$MAE, RMSE = error$RMSE, Model=\"srt\"))\n",
    "error <- genError(stacker.predict.xgb, valid_df_selected$Revenue)\n",
    "model.results <- rbind(model.results, data.frame(MAE = error$MAE, RMSE = error$RMSE, Model=\"sxgb\"))\n",
    "error <- genError(stacker.predict.lr, valid_df_selected$Revenue)\n",
    "model.results <- rbind(model.results, data.frame(MAE = error$MAE, RMSE = error$RMSE, Model=\"slr\"))\n",
    "model.results"
   ]
  },
  {
   "cell_type": "markdown",
   "metadata": {
    "slideshow": {
     "slide_type": "slide"
    }
   },
   "source": [
    "### Final Step: Retrain this best model using the entire training set and generate predictions for the testing set"
   ]
  },
  {
   "cell_type": "code",
   "execution_count": 114,
   "metadata": {
    "slideshow": {
     "slide_type": "fragment"
    },
    "vscode": {
     "languageId": "r"
    }
   },
   "outputs": [],
   "source": [
    "### best XGBoost Model\n",
    "total_train_selected_xg <- total_train.df[,c(1, 2, 5, 6, 7, 8, 9, 17, 18)]\n",
    "\n",
    "xtrain.xgb <- model.matrix(~ 0 + ., data = total_train_selected_xg[,-9])\n",
    "ytrain.xgb <- as.vector(total_train.df$Revenue)\n",
    "\n",
    "test_df_selected_xg <- test.df[,c(1, 2, 5, 6, 7, 8, 9, 17, 18)]\n",
    "\n",
    "xtest.xgb <- model.matrix(~ 0 + ., data = test_df_selected_xg[,-9])\n",
    "ytest.xgb <- as.vector(test_df_selected$Revenue)"
   ]
  },
  {
   "cell_type": "code",
   "execution_count": 115,
   "metadata": {
    "slideshow": {
     "slide_type": "fragment"
    },
    "vscode": {
     "languageId": "r"
    }
   },
   "outputs": [
    {
     "name": "stdout",
     "output_type": "stream",
     "text": [
      "[13:18:35] WARNING: amalgamation/../src/learner.cc:1095: Starting in XGBoost 1.3.0, the default evaluation metric used with the objective 'binary:logistic' was changed from 'error' to 'logloss'. Explicitly set eval_metric if you'd like to restore the old behavior.\n"
     ]
    }
   ],
   "source": [
    "# Train base models\n",
    "total_train_df_selected_lr <- total_train.df[,c(2, 4, 5, 6, 7, 8, 9, 17, 18)]\n",
    "test_df_selected_lr2 <- test.df[,c(2, 4, 5, 6, 7, 8, 9, 17, 18)]\n",
    "\n",
    "M1.trainAll <- glm(Revenue ~ ., data = total_train_df_selected_lr, family = \"binomial\")\n",
    "\n",
    "M2.trainAll <- rpart(Revenue ~ ., \n",
    "            data = total_train_selected, \n",
    "            control = rpart.control(cp = 0.0025))\n",
    "\n",
    "M3.trainAll <- xgboost(xtrain.xgb, ytrain.xgb, \n",
    "              max.depth = 2, \n",
    "              nthread = workers, \n",
    "              nround = 98, \n",
    "              objective = \"binary:logistic\",\n",
    "              verbose = 0)"
   ]
  },
  {
   "cell_type": "code",
   "execution_count": 116,
   "metadata": {
    "slideshow": {
     "slide_type": "fragment"
    },
    "vscode": {
     "languageId": "r"
    }
   },
   "outputs": [],
   "source": [
    "# Generate predictions in the testing dataset using each of the base model\n",
    "M1.predict.test <- predict(M1.trainAll, test_df_selected_lr2, type = \"response\")\n",
    "M2.predict.test <- predict(M2.trainAll, test_df_selected)\n",
    "M3.predict.test <- predict(M3.trainAll, xtest.xgb)\n"
   ]
  },
  {
   "cell_type": "code",
   "execution_count": 117,
   "metadata": {
    "slideshow": {
     "slide_type": "subslide"
    },
    "vscode": {
     "languageId": "r"
    }
   },
   "outputs": [
    {
     "data": {
      "text/html": [
       "<table>\n",
       "<thead><tr><th></th><th scope=col>Revenue</th><th scope=col>M1.predict.test</th><th scope=col>M2.predict.test</th><th scope=col>M3.predict.test</th></tr></thead>\n",
       "<tbody>\n",
       "\t<tr><th scope=row>4</th><td>0           </td><td>0.005228510 </td><td>0.001918005 </td><td>0.0002293094</td></tr>\n",
       "\t<tr><th scope=row>7</th><td>0           </td><td>0.001117646 </td><td>0.001918005 </td><td>0.0004332478</td></tr>\n",
       "\t<tr><th scope=row>11</th><td>0           </td><td>0.023695094 </td><td>0.001918005 </td><td>0.0034430283</td></tr>\n",
       "\t<tr><th scope=row>19</th><td>0           </td><td>0.012619263 </td><td>0.001918005 </td><td>0.0003747865</td></tr>\n",
       "\t<tr><th scope=row>31</th><td>0           </td><td>0.012621107 </td><td>0.001918005 </td><td>0.0003747865</td></tr>\n",
       "\t<tr><th scope=row>34</th><td>0           </td><td>0.016761604 </td><td>0.001918005 </td><td>0.0005558660</td></tr>\n",
       "</tbody>\n",
       "</table>\n"
      ],
      "text/latex": [
       "\\begin{tabular}{r|llll}\n",
       "  & Revenue & M1.predict.test & M2.predict.test & M3.predict.test\\\\\n",
       "\\hline\n",
       "\t4 & 0            & 0.005228510  & 0.001918005  & 0.0002293094\\\\\n",
       "\t7 & 0            & 0.001117646  & 0.001918005  & 0.0004332478\\\\\n",
       "\t11 & 0            & 0.023695094  & 0.001918005  & 0.0034430283\\\\\n",
       "\t19 & 0            & 0.012619263  & 0.001918005  & 0.0003747865\\\\\n",
       "\t31 & 0            & 0.012621107  & 0.001918005  & 0.0003747865\\\\\n",
       "\t34 & 0            & 0.016761604  & 0.001918005  & 0.0005558660\\\\\n",
       "\\end{tabular}\n"
      ],
      "text/markdown": [
       "\n",
       "| <!--/--> | Revenue | M1.predict.test | M2.predict.test | M3.predict.test |\n",
       "|---|---|---|---|---|\n",
       "| 4 | 0            | 0.005228510  | 0.001918005  | 0.0002293094 |\n",
       "| 7 | 0            | 0.001117646  | 0.001918005  | 0.0004332478 |\n",
       "| 11 | 0            | 0.023695094  | 0.001918005  | 0.0034430283 |\n",
       "| 19 | 0            | 0.012619263  | 0.001918005  | 0.0003747865 |\n",
       "| 31 | 0            | 0.012621107  | 0.001918005  | 0.0003747865 |\n",
       "| 34 | 0            | 0.016761604  | 0.001918005  | 0.0005558660 |\n",
       "\n"
      ],
      "text/plain": [
       "   Revenue M1.predict.test M2.predict.test M3.predict.test\n",
       "4  0       0.005228510     0.001918005     0.0002293094   \n",
       "7  0       0.001117646     0.001918005     0.0004332478   \n",
       "11 0       0.023695094     0.001918005     0.0034430283   \n",
       "19 0       0.012619263     0.001918005     0.0003747865   \n",
       "31 0       0.012621107     0.001918005     0.0003747865   \n",
       "34 0       0.016761604     0.001918005     0.0005558660   "
      ]
     },
     "metadata": {},
     "output_type": "display_data"
    }
   ],
   "source": [
    "# Construct the stacker dataframe\n",
    "stacker.df <- data.frame(Revenue = test.df$Revenue, \n",
    "                         M1.predict.test = M1.predict.test, \n",
    "                         M2.predict.test = M2.predict.test,\n",
    "                         M3.predict.test = M3.predict.test)\n",
    "\n",
    "head(stacker.df)"
   ]
  },
  {
   "cell_type": "code",
   "execution_count": 118,
   "metadata": {
    "slideshow": {
     "slide_type": "fragment"
    },
    "vscode": {
     "languageId": "r"
    }
   },
   "outputs": [
    {
     "name": "stdout",
     "output_type": "stream",
     "text": [
      "[13:18:38] WARNING: amalgamation/../src/learner.cc:1095: Starting in XGBoost 1.3.0, the default evaluation metric used with the objective 'binary:logistic' was changed from 'error' to 'logloss'. Explicitly set eval_metric if you'd like to restore the old behavior.\n"
     ]
    }
   ],
   "source": [
    "# Train our best stacker model (i.e., stacker model 2 --- XGBoost)\n",
    "stacker.x.xgb <- model.matrix(~ 0 + ., data = stacker.df[,-1])\n",
    "stacker.y.xgb <- as.vector(stacker.df[,1])\n",
    "\n",
    "stackerModel_2 <- xgboost(stacker.x.xgb, \n",
    "                          stacker.y.xgb,\n",
    "                          max.depth = 2, \n",
    "                          nthread = workers, \n",
    "                          nround = 98, \n",
    "                          objective = \"binary:logistic\",\n",
    "                          verbose = 0)\n"
   ]
  },
  {
   "cell_type": "code",
   "execution_count": 119,
   "metadata": {
    "slideshow": {
     "slide_type": "fragment"
    },
    "vscode": {
     "languageId": "r"
    }
   },
   "outputs": [
    {
     "data": {
      "text/html": [
       "0.67915639554126"
      ],
      "text/latex": [
       "0.67915639554126"
      ],
      "text/markdown": [
       "0.67915639554126"
      ],
      "text/plain": [
       "[1] 0.6791564"
      ]
     },
     "metadata": {},
     "output_type": "display_data"
    }
   ],
   "source": [
    "# Predict from our best model (i.e., stacker model 2 --- XGBoost)\n",
    "predict.variables.xgb <- model.matrix(~ 0 + ., data = stacker.df[, -1])\n",
    "\n",
    "stacker.predict.xgb <- predict(stackerModel_2, predict.variables.xgb)\n",
    "\n",
    "# Score the stacker model's prediction (in testing set)\n",
    "skill.score(stacker.predict.xgb, test_df_selected$Revenue, brier.ref.test) "
   ]
  },
  {
   "cell_type": "markdown",
   "metadata": {
    "slideshow": {
     "slide_type": "slide"
    }
   },
   "source": [
    "# Summary\n",
    "\n",
    "This notebook provides a reference procedure of forecasting default rates for Fannie Mae. <br>\n",
    "<br>\n",
    "We first fit logistic regression(Model1), regression tree(Model2), and XGBoost(Model3) to the training set, and predict the probability of default for the loans in the validation set. <br>\n",
    "\n",
    "Next, we try different ensemble models to combine these base model predictions: weighted average (Model4), regression tree stacking (Model5) and XGBoost stacking (Model6). The accuracy is measured by the Brier Skill Score (higher BSS indicates more accurate predictions).\n",
    "<br>\n",
    "\n",
    "We find that stacking model-XGBoost (Model6) is our best model. Then, we retrain the entire training set using the best model, and generate predictions in the testing set.\n"
   ]
  }
 ],
 "metadata": {
  "celltoolbar": "Slideshow",
  "interpreter": {
   "hash": "5c177cce7702f9e77817ff3fa81881bee4b004e49a61db43ab4f50ff315df2fa"
  },
  "kernelspec": {
   "display_name": "R",
   "language": "R",
   "name": "ir"
  },
  "language_info": {
   "codemirror_mode": "r",
   "file_extension": ".r",
   "mimetype": "text/x-r-source",
   "name": "R",
   "pygments_lexer": "r",
   "version": "3.6.1"
  },
  "latex_envs": {
   "LaTeX_envs_menu_present": true,
   "autocomplete": true,
   "bibliofile": "biblio.bib",
   "cite_by": "apalike",
   "current_citInitial": 1,
   "eqLabelWithNumbers": true,
   "eqNumInitial": 1,
   "hotkeys": {
    "equation": "Ctrl-E",
    "itemize": "Ctrl-I"
   },
   "labels_anchors": false,
   "latex_user_defs": false,
   "report_style_numbering": false,
   "user_envs_cfg": false
  }
 },
 "nbformat": 4,
 "nbformat_minor": 4
}
